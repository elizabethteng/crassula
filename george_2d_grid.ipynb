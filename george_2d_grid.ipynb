{
 "cells": [
  {
   "cell_type": "code",
   "execution_count": 1,
   "metadata": {},
   "outputs": [],
   "source": [
    "import numpy as np\n",
    "from matplotlib import pyplot as plt\n",
    "\n",
    "import os\n",
    "import pickle\n",
    "from time import time\n",
    "from sklearn.decomposition import PCA\n",
    "\n",
    "import george\n",
    "from george import kernels\n",
    "from scipy.optimize import minimize\n",
    "\n",
    "from matplotlib import cm\n",
    "from matplotlib.ticker import LinearLocator, FormatStrFormatter\n",
    "from mpl_toolkits.mplot3d import Axes3D\n",
    "from matplotlib.animation import FuncAnimation\n",
    "\n",
    "import lhsmdu\n",
    "import os\n",
    "import pdspy.modeling as modeling\n",
    "\n",
    "%matplotlib inline"
   ]
  },
  {
   "cell_type": "code",
   "execution_count": 2,
   "metadata": {},
   "outputs": [],
   "source": [
    "directory=\"../grid/2dgrid/\"\n",
    "coords=[[],[]]\n",
    "seds=[]\n",
    "for i in range(len(os.listdir(directory))):\n",
    "    coords[0].append(float(os.listdir(directory)[i].split(\"_\")[(2*0)+1]))\n",
    "    coords[1].append(float(os.listdir(directory)[i].split(\"_\")[(2*3)+1]))\n",
    "    filename=os.listdir(directory)[i]\n",
    "    model=modeling.YSOModel()\n",
    "    model.read_yso(directory+filename)\n",
    "    seds.append(np.log10(model.spectra[\"SED\"].flux))\n",
    "    \n",
    "with open('../grid_metadata/2dgrid_coords.txt', 'wb') as fp:\n",
    "    pickle.dump(coords, fp)\n",
    "with open ('../grid_metadata/2dgrid_coords.txt', 'rb') as fp:\n",
    "    coords = pickle.load(fp)\n",
    "with open('../grid_metadata/2dgrid_seds.txt', 'wb') as fp:\n",
    "    pickle.dump(seds, fp)\n",
    "with open ('../grid_metadata/2dgrid_seds.txt', 'rb') as fp:\n",
    "    cube = np.array(pickle.load(fp))[:,100:500]\n",
    "with open ('../grid_metadata/2dgrid_seds.txt', 'rb') as fp:\n",
    "    nancube = np.array(pickle.load(fp))[:,100:500]\n",
    "with open ('../grid_metadata/xvals.txt', 'rb') as fp:\n",
    "    xvals = pickle.load(fp)[100:500]"
   ]
  },
  {
   "cell_type": "code",
   "execution_count": null,
   "metadata": {},
   "outputs": [],
   "source": [
    "# fix -infs: powerlaw cutoff\n",
    "for i in range(len(cube)):\n",
    "    if -np.inf in cube[i]:\n",
    "        a = cube[i].tolist()\n",
    "        a.reverse()\n",
    "        ind = len(a)-a.index(-np.inf)\n",
    "        x1 = xvals[ind]\n",
    "        y1 = cube[i][ind]\n",
    "        for j in range(ind):\n",
    "            cube[i][j]=(100*(np.log10(xvals[j]/x1)))+y1\n",
    "            \n",
    "# nan cutoff for means            \n",
    "nancube[nancube<-20]=np.nan"
   ]
  },
  {
   "cell_type": "code",
   "execution_count": null,
   "metadata": {},
   "outputs": [],
   "source": [
    "# subtracting from the seds each sample mean\n",
    "seds_msub = cube - np.nanmean(nancube,axis=1)[:,np.newaxis]\n",
    "\n",
    "t0 = time()\n",
    "pca = PCA(n_components=40).fit(seds_msub)\n",
    "print(\"done in %0.3fs\" % (time() - t0))\n",
    "\n",
    "eigenseds=np.array(pca.components_)"
   ]
  },
  {
   "cell_type": "code",
   "execution_count": null,
   "metadata": {},
   "outputs": [],
   "source": [
    "fitdata=[]\n",
    "for i in range(len(cube)):\n",
    "    data=[coords[0][i],coords[1][i]]\n",
    "    coeffs=pca.transform(seds_msub[i].reshape(1,-1))\n",
    "    for j in range(15):\n",
    "        data.append(coeffs[0][j])\n",
    "    fitdata.append(data)\n",
    "fitdata=np.array(fitdata)"
   ]
  },
  {
   "cell_type": "code",
   "execution_count": null,
   "metadata": {},
   "outputs": [],
   "source": [
    "plt.figure(figsize=(9,7))\n",
    "Tstar=fitdata[:,0]\n",
    "logR_disk=fitdata[:,1]\n",
    "w0=fitdata[:,2+0]\n",
    "style = dict(cmap='viridis', vmin=np.min(w0), vmax=np.max(w0))\n",
    "plt.scatter(Tstar,logR_disk, c=w0, s=50, **style)\n",
    "plt.colorbar()\n",
    "plt.show()"
   ]
  },
  {
   "cell_type": "code",
   "execution_count": null,
   "metadata": {},
   "outputs": [],
   "source": [
    "yerr=0.01*np.ones_like(Tstar)\n",
    "kernel = np.var(w0) * kernels.ExpSquaredKernel(900**2,ndim=2,axes=0)* kernels.ExpSquaredKernel(0.5**2,ndim=2,axes=1)\n",
    "gp = george.GP(kernel)\n",
    "gp.compute(np.transpose(coords),yerr)\n",
    "\n",
    "print(\"Initial ln-likelihood: {0:.2f}\".format(gp.log_likelihood(w0)))\n",
    "print(gp.get_parameter_vector())\n",
    "print(np.sqrt(np.exp(gp.get_parameter_vector())))\n",
    "\n",
    "x0pred,x1pred=np.meshgrid(np.linspace(3000, 5000, 100),np.linspace(0, 3, 100))\n",
    "x_pred=list(map(lambda x, y:(x,y), np.ndarray.flatten(x0pred), np.ndarray.flatten(x1pred)))\n",
    "pred, pred_var = gp.predict(w0, x_pred, return_var=True)\n",
    "\n",
    "plt.figure(figsize=(9,7))\n",
    "style = dict(cmap='viridis', vmin=np.min(w0), vmax=np.max(w0))\n",
    "plt.scatter(np.array(x_pred)[:,0], np.array(x_pred)[:,1], c=pred, s=30, **style)\n",
    "plt.colorbar()\n",
    "plt.scatter(x[:, 0], x[:, 1], c=w0, s=50, **style,edgecolors='r')\n",
    "plt.show()"
   ]
  },
  {
   "cell_type": "code",
   "execution_count": null,
   "metadata": {},
   "outputs": [],
   "source": [
    "def neg_ln_like(p):\n",
    "    gp.set_parameter_vector(p)\n",
    "    return -gp.log_likelihood(w0)\n",
    "\n",
    "def grad_neg_ln_like(p):\n",
    "    gp.set_parameter_vector(p)\n",
    "    return -gp.grad_log_likelihood(w0)\n",
    "\n",
    "result = minimize(neg_ln_like, gp.get_parameter_vector(), jac=grad_neg_ln_like)\n",
    "print(result)\n",
    "\n",
    "gp.set_parameter_vector(result.x)\n",
    "print(\"\\nFinal ln-likelihood: {0:.2f}\".format(gp.log_likelihood(w0)))\n",
    "\n",
    "print(np.sqrt(np.exp(gp.get_parameter_vector())))\n",
    "\n",
    "pred, pred_var = gp.predict(w0, x_pred, return_var=True)\n",
    "\n",
    "plt.figure(figsize=(9,7))\n",
    "style = dict(cmap='viridis', vmin=np.min(w0), vmax=np.max(w0))\n",
    "plt.scatter(np.array(x_pred)[:,0], np.array(x_pred)[:,1], c=pred, s=30, **style)\n",
    "plt.colorbar()\n",
    "plt.scatter(x[:, 0], x[:, 1], c=w0, s=50, **style,edgecolors='r')\n",
    "plt.show()"
   ]
  },
  {
   "cell_type": "code",
   "execution_count": null,
   "metadata": {
    "scrolled": false
   },
   "outputs": [],
   "source": [
    "fig = plt.figure(figsize=(16,12))\n",
    "ax = fig.add_subplot(111,projection='3d')\n",
    "\n",
    "# Plot the surface.\n",
    "surf = ax.contour3D(x0pred,x1pred,pred.reshape(100,100),100,cmap=cm.viridis)\n",
    "ax.set_ylabel(\"y axis\")\n",
    "ax.set_xlabel(\"x axis\")\n",
    "ax.view_init(30, 300)\n",
    "plt.show()\n"
   ]
  },
  {
   "cell_type": "code",
   "execution_count": null,
   "metadata": {},
   "outputs": [],
   "source": []
  }
 ],
 "metadata": {
  "kernelspec": {
   "display_name": "Python 3",
   "language": "python",
   "name": "python3"
  },
  "language_info": {
   "codemirror_mode": {
    "name": "ipython",
    "version": 3
   },
   "file_extension": ".py",
   "mimetype": "text/x-python",
   "name": "python",
   "nbconvert_exporter": "python",
   "pygments_lexer": "ipython3",
   "version": "3.7.3"
  }
 },
 "nbformat": 4,
 "nbformat_minor": 1
}
