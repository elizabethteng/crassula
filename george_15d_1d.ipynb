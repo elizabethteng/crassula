{
 "cells": [
  {
   "cell_type": "code",
   "execution_count": 42,
   "metadata": {},
   "outputs": [],
   "source": [
    "import numpy as np\n",
    "from matplotlib import pyplot as plt\n",
    "\n",
    "import os\n",
    "import pickle\n",
    "from time import time\n",
    "from sklearn.decomposition import PCA\n",
    "\n",
    "import george\n",
    "from george import kernels\n",
    "from scipy.optimize import minimize\n",
    "\n",
    "%matplotlib inline"
   ]
  },
  {
   "cell_type": "code",
   "execution_count": 43,
   "metadata": {},
   "outputs": [
    {
     "name": "stdout",
     "output_type": "stream",
     "text": [
      "done in 0.168s\n"
     ]
    }
   ],
   "source": [
    "param_names = [\"Tstar\",\"logL_star\",\"logM_disk\",\"logR_disk\",\"h_0\",\"logR_in\",\\\n",
    "          \"gamma\",\"beta\",\"logM_env\",\"logR_env\",\"f_cav\",\"ksi\",\"loga_max\",\"p\",\"incl\"]\n",
    "    \n",
    "ranges = [[3000.,5000.], [-1,3.],[-8.,-2.], [0.,3.],[0.01,0.5],[-1.,2.5],[0.0,2.0],\\\n",
    "        [0.5,2.0],[-8.,-2.],[2.5,4.], [0.,1.], [0.5,1.5],[0.,5.],[2.5,4.5],[0.,90.]]\n",
    "steps=[]\n",
    "for i in range(len(ranges)):\n",
    "    steps.append(np.linspace(ranges[i][0],ranges[i][1],11))\n",
    "\n",
    "sl=[]\n",
    "for i in range(11):\n",
    "    x=[steps[0][i]]\n",
    "    for j in range(len(ranges)-1):\n",
    "        x.append(steps[j+1][5])\n",
    "    sl.append(x)\n",
    "    \n",
    "dictionary=np.load(\"../grid_metadata/dictionary.npy\")\n",
    "    \n",
    "# training set - read in filenames and logspace flux values\n",
    "with open ('../grid_metadata/corefull.txt', 'rb') as fp:\n",
    "    core= pickle.load(fp)[100:500]\n",
    "with open ('../grid_metadata/cubefull.txt', 'rb') as fp:\n",
    "    cube = np.array(pickle.load(fp))[:,100:500]\n",
    "with open ('../grid_metadata/cubefull.txt', 'rb') as fp:\n",
    "    nancube = np.array(pickle.load(fp))[:,100:500]    \n",
    "    \n",
    "# x values (wavelengths) - 500 values, in normal space\n",
    "with open ('../grid_metadata/xvals.txt', 'rb') as fp:\n",
    "    xvals = pickle.load(fp)[100:500]\n",
    "    \n",
    "# fix -infs: powerlaw cutoff\n",
    "for i in range(len(cube)):\n",
    "    if -np.inf in cube[i]:\n",
    "        a = cube[i].tolist()\n",
    "        a.reverse()\n",
    "        ind = len(a)-a.index(-np.inf)\n",
    "        x1 = xvals[ind]\n",
    "        y1 = cube[i][ind]\n",
    "        for j in range(ind):\n",
    "            cube[i][j]=(100*(np.log10(xvals[j]/x1)))+y1\n",
    "            \n",
    "# nan cutoff for means            \n",
    "nancube[nancube<-20]=np.nan\n",
    "\n",
    "# subtracting from the seds each sample mean\n",
    "seds_msub = cube - np.nanmean(nancube,axis=1)[:,np.newaxis]\n",
    "\n",
    "t0 = time()\n",
    "pca = PCA(n_components=40).fit(seds_msub)\n",
    "print(\"done in %0.3fs\" % (time() - t0))\n",
    "\n",
    "eigenseds=np.array(pca.components_)\n",
    "\n",
    "fitdata=[]\n",
    "\n",
    "for i in range(len(cube)):\n",
    "    modeldata=[]\n",
    "    coeffs=pca.transform(seds_msub[i].reshape(1,-1))\n",
    "    for k in range(18):\n",
    "        modeldata.append(coeffs[0][k])\n",
    "    fitdata.append(modeldata)\n",
    "    \n",
    "def load_pcwpar(weight):\n",
    "    p=[]\n",
    "    w=[]\n",
    "    for i in range(len(cube)):\n",
    "        pars=[]\n",
    "        for j in range(len(param_names)):\n",
    "            pars.append(dictionary[i][param_names[j]])\n",
    "        p.append(pars)\n",
    "        w.append(fitdata[i][weight])\n",
    "    \n",
    "    return p,w"
   ]
  },
  {
   "cell_type": "code",
   "execution_count": 44,
   "metadata": {},
   "outputs": [],
   "source": [
    "X, y = load_pcwpar(0)\n",
    "yerr=[x*0.01 for x in y]"
   ]
  },
  {
   "cell_type": "code",
   "execution_count": 45,
   "metadata": {},
   "outputs": [],
   "source": [
    "kernel = np.var(y) * kernels.ExpSquaredKernel(900**2,ndim=15,axes=0)*\\\n",
    "        kernels.ExpSquaredKernel(1**2,ndim=15,axes=1)*\\\n",
    "        kernels.ExpSquaredKernel(1**2,ndim=15,axes=2)*\\\n",
    "        kernels.ExpSquaredKernel(0.8**2,ndim=15,axes=3)*\\\n",
    "        kernels.ExpSquaredKernel(0.08**2,ndim=15,axes=4)*\\\n",
    "        kernels.ExpSquaredKernel(0.5**2,ndim=15,axes=5)*\\\n",
    "        kernels.ExpSquaredKernel(1**2,ndim=15,axes=6)*\\\n",
    "        kernels.ExpSquaredKernel(0.2**2,ndim=15,axes=7)*\\\n",
    "        kernels.ExpSquaredKernel(0.5**2,ndim=15,axes=8)*\\\n",
    "        kernels.ExpSquaredKernel(0.2**2,ndim=15,axes=9)*\\\n",
    "        kernels.ExpSquaredKernel(0.25**2,ndim=15,axes=10)*\\\n",
    "        kernels.ExpSquaredKernel(0.25**2,ndim=15,axes=11)*\\\n",
    "        kernels.ExpSquaredKernel(0.5**2,ndim=15,axes=12)*\\\n",
    "        kernels.ExpSquaredKernel(0.4**2,ndim=15,axes=13)*\\\n",
    "        kernels.ExpSquaredKernel(5**2,ndim=15,axes=14) \n",
    "\n",
    "gp = george.GP(kernel)\n",
    "gp.compute(X,yerr)"
   ]
  },
  {
   "cell_type": "code",
   "execution_count": 46,
   "metadata": {},
   "outputs": [
    {
     "data": {
      "text/plain": [
       "array([ 6.33043192, 13.60478953,  0.        ,  0.        , -0.4462871 ,\n",
       "       -5.05145729, -1.38629436,  0.        , -3.21887582, -1.38629436,\n",
       "       -3.21887582, -2.77258872, -2.77258872, -1.38629436, -1.83258146,\n",
       "        3.21887582])"
      ]
     },
     "execution_count": 46,
     "metadata": {},
     "output_type": "execute_result"
    }
   ],
   "source": [
    "gp.get_parameter_vector()"
   ]
  },
  {
   "cell_type": "code",
   "execution_count": 47,
   "metadata": {
    "scrolled": true
   },
   "outputs": [
    {
     "data": {
      "text/plain": [
       "array([ 23.69386046, 900.        ,   1.        ,   1.        ,\n",
       "         0.8       ,   0.08      ,   0.5       ,   1.        ,\n",
       "         0.2       ,   0.5       ,   0.2       ,   0.25      ,\n",
       "         0.25      ,   0.5       ,   0.4       ,   5.        ])"
      ]
     },
     "execution_count": 47,
     "metadata": {},
     "output_type": "execute_result"
    }
   ],
   "source": [
    "np.set_printoptions(suppress=True)\n",
    "np.sqrt(np.exp(gp.get_parameter_vector()))\n",
    "# check lengthscales from hyperparameter values"
   ]
  },
  {
   "cell_type": "code",
   "execution_count": 50,
   "metadata": {},
   "outputs": [
    {
     "data": {
      "text/plain": [
       "[<matplotlib.lines.Line2D at 0x7ff0f2ba7128>]"
      ]
     },
     "execution_count": 50,
     "metadata": {},
     "output_type": "execute_result"
    },
    {
     "data": {
      "image/png": "[encoded data removed]",
      "text/plain": [
       "<Figure size 432x288 with 1 Axes>"
      ]
     },
     "metadata": {
      "needs_background": "light"
     },
     "output_type": "display_data"
    }
   ],
   "source": [
    "pred, pred_var = gp.predict(y, sl, return_var=True)\n",
    "plt.fill_between(np.array(sl)[:,0], pred - np.sqrt(pred_var), pred + np.sqrt(pred_var),\n",
    "                color=\"b\", alpha=0.2)\n",
    "plt.plot(np.array(sl)[:,0], pred, \"r\", lw=1.5, alpha=0.5)"
   ]
  },
  {
   "cell_type": "code",
   "execution_count": 40,
   "metadata": {},
   "outputs": [
    {
     "name": "stdout",
     "output_type": "stream",
     "text": [
      "Initial ln-likelihood: -22854.75\n"
     ]
    }
   ],
   "source": [
    "print(\"Initial ln-likelihood: {0:.2f}\".format(gp.log_likelihood(y)))"
   ]
  },
  {
   "cell_type": "code",
   "execution_count": 22,
   "metadata": {
    "scrolled": true
   },
   "outputs": [
    {
     "name": "stdout",
     "output_type": "stream",
     "text": [
      "      fun: 17091.42452836227\n",
      " hess_inv: array([[ 2.28821594e-03,  1.98620809e-03,  1.03752672e-03,\n",
      "         1.12207660e-03,  8.18761938e-04,  9.44088928e-04,\n",
      "         1.15921343e-03,  2.52156005e+02,  1.41560419e-03,\n",
      "         9.04795519e-04,  4.06522343e-04,  5.38134705e-04,\n",
      "        -5.87448457e-04,  1.14207653e-03,  7.34656411e-04,\n",
      "         1.02803001e-03],\n",
      "       [ 1.98620809e-03,  2.31516686e-01,  8.93055592e-04,\n",
      "         6.18155190e-03, -9.74060235e-03, -9.07053712e-03,\n",
      "        -2.91662681e-03, -2.13474578e+03, -8.09775949e-03,\n",
      "        -1.51823154e-03,  5.68521575e-03,  6.22833323e-03,\n",
      "         3.45490615e-03, -9.30906054e-03, -7.03271759e-03,\n",
      "        -5.79435041e-03],\n",
      "       [ 1.03752672e-03,  8.93055592e-04,  6.27970996e-03,\n",
      "         5.67413311e-04, -5.80235963e-04, -1.24501487e-03,\n",
      "        -6.04096074e-04,  3.71297000e+02, -3.41745783e-04,\n",
      "         2.31763763e-05, -1.33529122e-04,  9.93689931e-04,\n",
      "        -3.95822187e-05,  1.04645023e-03, -6.06473090e-04,\n",
      "         1.82259056e-04],\n",
      "       [ 1.12207660e-03,  6.18155190e-03,  5.67413311e-04,\n",
      "         1.34548379e-02, -4.68928872e-04,  2.17413580e-04,\n",
      "         2.83851594e-04,  6.48661193e+02, -2.90812292e-03,\n",
      "        -1.75488917e-05, -2.09542697e-04,  5.81952587e-04,\n",
      "        -1.78275984e-03,  3.02561631e-04, -3.25598843e-03,\n",
      "        -4.34128601e-04],\n",
      "       [ 8.18761938e-04, -9.74060235e-03, -5.80235963e-04,\n",
      "        -4.68928872e-04,  5.55002752e-03,  2.31675688e-03,\n",
      "         3.68522011e-04,  4.82198195e+00,  5.30872991e-04,\n",
      "         4.40805357e-05, -8.66363187e-04, -8.02765652e-04,\n",
      "        -3.18564939e-04, -1.23909585e-03, -1.95651817e-04,\n",
      "        -8.07766506e-04],\n",
      "       [ 9.44088928e-04, -9.07053712e-03, -1.24501487e-03,\n",
      "         2.17413580e-04,  2.31675688e-03,  3.08075112e-02,\n",
      "         2.32721575e-04,  5.27176989e+02, -8.73145577e-04,\n",
      "         1.50204512e-04, -1.00761547e-03, -1.58976138e-03,\n",
      "        -8.38943070e-03,  1.03055235e-03,  1.83702742e-03,\n",
      "        -4.21742557e-03],\n",
      "       [ 1.15921343e-03, -2.91662681e-03, -6.04096074e-04,\n",
      "         2.83851594e-04,  3.68522011e-04,  2.32721575e-04,\n",
      "         9.81444787e-03, -6.09670267e+02,  1.33951125e-03,\n",
      "         1.05888996e-03, -2.95219311e-04, -1.68668040e-03,\n",
      "        -7.37215475e-03,  8.40771235e-04,  2.69485803e-03,\n",
      "         7.87733286e-04],\n",
      "       [ 2.52156005e+02, -2.13474578e+03,  3.71297000e+02,\n",
      "         6.48661193e+02,  4.82198195e+00,  5.27176989e+02,\n",
      "        -6.09670267e+02,  1.86971033e+10,  1.01626091e+02,\n",
      "        -4.81773528e+02, -4.08222858e+02,  8.10087501e+02,\n",
      "         1.44526692e+03, -2.55675636e+02,  3.86667062e+03,\n",
      "        -2.14630416e+03],\n",
      "       [ 1.41560419e-03, -8.09775949e-03, -3.41745783e-04,\n",
      "        -2.90812292e-03,  5.30872991e-04, -8.73145577e-04,\n",
      "         1.33951125e-03,  1.01626091e+02,  2.24972240e-02,\n",
      "         9.17876964e-04, -1.32721067e-03, -9.85136687e-04,\n",
      "        -5.35074109e-03, -1.96529059e-03,  1.27824718e-04,\n",
      "         2.54967440e-03],\n",
      "       [ 9.04795519e-04, -1.51823154e-03,  2.31763763e-05,\n",
      "        -1.75488917e-05,  4.40805357e-05,  1.50204512e-04,\n",
      "         1.05888996e-03, -4.81773528e+02,  9.17876964e-04,\n",
      "         2.68147750e-03, -1.58445644e-04, -8.89977151e-04,\n",
      "        -2.68459841e-03,  1.15002763e-03,  1.03061848e-03,\n",
      "         3.77019699e-04],\n",
      "       [ 4.06522343e-04,  5.68521575e-03, -1.33529122e-04,\n",
      "        -2.09542697e-04, -8.66363187e-04, -1.00761547e-03,\n",
      "        -2.95219311e-04, -4.08222858e+02, -1.32721067e-03,\n",
      "        -1.58445644e-04,  4.35243562e-03, -1.39138532e-04,\n",
      "        -1.59888140e-03, -2.11826919e-03, -6.20122479e-04,\n",
      "        -1.01253134e-03],\n",
      "       [ 5.38134705e-04,  6.22833323e-03,  9.93689931e-04,\n",
      "         5.81952587e-04, -8.02765652e-04, -1.58976138e-03,\n",
      "        -1.68668040e-03,  8.10087501e+02, -9.85136687e-04,\n",
      "        -8.89977151e-04, -1.39138532e-04,  5.76896175e-03,\n",
      "         1.57677698e-03, -8.00253926e-04, -2.94368788e-03,\n",
      "        -7.13750986e-04],\n",
      "       [-5.87448457e-04,  3.45490615e-03, -3.95822187e-05,\n",
      "        -1.78275984e-03, -3.18564939e-04, -8.38943070e-03,\n",
      "        -7.37215475e-03,  1.44526692e+03, -5.35074109e-03,\n",
      "        -2.68459841e-03, -1.59888140e-03,  1.57677698e-03,\n",
      "         4.18298876e-02, -3.43104586e-03, -6.76373576e-03,\n",
      "        -2.05292421e-03],\n",
      "       [ 1.14207653e-03, -9.30906054e-03,  1.04645023e-03,\n",
      "         3.02561631e-04, -1.23909585e-03,  1.03055235e-03,\n",
      "         8.40771235e-04, -2.55675636e+02, -1.96529059e-03,\n",
      "         1.15002763e-03, -2.11826919e-03, -8.00253926e-04,\n",
      "        -3.43104586e-03,  3.67179797e-02,  1.78083597e-03,\n",
      "         7.21924553e-04],\n",
      "       [ 7.34656411e-04, -7.03271759e-03, -6.06473090e-04,\n",
      "        -3.25598843e-03, -1.95651817e-04,  1.83702742e-03,\n",
      "         2.69485803e-03,  3.86667062e+03,  1.27824718e-04,\n",
      "         1.03061848e-03, -6.20122479e-04, -2.94368788e-03,\n",
      "        -6.76373576e-03,  1.78083597e-03,  2.59502537e-02,\n",
      "        -3.29406817e-04],\n",
      "       [ 1.02803001e-03, -5.79435041e-03,  1.82259056e-04,\n",
      "        -4.34128601e-04, -8.07766506e-04, -4.21742557e-03,\n",
      "         7.87733286e-04, -2.14630416e+03,  2.54967440e-03,\n",
      "         3.77019699e-04, -1.01253134e-03, -7.13750986e-04,\n",
      "        -2.05292421e-03,  7.21924553e-04, -3.29406817e-04,\n",
      "         1.53210305e-02]])\n",
      "      jac: array([-0.0000118 ,  0.00000076, -0.00000067, -0.0000018 ,  0.00000405,\n",
      "        0.00000061,  0.000002  , -0.        ,  0.00000225, -0.00000026,\n",
      "        0.00000463, -0.00000145, -0.00000067,  0.00000178, -0.00000353,\n",
      "       -0.00000439])\n",
      "  message: 'Desired error not necessarily achieved due to precision loss.'\n",
      "     nfev: 171\n",
      "      nit: 78\n",
      "     njev: 159\n",
      "   status: 2\n",
      "  success: False\n",
      "        x: array([ 5.86184693, 19.72562225,  2.50010536,  4.24438434,  0.30312171,\n",
      "       -0.03949344,  2.0730903 , 32.64337143,  2.1866927 , -0.45700652,\n",
      "       -1.72473768, -1.57436   ,  1.06882873,  5.54901172,  3.18680739,\n",
      "        9.79740934])\n",
      "\n",
      "Final ln-likelihood: -17091.42\n",
      "done in 7870.136s\n"
     ]
    }
   ],
   "source": [
    "def neg_ln_like(p):\n",
    "    gp.set_parameter_vector(p)\n",
    "    return -gp.log_likelihood(y)\n",
    "\n",
    "def grad_neg_ln_like(p):\n",
    "    gp.set_parameter_vector(p)\n",
    "    return -gp.grad_log_likelihood(y)\n",
    "\n",
    "t0=time()\n",
    "\n",
    "result = minimize(neg_ln_like, gp.get_parameter_vector(), jac=grad_neg_ln_like)\n",
    "print(result)\n",
    "\n",
    "gp.set_parameter_vector(result.x)\n",
    "print(\"\\nFinal ln-likelihood: {0:.2f}\".format(gp.log_likelihood(y)))\n",
    "\n",
    "print(\"done in %0.3fs\" % (time() - t0))"
   ]
  },
  {
   "cell_type": "code",
   "execution_count": 23,
   "metadata": {},
   "outputs": [
    {
     "data": {
      "text/plain": [
       "array([      18.7449328 ,    19202.79513449,        3.49052684,\n",
       "              8.34942077,        1.16364912,        0.98044697,\n",
       "              2.81945936, 12257955.53366096,        2.98424371,\n",
       "              0.7957237 ,        0.42216087,        0.45512644,\n",
       "              1.70644859,       16.0307036 ,        4.92046822,\n",
       "            134.11594289])"
      ]
     },
     "execution_count": 23,
     "metadata": {},
     "output_type": "execute_result"
    }
   ],
   "source": [
    "np.sqrt(np.exp(gp.get_parameter_vector())) # check lengthscales from hyperparameter values"
   ]
  },
  {
   "cell_type": "code",
   "execution_count": 24,
   "metadata": {},
   "outputs": [
    {
     "data": {
      "text/plain": [
       "[<matplotlib.lines.Line2D at 0x7ff0f2a95c88>]"
      ]
     },
     "execution_count": 24,
     "metadata": {},
     "output_type": "execute_result"
    },
    {
     "data": {
      "image/png": "[encoded data removed]",
      "text/plain": [
       "<Figure size 432x288 with 1 Axes>"
      ]
     },
     "metadata": {
      "needs_background": "light"
     },
     "output_type": "display_data"
    }
   ],
   "source": [
    "pred, pred_var = gp.predict(y, sl, return_var=True)\n",
    "\n",
    "plt.fill_between(np.array(sl)[:,0], pred - np.sqrt(pred_var), pred + np.sqrt(pred_var),\n",
    "                color=\"b\", alpha=0.2)\n",
    "plt.plot(np.array(sl)[:,0], pred, \"r\", lw=1.5, alpha=0.5)"
   ]
  },
  {
   "cell_type": "code",
   "execution_count": null,
   "metadata": {},
   "outputs": [],
   "source": []
  },
  {
   "cell_type": "code",
   "execution_count": 25,
   "metadata": {},
   "outputs": [],
   "source": [
    "X, y = load_pcwpar(1)\n",
    "yerr=[x*0.01 for x in y]"
   ]
  },
  {
   "cell_type": "code",
   "execution_count": 26,
   "metadata": {},
   "outputs": [],
   "source": [
    "kernel = kernels.ExpSquaredKernel(900**2,ndim=15,axes=0)*\\\n",
    "        kernels.ExpSquaredKernel(1**2,ndim=15,axes=1)*\\\n",
    "        kernels.ExpSquaredKernel(1**2,ndim=15,axes=2)*\\\n",
    "        kernels.ExpSquaredKernel(0.8**2,ndim=15,axes=3)*\\\n",
    "        kernels.ExpSquaredKernel(0.08**2,ndim=15,axes=4)*\\\n",
    "        kernels.ExpSquaredKernel(0.5**2,ndim=15,axes=5)*\\\n",
    "        kernels.ExpSquaredKernel(1**2,ndim=15,axes=6)*\\\n",
    "        kernels.ExpSquaredKernel(0.2**2,ndim=15,axes=7)*\\\n",
    "        kernels.ExpSquaredKernel(0.5**2,ndim=15,axes=8)*\\\n",
    "        kernels.ExpSquaredKernel(0.2**2,ndim=15,axes=9)*\\\n",
    "        kernels.ExpSquaredKernel(0.25**2,ndim=15,axes=10)*\\\n",
    "        kernels.ExpSquaredKernel(0.25**2,ndim=15,axes=11)*\\\n",
    "        kernels.ExpSquaredKernel(0.5**2,ndim=15,axes=12)*\\\n",
    "        kernels.ExpSquaredKernel(0.4**2,ndim=15,axes=13)*\\\n",
    "        kernels.ExpSquaredKernel(5**2,ndim=15,axes=14) * np.var(y)\n",
    "\n",
    "gp = george.GP(kernel)\n",
    "gp.compute(X,yerr)"
   ]
  },
  {
   "cell_type": "code",
   "execution_count": 27,
   "metadata": {},
   "outputs": [
    {
     "data": {
      "text/plain": [
       "[<matplotlib.lines.Line2D at 0x7ff0f2b037f0>]"
      ]
     },
     "execution_count": 27,
     "metadata": {},
     "output_type": "execute_result"
    },
    {
     "data": {
      "image/png": "[encoded data removed]",
      "text/plain": [
       "<Figure size 432x288 with 1 Axes>"
      ]
     },
     "metadata": {
      "needs_background": "light"
     },
     "output_type": "display_data"
    }
   ],
   "source": [
    "sl=[]\n",
    "for i in range(11):\n",
    "    x=[steps[0][5],steps[1][i]]\n",
    "    for j in range(len(ranges)-2):\n",
    "        x.append(steps[j+2][5])\n",
    "    sl.append(x)\n",
    "\n",
    "pred, pred_var = gp.predict(y, sl, return_var=True)\n",
    "plt.fill_between(np.array(sl)[:,1], pred - np.sqrt(pred_var), pred + np.sqrt(pred_var),\n",
    "                color=\"b\", alpha=0.2)\n",
    "plt.plot(np.array(sl)[:,1], pred, \"r\", lw=1.5, alpha=0.5)\n",
    "\n"
   ]
  },
  {
   "cell_type": "code",
   "execution_count": 28,
   "metadata": {},
   "outputs": [
    {
     "name": "stdout",
     "output_type": "stream",
     "text": [
      "Initial ln-likelihood: -16438.10\n"
     ]
    }
   ],
   "source": [
    "print(\"Initial ln-likelihood: {0:.2f}\".format(gp.log_likelihood(y)))"
   ]
  },
  {
   "cell_type": "code",
   "execution_count": 29,
   "metadata": {
    "scrolled": true
   },
   "outputs": [
    {
     "name": "stdout",
     "output_type": "stream",
     "text": [
      "      fun: 13714.377924886961\n",
      " hess_inv: array([[ 0.00268967,  0.00220187,  0.00094883,  0.00064689,  0.00127546,\n",
      "         0.00089503,  0.00200017,  0.00143001,  0.00070695,  0.00087902,\n",
      "         0.00096636,  0.00150511,  0.00044871,  0.00154111,  0.00039384,\n",
      "         0.00088915],\n",
      "       [ 0.00220187,  0.22123354,  0.0037406 ,  0.00083396, -0.00233175,\n",
      "        -0.00610359,  0.00824414, -0.02113534, -0.00616627, -0.00009192,\n",
      "        -0.00213478,  0.00188037, -0.00946137,  0.00573871, -0.00458147,\n",
      "        -0.00312615],\n",
      "       [ 0.00094883,  0.0037406 ,  0.00632345, -0.00048708,  0.00013381,\n",
      "        -0.00024703, -0.000161  , -0.0027508 , -0.00157909, -0.00018741,\n",
      "        -0.0004211 ,  0.00073012, -0.0004608 , -0.00016105,  0.00328027,\n",
      "        -0.00130121],\n",
      "       [ 0.00064689,  0.00083396, -0.00048708,  0.00763585,  0.00016329,\n",
      "         0.00061195, -0.00064015, -0.00191462, -0.00168347,  0.00067109,\n",
      "         0.00019857, -0.00041503,  0.00068775, -0.0023865 , -0.00292335,\n",
      "        -0.0012765 ],\n",
      "       [ 0.00127546, -0.00233175,  0.00013381,  0.00016329,  0.00596944,\n",
      "        -0.00033121, -0.00009278, -0.0005976 ,  0.00023931, -0.0005522 ,\n",
      "         0.00005012,  0.00059992, -0.0019378 ,  0.00132476, -0.00034512,\n",
      "         0.00040136],\n",
      "       [ 0.00089503, -0.00610359, -0.00024703,  0.00061195, -0.00033121,\n",
      "         0.03491802, -0.0008823 ,  0.00511189,  0.00399964, -0.00013724,\n",
      "        -0.00275917, -0.00462314,  0.00256422, -0.00664898,  0.00291425,\n",
      "        -0.00168162],\n",
      "       [ 0.00200017,  0.00824414, -0.000161  , -0.00064015, -0.00009278,\n",
      "        -0.0008823 ,  0.02548729, -0.00219276, -0.00172255, -0.00081105,\n",
      "        -0.00085209,  0.0017815 , -0.00292782, -0.00420491, -0.00818791,\n",
      "         0.00130383],\n",
      "       [ 0.00143001, -0.02113534, -0.0027508 , -0.00191462, -0.0005976 ,\n",
      "         0.00511189, -0.00219276,  0.07340888,  0.00368985, -0.00066312,\n",
      "        -0.00270023, -0.00275949, -0.0002107 , -0.00730653, -0.00558904,\n",
      "         0.00634635],\n",
      "       [ 0.00070695, -0.00616627, -0.00157909, -0.00168347,  0.00023931,\n",
      "         0.00399964, -0.00172255,  0.00368985,  0.02418731, -0.00068441,\n",
      "        -0.00163822, -0.0017761 ,  0.00136996, -0.0014405 , -0.0051624 ,\n",
      "         0.00155519],\n",
      "       [ 0.00087902, -0.00009192, -0.00018741,  0.00067109, -0.0005522 ,\n",
      "        -0.00013724, -0.00081105, -0.00066312, -0.00068441,  0.00547141,\n",
      "         0.00023254, -0.0006791 , -0.00143518, -0.00104055, -0.00297698,\n",
      "        -0.00234875],\n",
      "       [ 0.00096636, -0.00213478, -0.0004211 ,  0.00019857,  0.00005012,\n",
      "        -0.00275917, -0.00085209, -0.00270023, -0.00163822,  0.00023254,\n",
      "         0.00550433,  0.00073773, -0.00266726,  0.00204967, -0.00120943,\n",
      "        -0.00104065],\n",
      "       [ 0.00150511,  0.00188037,  0.00073012, -0.00041503,  0.00059992,\n",
      "        -0.00462314,  0.0017815 , -0.00275949, -0.0017761 , -0.0006791 ,\n",
      "         0.00073773,  0.00869117, -0.00143593,  0.00165995, -0.00186084,\n",
      "        -0.00140425],\n",
      "       [ 0.00044871, -0.00946137, -0.0004608 ,  0.00068775, -0.0019378 ,\n",
      "         0.00256422, -0.00292782, -0.0002107 ,  0.00136996, -0.00143518,\n",
      "        -0.00266726, -0.00143593,  0.07392993, -0.00548163, -0.00243507,\n",
      "        -0.0024126 ],\n",
      "       [ 0.00154111,  0.00573871, -0.00016105, -0.0023865 ,  0.00132476,\n",
      "        -0.00664898, -0.00420491, -0.00730653, -0.0014405 , -0.00104055,\n",
      "         0.00204967,  0.00165995, -0.00548163,  0.04377614,  0.00279388,\n",
      "        -0.00135895],\n",
      "       [ 0.00039384, -0.00458147,  0.00328027, -0.00292335, -0.00034512,\n",
      "         0.00291425, -0.00818791, -0.00558904, -0.0051624 , -0.00297698,\n",
      "        -0.00120943, -0.00186084, -0.00243507,  0.00279388,  0.11495131,\n",
      "        -0.00465286],\n",
      "       [ 0.00088915, -0.00312615, -0.00130121, -0.0012765 ,  0.00040136,\n",
      "        -0.00168162,  0.00130383,  0.00634635,  0.00155519, -0.00234875,\n",
      "        -0.00104065, -0.00140425, -0.0024126 , -0.00135895, -0.00465286,\n",
      "         0.02101525]])\n",
      "      jac: array([-0.00000655,  0.00000034, -0.00000354, -0.00000007, -0.00000168,\n",
      "       -0.00000002,  0.00000208,  0.00000123, -0.0000017 , -0.00000575,\n",
      "       -0.00000493, -0.00000195, -0.00000022, -0.00000008, -0.00000087,\n",
      "       -0.00000343])\n",
      "  message: 'Optimization terminated successfully.'\n",
      "     nfev: 70\n",
      "      nit: 47\n",
      "     njev: 70\n",
      "   status: 0\n",
      "  success: True\n",
      "        x: array([ 3.33652017, 18.85104065,  1.43582699,  3.0219019 ,  0.22885073,\n",
      "       -0.13407517,  2.36486895,  3.38621358,  1.73813587, -1.06530162,\n",
      "       -1.9976387 , -1.41746247,  2.06258713,  4.83291536,  3.95183091,\n",
      "        9.32779508])\n",
      "\n",
      "Final ln-likelihood: -13714.38\n",
      "done in 3556.297s\n"
     ]
    }
   ],
   "source": [
    "def neg_ln_like(p):\n",
    "    gp.set_parameter_vector(p)\n",
    "    return -gp.log_likelihood(y)\n",
    "\n",
    "def grad_neg_ln_like(p):\n",
    "    gp.set_parameter_vector(p)\n",
    "    return -gp.grad_log_likelihood(y)\n",
    "\n",
    "t0=time()\n",
    "\n",
    "result = minimize(neg_ln_like, gp.get_parameter_vector(), jac=grad_neg_ln_like)\n",
    "print(result)\n",
    "\n",
    "gp.set_parameter_vector(result.x)\n",
    "print(\"\\nFinal ln-likelihood: {0:.2f}\".format(gp.log_likelihood(y)))\n",
    "\n",
    "print(\"done in %0.3fs\" % (time() - t0))"
   ]
  },
  {
   "cell_type": "code",
   "execution_count": 30,
   "metadata": {},
   "outputs": [
    {
     "data": {
      "text/plain": [
       "[<matplotlib.lines.Line2D at 0x7ff0f2a7bfd0>]"
      ]
     },
     "execution_count": 30,
     "metadata": {},
     "output_type": "execute_result"
    },
    {
     "data": {
      "image/png": "[encoded data removed]",
      "text/plain": [
       "<Figure size 432x288 with 1 Axes>"
      ]
     },
     "metadata": {
      "needs_background": "light"
     },
     "output_type": "display_data"
    }
   ],
   "source": [
    "pred, pred_var = gp.predict(y, sl, return_var=True)\n",
    "plt.fill_between(np.array(sl)[:,1], pred - np.sqrt(pred_var), pred + np.sqrt(pred_var),\n",
    "                color=\"b\", alpha=0.2)\n",
    "plt.plot(np.array(sl)[:,1], pred, \"r\", lw=1.5, alpha=0.5)"
   ]
  },
  {
   "cell_type": "code",
   "execution_count": 31,
   "metadata": {},
   "outputs": [
    {
     "data": {
      "text/plain": [
       "array([    5.30293311, 12400.85034293,     2.05015109,     4.53103753,\n",
       "           1.12122896,     0.93516005,     3.26230654,     5.43634409,\n",
       "           2.38468713,     0.58704676,     0.36831404,     0.49226837,\n",
       "           2.80469154,    11.20609338,     7.21322   ,   106.04860638])"
      ]
     },
     "execution_count": 31,
     "metadata": {},
     "output_type": "execute_result"
    }
   ],
   "source": [
    "np.sqrt(np.exp(gp.get_parameter_vector())) # check lengthscales from hyperparameter values"
   ]
  },
  {
   "cell_type": "code",
   "execution_count": 55,
   "metadata": {},
   "outputs": [],
   "source": [
    "X, y = load_pcwpar(4)\n",
    "yerr=[x*0.01 for x in y]"
   ]
  },
  {
   "cell_type": "code",
   "execution_count": 56,
   "metadata": {},
   "outputs": [],
   "source": [
    "kernel = kernels.ExpSquaredKernel(900**2,ndim=15,axes=0)*\\\n",
    "        kernels.ExpSquaredKernel(1**2,ndim=15,axes=1)*\\\n",
    "        kernels.ExpSquaredKernel(1**2,ndim=15,axes=2)*\\\n",
    "        kernels.ExpSquaredKernel(0.8**2,ndim=15,axes=3)*\\\n",
    "        kernels.ExpSquaredKernel(0.08**2,ndim=15,axes=4)*\\\n",
    "        kernels.ExpSquaredKernel(0.5**2,ndim=15,axes=5)*\\\n",
    "        kernels.ExpSquaredKernel(1**2,ndim=15,axes=6)*\\\n",
    "        kernels.ExpSquaredKernel(0.2**2,ndim=15,axes=7)*\\\n",
    "        kernels.ExpSquaredKernel(0.5**2,ndim=15,axes=8)*\\\n",
    "        kernels.ExpSquaredKernel(0.2**2,ndim=15,axes=9)*\\\n",
    "        kernels.ExpSquaredKernel(0.25**2,ndim=15,axes=10)*\\\n",
    "        kernels.ExpSquaredKernel(0.25**2,ndim=15,axes=11)*\\\n",
    "        kernels.ExpSquaredKernel(0.5**2,ndim=15,axes=12)*\\\n",
    "        kernels.ExpSquaredKernel(0.4**2,ndim=15,axes=13)*\\\n",
    "        kernels.ExpSquaredKernel(5**2,ndim=15,axes=14) * np.var(y)\n",
    "\n",
    "gp = george.GP(kernel)\n",
    "gp.compute(X,yerr)"
   ]
  },
  {
   "cell_type": "code",
   "execution_count": 53,
   "metadata": {},
   "outputs": [],
   "source": [
    "bases=[4000.0, 1.0, -5.0, 1.5, 0.255, 0.75, 1.0, 1.25, -5.0, 3.25, 0.5, 1.0, 2.5, 3.5, 45.0]\n",
    "\n",
    "sl=[]\n",
    "for i in range(15):\n",
    "    sl.append(bases[i]*np.ones(11))\n",
    "sl[6]=steps[6]\n",
    "sl=np.transpose(sl)"
   ]
  },
  {
   "cell_type": "code",
   "execution_count": 59,
   "metadata": {},
   "outputs": [
    {
     "data": {
      "text/plain": [
       "[<matplotlib.lines.Line2D at 0x7ff0f2848390>]"
      ]
     },
     "execution_count": 59,
     "metadata": {},
     "output_type": "execute_result"
    },
    {
     "data": {
      "image/png": "[encoded data removed]",
      "text/plain": [
       "<Figure size 432x288 with 1 Axes>"
      ]
     },
     "metadata": {
      "needs_background": "light"
     },
     "output_type": "display_data"
    }
   ],
   "source": [
    "pred, pred_var = gp.predict(y, sl, return_var=True)\n",
    "plt.fill_between(np.array(sl)[:,6], pred - np.sqrt(pred_var), pred + np.sqrt(pred_var),\n",
    "                color=\"b\", alpha=0.2)\n",
    "plt.plot(np.array(sl)[:,6], pred, \"r\", lw=1.5, alpha=0.5)"
   ]
  },
  {
   "cell_type": "code",
   "execution_count": 60,
   "metadata": {},
   "outputs": [
    {
     "ename": "ValueError",
     "evalue": "array must not contain infs or NaNs",
     "output_type": "error",
     "traceback": [
      "\u001b[0;31m---------------------------------------------------------------------------\u001b[0m",
      "\u001b[0;31mValueError\u001b[0m                                Traceback (most recent call last)",
      "\u001b[0;32m<ipython-input-60-3707af5c0b6a>\u001b[0m in \u001b[0;36m<module>\u001b[0;34m\u001b[0m\n\u001b[1;32m      9\u001b[0m \u001b[0mt0\u001b[0m\u001b[0;34m=\u001b[0m\u001b[0mtime\u001b[0m\u001b[0;34m(\u001b[0m\u001b[0;34m)\u001b[0m\u001b[0;34m\u001b[0m\u001b[0;34m\u001b[0m\u001b[0m\n\u001b[1;32m     10\u001b[0m \u001b[0;34m\u001b[0m\u001b[0m\n\u001b[0;32m---> 11\u001b[0;31m \u001b[0mresult\u001b[0m \u001b[0;34m=\u001b[0m \u001b[0mminimize\u001b[0m\u001b[0;34m(\u001b[0m\u001b[0mneg_ln_like\u001b[0m\u001b[0;34m,\u001b[0m \u001b[0mgp\u001b[0m\u001b[0;34m.\u001b[0m\u001b[0mget_parameter_vector\u001b[0m\u001b[0;34m(\u001b[0m\u001b[0;34m)\u001b[0m\u001b[0;34m,\u001b[0m \u001b[0mjac\u001b[0m\u001b[0;34m=\u001b[0m\u001b[0mgrad_neg_ln_like\u001b[0m\u001b[0;34m)\u001b[0m\u001b[0;34m\u001b[0m\u001b[0;34m\u001b[0m\u001b[0m\n\u001b[0m\u001b[1;32m     12\u001b[0m \u001b[0mprint\u001b[0m\u001b[0;34m(\u001b[0m\u001b[0mresult\u001b[0m\u001b[0;34m)\u001b[0m\u001b[0;34m\u001b[0m\u001b[0;34m\u001b[0m\u001b[0m\n\u001b[1;32m     13\u001b[0m \u001b[0;34m\u001b[0m\u001b[0m\n",
      "\u001b[0;32m~/anaconda3/lib/python3.7/site-packages/scipy/optimize/_minimize.py\u001b[0m in \u001b[0;36mminimize\u001b[0;34m(fun, x0, args, method, jac, hess, hessp, bounds, constraints, tol, callback, options)\u001b[0m\n\u001b[1;32m    593\u001b[0m         \u001b[0;32mreturn\u001b[0m \u001b[0m_minimize_cg\u001b[0m\u001b[0;34m(\u001b[0m\u001b[0mfun\u001b[0m\u001b[0;34m,\u001b[0m \u001b[0mx0\u001b[0m\u001b[0;34m,\u001b[0m \u001b[0margs\u001b[0m\u001b[0;34m,\u001b[0m \u001b[0mjac\u001b[0m\u001b[0;34m,\u001b[0m \u001b[0mcallback\u001b[0m\u001b[0;34m,\u001b[0m \u001b[0;34m**\u001b[0m\u001b[0moptions\u001b[0m\u001b[0;34m)\u001b[0m\u001b[0;34m\u001b[0m\u001b[0;34m\u001b[0m\u001b[0m\n\u001b[1;32m    594\u001b[0m     \u001b[0;32melif\u001b[0m \u001b[0mmeth\u001b[0m \u001b[0;34m==\u001b[0m \u001b[0;34m'bfgs'\u001b[0m\u001b[0;34m:\u001b[0m\u001b[0;34m\u001b[0m\u001b[0;34m\u001b[0m\u001b[0m\n\u001b[0;32m--> 595\u001b[0;31m         \u001b[0;32mreturn\u001b[0m \u001b[0m_minimize_bfgs\u001b[0m\u001b[0;34m(\u001b[0m\u001b[0mfun\u001b[0m\u001b[0;34m,\u001b[0m \u001b[0mx0\u001b[0m\u001b[0;34m,\u001b[0m \u001b[0margs\u001b[0m\u001b[0;34m,\u001b[0m \u001b[0mjac\u001b[0m\u001b[0;34m,\u001b[0m \u001b[0mcallback\u001b[0m\u001b[0;34m,\u001b[0m \u001b[0;34m**\u001b[0m\u001b[0moptions\u001b[0m\u001b[0;34m)\u001b[0m\u001b[0;34m\u001b[0m\u001b[0;34m\u001b[0m\u001b[0m\n\u001b[0m\u001b[1;32m    596\u001b[0m     \u001b[0;32melif\u001b[0m \u001b[0mmeth\u001b[0m \u001b[0;34m==\u001b[0m \u001b[0;34m'newton-cg'\u001b[0m\u001b[0;34m:\u001b[0m\u001b[0;34m\u001b[0m\u001b[0;34m\u001b[0m\u001b[0m\n\u001b[1;32m    597\u001b[0m         return _minimize_newtoncg(fun, x0, args, jac, hess, hessp, callback,\n",
      "\u001b[0;32m~/anaconda3/lib/python3.7/site-packages/scipy/optimize/optimize.py\u001b[0m in \u001b[0;36m_minimize_bfgs\u001b[0;34m(fun, x0, args, jac, callback, gtol, norm, eps, maxiter, disp, return_all, **unknown_options)\u001b[0m\n\u001b[1;32m    988\u001b[0m             \u001b[0malpha_k\u001b[0m\u001b[0;34m,\u001b[0m \u001b[0mfc\u001b[0m\u001b[0;34m,\u001b[0m \u001b[0mgc\u001b[0m\u001b[0;34m,\u001b[0m \u001b[0mold_fval\u001b[0m\u001b[0;34m,\u001b[0m \u001b[0mold_old_fval\u001b[0m\u001b[0;34m,\u001b[0m \u001b[0mgfkp1\u001b[0m \u001b[0;34m=\u001b[0m\u001b[0;31m \u001b[0m\u001b[0;31m\\\u001b[0m\u001b[0;34m\u001b[0m\u001b[0;34m\u001b[0m\u001b[0m\n\u001b[1;32m    989\u001b[0m                      _line_search_wolfe12(f, myfprime, xk, pk, gfk,\n\u001b[0;32m--> 990\u001b[0;31m                                           old_fval, old_old_fval, amin=1e-100, amax=1e100)\n\u001b[0m\u001b[1;32m    991\u001b[0m         \u001b[0;32mexcept\u001b[0m \u001b[0m_LineSearchError\u001b[0m\u001b[0;34m:\u001b[0m\u001b[0;34m\u001b[0m\u001b[0;34m\u001b[0m\u001b[0m\n\u001b[1;32m    992\u001b[0m             \u001b[0;31m# Line search failed to find a better solution.\u001b[0m\u001b[0;34m\u001b[0m\u001b[0;34m\u001b[0m\u001b[0;34m\u001b[0m\u001b[0m\n",
      "\u001b[0;32m~/anaconda3/lib/python3.7/site-packages/scipy/optimize/optimize.py\u001b[0m in \u001b[0;36m_line_search_wolfe12\u001b[0;34m(f, fprime, xk, pk, gfk, old_fval, old_old_fval, **kwargs)\u001b[0m\n\u001b[1;32m    808\u001b[0m     ret = line_search_wolfe1(f, fprime, xk, pk, gfk,\n\u001b[1;32m    809\u001b[0m                              \u001b[0mold_fval\u001b[0m\u001b[0;34m,\u001b[0m \u001b[0mold_old_fval\u001b[0m\u001b[0;34m,\u001b[0m\u001b[0;34m\u001b[0m\u001b[0;34m\u001b[0m\u001b[0m\n\u001b[0;32m--> 810\u001b[0;31m                              **kwargs)\n\u001b[0m\u001b[1;32m    811\u001b[0m \u001b[0;34m\u001b[0m\u001b[0m\n\u001b[1;32m    812\u001b[0m     \u001b[0;32mif\u001b[0m \u001b[0mret\u001b[0m\u001b[0;34m[\u001b[0m\u001b[0;36m0\u001b[0m\u001b[0;34m]\u001b[0m \u001b[0;32mis\u001b[0m \u001b[0;32mnot\u001b[0m \u001b[0;32mNone\u001b[0m \u001b[0;32mand\u001b[0m \u001b[0mextra_condition\u001b[0m \u001b[0;32mis\u001b[0m \u001b[0;32mnot\u001b[0m \u001b[0;32mNone\u001b[0m\u001b[0;34m:\u001b[0m\u001b[0;34m\u001b[0m\u001b[0;34m\u001b[0m\u001b[0m\n",
      "\u001b[0;32m~/anaconda3/lib/python3.7/site-packages/scipy/optimize/linesearch.py\u001b[0m in \u001b[0;36mline_search_wolfe1\u001b[0;34m(f, fprime, xk, pk, gfk, old_fval, old_old_fval, args, c1, c2, amax, amin, xtol)\u001b[0m\n\u001b[1;32m     99\u001b[0m     stp, fval, old_fval = scalar_search_wolfe1(\n\u001b[1;32m    100\u001b[0m             \u001b[0mphi\u001b[0m\u001b[0;34m,\u001b[0m \u001b[0mderphi\u001b[0m\u001b[0;34m,\u001b[0m \u001b[0mold_fval\u001b[0m\u001b[0;34m,\u001b[0m \u001b[0mold_old_fval\u001b[0m\u001b[0;34m,\u001b[0m \u001b[0mderphi0\u001b[0m\u001b[0;34m,\u001b[0m\u001b[0;34m\u001b[0m\u001b[0;34m\u001b[0m\u001b[0m\n\u001b[0;32m--> 101\u001b[0;31m             c1=c1, c2=c2, amax=amax, amin=amin, xtol=xtol)\n\u001b[0m\u001b[1;32m    102\u001b[0m \u001b[0;34m\u001b[0m\u001b[0m\n\u001b[1;32m    103\u001b[0m     \u001b[0;32mreturn\u001b[0m \u001b[0mstp\u001b[0m\u001b[0;34m,\u001b[0m \u001b[0mfc\u001b[0m\u001b[0;34m[\u001b[0m\u001b[0;36m0\u001b[0m\u001b[0;34m]\u001b[0m\u001b[0;34m,\u001b[0m \u001b[0mgc\u001b[0m\u001b[0;34m[\u001b[0m\u001b[0;36m0\u001b[0m\u001b[0;34m]\u001b[0m\u001b[0;34m,\u001b[0m \u001b[0mfval\u001b[0m\u001b[0;34m,\u001b[0m \u001b[0mold_fval\u001b[0m\u001b[0;34m,\u001b[0m \u001b[0mgval\u001b[0m\u001b[0;34m[\u001b[0m\u001b[0;36m0\u001b[0m\u001b[0;34m]\u001b[0m\u001b[0;34m\u001b[0m\u001b[0;34m\u001b[0m\u001b[0m\n",
      "\u001b[0;32m~/anaconda3/lib/python3.7/site-packages/scipy/optimize/linesearch.py\u001b[0m in \u001b[0;36mscalar_search_wolfe1\u001b[0;34m(phi, derphi, phi0, old_phi0, derphi0, c1, c2, amax, amin, xtol)\u001b[0m\n\u001b[1;32m    172\u001b[0m         \u001b[0;32mif\u001b[0m \u001b[0mtask\u001b[0m\u001b[0;34m[\u001b[0m\u001b[0;34m:\u001b[0m\u001b[0;36m2\u001b[0m\u001b[0;34m]\u001b[0m \u001b[0;34m==\u001b[0m \u001b[0;34mb'FG'\u001b[0m\u001b[0;34m:\u001b[0m\u001b[0;34m\u001b[0m\u001b[0;34m\u001b[0m\u001b[0m\n\u001b[1;32m    173\u001b[0m             \u001b[0malpha1\u001b[0m \u001b[0;34m=\u001b[0m \u001b[0mstp\u001b[0m\u001b[0;34m\u001b[0m\u001b[0;34m\u001b[0m\u001b[0m\n\u001b[0;32m--> 174\u001b[0;31m             \u001b[0mphi1\u001b[0m \u001b[0;34m=\u001b[0m \u001b[0mphi\u001b[0m\u001b[0;34m(\u001b[0m\u001b[0mstp\u001b[0m\u001b[0;34m)\u001b[0m\u001b[0;34m\u001b[0m\u001b[0;34m\u001b[0m\u001b[0m\n\u001b[0m\u001b[1;32m    175\u001b[0m             \u001b[0mderphi1\u001b[0m \u001b[0;34m=\u001b[0m \u001b[0mderphi\u001b[0m\u001b[0;34m(\u001b[0m\u001b[0mstp\u001b[0m\u001b[0;34m)\u001b[0m\u001b[0;34m\u001b[0m\u001b[0;34m\u001b[0m\u001b[0m\n\u001b[1;32m    176\u001b[0m         \u001b[0;32melse\u001b[0m\u001b[0;34m:\u001b[0m\u001b[0;34m\u001b[0m\u001b[0;34m\u001b[0m\u001b[0m\n",
      "\u001b[0;32m~/anaconda3/lib/python3.7/site-packages/scipy/optimize/linesearch.py\u001b[0m in \u001b[0;36mphi\u001b[0;34m(s)\u001b[0m\n\u001b[1;32m     85\u001b[0m     \u001b[0;32mdef\u001b[0m \u001b[0mphi\u001b[0m\u001b[0;34m(\u001b[0m\u001b[0ms\u001b[0m\u001b[0;34m)\u001b[0m\u001b[0;34m:\u001b[0m\u001b[0;34m\u001b[0m\u001b[0;34m\u001b[0m\u001b[0m\n\u001b[1;32m     86\u001b[0m         \u001b[0mfc\u001b[0m\u001b[0;34m[\u001b[0m\u001b[0;36m0\u001b[0m\u001b[0;34m]\u001b[0m \u001b[0;34m+=\u001b[0m \u001b[0;36m1\u001b[0m\u001b[0;34m\u001b[0m\u001b[0;34m\u001b[0m\u001b[0m\n\u001b[0;32m---> 87\u001b[0;31m         \u001b[0;32mreturn\u001b[0m \u001b[0mf\u001b[0m\u001b[0;34m(\u001b[0m\u001b[0mxk\u001b[0m \u001b[0;34m+\u001b[0m \u001b[0ms\u001b[0m\u001b[0;34m*\u001b[0m\u001b[0mpk\u001b[0m\u001b[0;34m,\u001b[0m \u001b[0;34m*\u001b[0m\u001b[0margs\u001b[0m\u001b[0;34m)\u001b[0m\u001b[0;34m\u001b[0m\u001b[0;34m\u001b[0m\u001b[0m\n\u001b[0m\u001b[1;32m     88\u001b[0m \u001b[0;34m\u001b[0m\u001b[0m\n\u001b[1;32m     89\u001b[0m     \u001b[0;32mdef\u001b[0m \u001b[0mderphi\u001b[0m\u001b[0;34m(\u001b[0m\u001b[0ms\u001b[0m\u001b[0;34m)\u001b[0m\u001b[0;34m:\u001b[0m\u001b[0;34m\u001b[0m\u001b[0;34m\u001b[0m\u001b[0m\n",
      "\u001b[0;32m~/anaconda3/lib/python3.7/site-packages/scipy/optimize/optimize.py\u001b[0m in \u001b[0;36mfunction_wrapper\u001b[0;34m(*wrapper_args)\u001b[0m\n\u001b[1;32m    298\u001b[0m     \u001b[0;32mdef\u001b[0m \u001b[0mfunction_wrapper\u001b[0m\u001b[0;34m(\u001b[0m\u001b[0;34m*\u001b[0m\u001b[0mwrapper_args\u001b[0m\u001b[0;34m)\u001b[0m\u001b[0;34m:\u001b[0m\u001b[0;34m\u001b[0m\u001b[0;34m\u001b[0m\u001b[0m\n\u001b[1;32m    299\u001b[0m         \u001b[0mncalls\u001b[0m\u001b[0;34m[\u001b[0m\u001b[0;36m0\u001b[0m\u001b[0;34m]\u001b[0m \u001b[0;34m+=\u001b[0m \u001b[0;36m1\u001b[0m\u001b[0;34m\u001b[0m\u001b[0;34m\u001b[0m\u001b[0m\n\u001b[0;32m--> 300\u001b[0;31m         \u001b[0;32mreturn\u001b[0m \u001b[0mfunction\u001b[0m\u001b[0;34m(\u001b[0m\u001b[0;34m*\u001b[0m\u001b[0;34m(\u001b[0m\u001b[0mwrapper_args\u001b[0m \u001b[0;34m+\u001b[0m \u001b[0margs\u001b[0m\u001b[0;34m)\u001b[0m\u001b[0;34m)\u001b[0m\u001b[0;34m\u001b[0m\u001b[0;34m\u001b[0m\u001b[0m\n\u001b[0m\u001b[1;32m    301\u001b[0m \u001b[0;34m\u001b[0m\u001b[0m\n\u001b[1;32m    302\u001b[0m     \u001b[0;32mreturn\u001b[0m \u001b[0mncalls\u001b[0m\u001b[0;34m,\u001b[0m \u001b[0mfunction_wrapper\u001b[0m\u001b[0;34m\u001b[0m\u001b[0;34m\u001b[0m\u001b[0m\n",
      "\u001b[0;32m<ipython-input-60-3707af5c0b6a>\u001b[0m in \u001b[0;36mneg_ln_like\u001b[0;34m(p)\u001b[0m\n\u001b[1;32m      1\u001b[0m \u001b[0;32mdef\u001b[0m \u001b[0mneg_ln_like\u001b[0m\u001b[0;34m(\u001b[0m\u001b[0mp\u001b[0m\u001b[0;34m)\u001b[0m\u001b[0;34m:\u001b[0m\u001b[0;34m\u001b[0m\u001b[0;34m\u001b[0m\u001b[0m\n\u001b[1;32m      2\u001b[0m     \u001b[0mgp\u001b[0m\u001b[0;34m.\u001b[0m\u001b[0mset_parameter_vector\u001b[0m\u001b[0;34m(\u001b[0m\u001b[0mp\u001b[0m\u001b[0;34m)\u001b[0m\u001b[0;34m\u001b[0m\u001b[0;34m\u001b[0m\u001b[0m\n\u001b[0;32m----> 3\u001b[0;31m     \u001b[0;32mreturn\u001b[0m \u001b[0;34m-\u001b[0m\u001b[0mgp\u001b[0m\u001b[0;34m.\u001b[0m\u001b[0mlog_likelihood\u001b[0m\u001b[0;34m(\u001b[0m\u001b[0my\u001b[0m\u001b[0;34m)\u001b[0m\u001b[0;34m\u001b[0m\u001b[0;34m\u001b[0m\u001b[0m\n\u001b[0m\u001b[1;32m      4\u001b[0m \u001b[0;34m\u001b[0m\u001b[0m\n\u001b[1;32m      5\u001b[0m \u001b[0;32mdef\u001b[0m \u001b[0mgrad_neg_ln_like\u001b[0m\u001b[0;34m(\u001b[0m\u001b[0mp\u001b[0m\u001b[0;34m)\u001b[0m\u001b[0;34m:\u001b[0m\u001b[0;34m\u001b[0m\u001b[0;34m\u001b[0m\u001b[0m\n",
      "\u001b[0;32m~/anaconda3/lib/python3.7/site-packages/george/gp.py\u001b[0m in \u001b[0;36mlog_likelihood\u001b[0;34m(self, y, quiet)\u001b[0m\n\u001b[1;32m    358\u001b[0m \u001b[0;34m\u001b[0m\u001b[0m\n\u001b[1;32m    359\u001b[0m         \"\"\"\n\u001b[0;32m--> 360\u001b[0;31m         \u001b[0;32mif\u001b[0m \u001b[0;32mnot\u001b[0m \u001b[0mself\u001b[0m\u001b[0;34m.\u001b[0m\u001b[0mrecompute\u001b[0m\u001b[0;34m(\u001b[0m\u001b[0mquiet\u001b[0m\u001b[0;34m=\u001b[0m\u001b[0mquiet\u001b[0m\u001b[0;34m)\u001b[0m\u001b[0;34m:\u001b[0m\u001b[0;34m\u001b[0m\u001b[0;34m\u001b[0m\u001b[0m\n\u001b[0m\u001b[1;32m    361\u001b[0m             \u001b[0;32mreturn\u001b[0m \u001b[0;34m-\u001b[0m\u001b[0mnp\u001b[0m\u001b[0;34m.\u001b[0m\u001b[0minf\u001b[0m\u001b[0;34m\u001b[0m\u001b[0;34m\u001b[0m\u001b[0m\n\u001b[1;32m    362\u001b[0m         \u001b[0;32mtry\u001b[0m\u001b[0;34m:\u001b[0m\u001b[0;34m\u001b[0m\u001b[0;34m\u001b[0m\u001b[0m\n",
      "\u001b[0;32m~/anaconda3/lib/python3.7/site-packages/george/gp.py\u001b[0m in \u001b[0;36mrecompute\u001b[0;34m(self, quiet, **kwargs)\u001b[0m\n\u001b[1;32m    330\u001b[0m                 \u001b[0;31m# Update the model making sure that we store the original\u001b[0m\u001b[0;34m\u001b[0m\u001b[0;34m\u001b[0m\u001b[0;34m\u001b[0m\u001b[0m\n\u001b[1;32m    331\u001b[0m                 \u001b[0;31m# ordering of the points.\u001b[0m\u001b[0;34m\u001b[0m\u001b[0;34m\u001b[0m\u001b[0;34m\u001b[0m\u001b[0m\n\u001b[0;32m--> 332\u001b[0;31m                 \u001b[0mself\u001b[0m\u001b[0;34m.\u001b[0m\u001b[0mcompute\u001b[0m\u001b[0;34m(\u001b[0m\u001b[0mself\u001b[0m\u001b[0;34m.\u001b[0m\u001b[0m_x\u001b[0m\u001b[0;34m,\u001b[0m \u001b[0mnp\u001b[0m\u001b[0;34m.\u001b[0m\u001b[0msqrt\u001b[0m\u001b[0;34m(\u001b[0m\u001b[0mself\u001b[0m\u001b[0;34m.\u001b[0m\u001b[0m_yerr2\u001b[0m\u001b[0;34m)\u001b[0m\u001b[0;34m,\u001b[0m \u001b[0;34m**\u001b[0m\u001b[0mkwargs\u001b[0m\u001b[0;34m)\u001b[0m\u001b[0;34m\u001b[0m\u001b[0;34m\u001b[0m\u001b[0m\n\u001b[0m\u001b[1;32m    333\u001b[0m             \u001b[0;32mexcept\u001b[0m \u001b[0;34m(\u001b[0m\u001b[0mValueError\u001b[0m\u001b[0;34m,\u001b[0m \u001b[0mLinAlgError\u001b[0m\u001b[0;34m)\u001b[0m\u001b[0;34m:\u001b[0m\u001b[0;34m\u001b[0m\u001b[0;34m\u001b[0m\u001b[0m\n\u001b[1;32m    334\u001b[0m                 \u001b[0;32mif\u001b[0m \u001b[0mquiet\u001b[0m\u001b[0;34m:\u001b[0m\u001b[0;34m\u001b[0m\u001b[0;34m\u001b[0m\u001b[0m\n",
      "\u001b[0;32m~/anaconda3/lib/python3.7/site-packages/george/gp.py\u001b[0m in \u001b[0;36mcompute\u001b[0;34m(self, x, yerr, **kwargs)\u001b[0m\n\u001b[1;32m    307\u001b[0m         \u001b[0;31m# Include the white noise term.\u001b[0m\u001b[0;34m\u001b[0m\u001b[0;34m\u001b[0m\u001b[0;34m\u001b[0m\u001b[0m\n\u001b[1;32m    308\u001b[0m         \u001b[0myerr\u001b[0m \u001b[0;34m=\u001b[0m \u001b[0mnp\u001b[0m\u001b[0;34m.\u001b[0m\u001b[0msqrt\u001b[0m\u001b[0;34m(\u001b[0m\u001b[0mself\u001b[0m\u001b[0;34m.\u001b[0m\u001b[0m_yerr2\u001b[0m \u001b[0;34m+\u001b[0m \u001b[0mnp\u001b[0m\u001b[0;34m.\u001b[0m\u001b[0mexp\u001b[0m\u001b[0;34m(\u001b[0m\u001b[0mself\u001b[0m\u001b[0;34m.\u001b[0m\u001b[0m_call_white_noise\u001b[0m\u001b[0;34m(\u001b[0m\u001b[0mself\u001b[0m\u001b[0;34m.\u001b[0m\u001b[0m_x\u001b[0m\u001b[0;34m)\u001b[0m\u001b[0;34m)\u001b[0m\u001b[0;34m)\u001b[0m\u001b[0;34m\u001b[0m\u001b[0;34m\u001b[0m\u001b[0m\n\u001b[0;32m--> 309\u001b[0;31m         \u001b[0mself\u001b[0m\u001b[0;34m.\u001b[0m\u001b[0msolver\u001b[0m\u001b[0;34m.\u001b[0m\u001b[0mcompute\u001b[0m\u001b[0;34m(\u001b[0m\u001b[0mself\u001b[0m\u001b[0;34m.\u001b[0m\u001b[0m_x\u001b[0m\u001b[0;34m,\u001b[0m \u001b[0myerr\u001b[0m\u001b[0;34m,\u001b[0m \u001b[0;34m**\u001b[0m\u001b[0mkwargs\u001b[0m\u001b[0;34m)\u001b[0m\u001b[0;34m\u001b[0m\u001b[0;34m\u001b[0m\u001b[0m\n\u001b[0m\u001b[1;32m    310\u001b[0m \u001b[0;34m\u001b[0m\u001b[0m\n\u001b[1;32m    311\u001b[0m         self._const = -0.5 * (len(self._x) * np.log(2 * np.pi) +\n",
      "\u001b[0;32m~/anaconda3/lib/python3.7/site-packages/george/solvers/basic.py\u001b[0m in \u001b[0;36mcompute\u001b[0;34m(self, x, yerr)\u001b[0m\n\u001b[1;32m     66\u001b[0m \u001b[0;34m\u001b[0m\u001b[0m\n\u001b[1;32m     67\u001b[0m         \u001b[0;31m# Factor the matrix and compute the log-determinant.\u001b[0m\u001b[0;34m\u001b[0m\u001b[0;34m\u001b[0m\u001b[0;34m\u001b[0m\u001b[0m\n\u001b[0;32m---> 68\u001b[0;31m         \u001b[0mself\u001b[0m\u001b[0;34m.\u001b[0m\u001b[0m_factor\u001b[0m \u001b[0;34m=\u001b[0m \u001b[0;34m(\u001b[0m\u001b[0mcholesky\u001b[0m\u001b[0;34m(\u001b[0m\u001b[0mK\u001b[0m\u001b[0;34m,\u001b[0m \u001b[0moverwrite_a\u001b[0m\u001b[0;34m=\u001b[0m\u001b[0;32mTrue\u001b[0m\u001b[0;34m,\u001b[0m \u001b[0mlower\u001b[0m\u001b[0;34m=\u001b[0m\u001b[0;32mFalse\u001b[0m\u001b[0;34m)\u001b[0m\u001b[0;34m,\u001b[0m \u001b[0;32mFalse\u001b[0m\u001b[0;34m)\u001b[0m\u001b[0;34m\u001b[0m\u001b[0;34m\u001b[0m\u001b[0m\n\u001b[0m\u001b[1;32m     69\u001b[0m         \u001b[0mself\u001b[0m\u001b[0;34m.\u001b[0m\u001b[0mlog_determinant\u001b[0m \u001b[0;34m=\u001b[0m \u001b[0;36m2\u001b[0m \u001b[0;34m*\u001b[0m \u001b[0mnp\u001b[0m\u001b[0;34m.\u001b[0m\u001b[0msum\u001b[0m\u001b[0;34m(\u001b[0m\u001b[0mnp\u001b[0m\u001b[0;34m.\u001b[0m\u001b[0mlog\u001b[0m\u001b[0;34m(\u001b[0m\u001b[0mnp\u001b[0m\u001b[0;34m.\u001b[0m\u001b[0mdiag\u001b[0m\u001b[0;34m(\u001b[0m\u001b[0mself\u001b[0m\u001b[0;34m.\u001b[0m\u001b[0m_factor\u001b[0m\u001b[0;34m[\u001b[0m\u001b[0;36m0\u001b[0m\u001b[0;34m]\u001b[0m\u001b[0;34m)\u001b[0m\u001b[0;34m)\u001b[0m\u001b[0;34m)\u001b[0m\u001b[0;34m\u001b[0m\u001b[0;34m\u001b[0m\u001b[0m\n\u001b[1;32m     70\u001b[0m         \u001b[0mself\u001b[0m\u001b[0;34m.\u001b[0m\u001b[0mcomputed\u001b[0m \u001b[0;34m=\u001b[0m \u001b[0;32mTrue\u001b[0m\u001b[0;34m\u001b[0m\u001b[0;34m\u001b[0m\u001b[0m\n",
      "\u001b[0;32m~/anaconda3/lib/python3.7/site-packages/scipy/linalg/decomp_cholesky.py\u001b[0m in \u001b[0;36mcholesky\u001b[0;34m(a, lower, overwrite_a, check_finite)\u001b[0m\n\u001b[1;32m     89\u001b[0m     \"\"\"\n\u001b[1;32m     90\u001b[0m     c, lower = _cholesky(a, lower=lower, overwrite_a=overwrite_a, clean=True,\n\u001b[0;32m---> 91\u001b[0;31m                          check_finite=check_finite)\n\u001b[0m\u001b[1;32m     92\u001b[0m     \u001b[0;32mreturn\u001b[0m \u001b[0mc\u001b[0m\u001b[0;34m\u001b[0m\u001b[0;34m\u001b[0m\u001b[0m\n\u001b[1;32m     93\u001b[0m \u001b[0;34m\u001b[0m\u001b[0m\n",
      "\u001b[0;32m~/anaconda3/lib/python3.7/site-packages/scipy/linalg/decomp_cholesky.py\u001b[0m in \u001b[0;36m_cholesky\u001b[0;34m(a, lower, overwrite_a, clean, check_finite)\u001b[0m\n\u001b[1;32m     17\u001b[0m     \u001b[0;34m\"\"\"Common code for cholesky() and cho_factor().\"\"\"\u001b[0m\u001b[0;34m\u001b[0m\u001b[0;34m\u001b[0m\u001b[0m\n\u001b[1;32m     18\u001b[0m \u001b[0;34m\u001b[0m\u001b[0m\n\u001b[0;32m---> 19\u001b[0;31m     \u001b[0ma1\u001b[0m \u001b[0;34m=\u001b[0m \u001b[0masarray_chkfinite\u001b[0m\u001b[0;34m(\u001b[0m\u001b[0ma\u001b[0m\u001b[0;34m)\u001b[0m \u001b[0;32mif\u001b[0m \u001b[0mcheck_finite\u001b[0m \u001b[0;32melse\u001b[0m \u001b[0masarray\u001b[0m\u001b[0;34m(\u001b[0m\u001b[0ma\u001b[0m\u001b[0;34m)\u001b[0m\u001b[0;34m\u001b[0m\u001b[0;34m\u001b[0m\u001b[0m\n\u001b[0m\u001b[1;32m     20\u001b[0m     \u001b[0ma1\u001b[0m \u001b[0;34m=\u001b[0m \u001b[0matleast_2d\u001b[0m\u001b[0;34m(\u001b[0m\u001b[0ma1\u001b[0m\u001b[0;34m)\u001b[0m\u001b[0;34m\u001b[0m\u001b[0;34m\u001b[0m\u001b[0m\n\u001b[1;32m     21\u001b[0m \u001b[0;34m\u001b[0m\u001b[0m\n",
      "\u001b[0;32m~/anaconda3/lib/python3.7/site-packages/numpy/lib/function_base.py\u001b[0m in \u001b[0;36masarray_chkfinite\u001b[0;34m(a, dtype, order)\u001b[0m\n\u001b[1;32m    496\u001b[0m     \u001b[0;32mif\u001b[0m \u001b[0ma\u001b[0m\u001b[0;34m.\u001b[0m\u001b[0mdtype\u001b[0m\u001b[0;34m.\u001b[0m\u001b[0mchar\u001b[0m \u001b[0;32min\u001b[0m \u001b[0mtypecodes\u001b[0m\u001b[0;34m[\u001b[0m\u001b[0;34m'AllFloat'\u001b[0m\u001b[0;34m]\u001b[0m \u001b[0;32mand\u001b[0m \u001b[0;32mnot\u001b[0m \u001b[0mnp\u001b[0m\u001b[0;34m.\u001b[0m\u001b[0misfinite\u001b[0m\u001b[0;34m(\u001b[0m\u001b[0ma\u001b[0m\u001b[0;34m)\u001b[0m\u001b[0;34m.\u001b[0m\u001b[0mall\u001b[0m\u001b[0;34m(\u001b[0m\u001b[0;34m)\u001b[0m\u001b[0;34m:\u001b[0m\u001b[0;34m\u001b[0m\u001b[0;34m\u001b[0m\u001b[0m\n\u001b[1;32m    497\u001b[0m         raise ValueError(\n\u001b[0;32m--> 498\u001b[0;31m             \"array must not contain infs or NaNs\")\n\u001b[0m\u001b[1;32m    499\u001b[0m     \u001b[0;32mreturn\u001b[0m \u001b[0ma\u001b[0m\u001b[0;34m\u001b[0m\u001b[0;34m\u001b[0m\u001b[0m\n\u001b[1;32m    500\u001b[0m \u001b[0;34m\u001b[0m\u001b[0m\n",
      "\u001b[0;31mValueError\u001b[0m: array must not contain infs or NaNs"
     ]
    }
   ],
   "source": [
    "def neg_ln_like(p):\n",
    "    gp.set_parameter_vector(p)\n",
    "    return -gp.log_likelihood(y)\n",
    "\n",
    "def grad_neg_ln_like(p):\n",
    "    gp.set_parameter_vector(p)\n",
    "    return -gp.grad_log_likelihood(y)\n",
    "\n",
    "t0=time()\n",
    "\n",
    "result = minimize(neg_ln_like, gp.get_parameter_vector(), jac=grad_neg_ln_like)\n",
    "print(result)\n",
    "\n",
    "gp.set_parameter_vector(result.x)\n",
    "print(\"\\nFinal ln-likelihood: {0:.2f}\".format(gp.log_likelihood(y)))\n",
    "\n",
    "print(\"done in %0.3fs\" % (time() - t0))"
   ]
  },
  {
   "cell_type": "code",
   "execution_count": null,
   "metadata": {},
   "outputs": [],
   "source": [
    "pred, pred_var = gp.predict(y, sl, return_var=True)\n",
    "plt.fill_between(np.array(sl)[:,6], pred - np.sqrt(pred_var), pred + np.sqrt(pred_var),\n",
    "                color=\"b\", alpha=0.2)\n",
    "plt.plot(np.array(sl)[:,6], pred, \"r\", lw=1.5, alpha=0.5)"
   ]
  },
  {
   "cell_type": "code",
   "execution_count": null,
   "metadata": {},
   "outputs": [],
   "source": [
    "np.sqrt(np.exp(gp.get_parameter_vector())) # check lengthscales from hyperparameter values"
   ]
  },
  {
   "cell_type": "code",
   "execution_count": null,
   "metadata": {},
   "outputs": [],
   "source": []
  }
 ],
 "metadata": {
  "kernelspec": {
   "display_name": "Python 3",
   "language": "python",
   "name": "python3"
  },
  "language_info": {
   "codemirror_mode": {
    "name": "ipython",
    "version": 3
   },
   "file_extension": ".py",
   "mimetype": "text/x-python",
   "name": "python",
   "nbconvert_exporter": "python",
   "pygments_lexer": "ipython3",
   "version": "3.7.3"
  }
 },
 "nbformat": 4,
 "nbformat_minor": 2
}
