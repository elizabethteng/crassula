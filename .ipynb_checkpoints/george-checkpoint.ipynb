{
 "cells": [
  {
   "cell_type": "code",
   "execution_count": 1,
   "metadata": {},
   "outputs": [],
   "source": [
    "import numpy as np\n",
    "from matplotlib import pyplot as plt\n",
    "\n",
    "import os\n",
    "import pickle\n",
    "from time import time\n",
    "from sklearn.decomposition import PCA\n",
    "\n",
    "import george\n",
    "from george import kernels\n",
    "from scipy.optimize import minimize\n",
    "\n",
    "%matplotlib inline"
   ]
  },
  {
   "cell_type": "code",
   "execution_count": 2,
   "metadata": {},
   "outputs": [],
   "source": [
    "param_names = [\"T_star\",\"logL_star\",\"logM_disk\",\"logR_disk\",\"h_0\",\"logR_in\",\\\n",
    "          \"gamma\",\"beta\",\"logM_env\",\"logR_env\",\"f_cav\",\"ksi\",\"loga_max\",\"p\",\"incl\"]\n",
    "\n",
    "ranges = [[3000.,5000.], [-1,3.],[-8.,-2.], [0.,3.],[0.01,0.5],[-1.,2.5],[0.0,2.0],\\\n",
    "        [0.5,2.0],[-8.,-2.],[2.5,4.], [0.,1.], [0.5,1.5],[0.,5.],[2.5,4.5],[0.,90.]]\n",
    "steps=[]\n",
    "bases=[]\n",
    "for i in range(len(ranges)):\n",
    "    steps.append(np.linspace(ranges[i][0],ranges[i][1],11))\n",
    "    bases.append(steps[i][5])\n",
    "\n",
    "# get all model data\n",
    "with open ('../grid_metadata/corefull.txt', 'rb') as fp:\n",
    "    core= pickle.load(fp)[100:500]\n",
    "with open ('../grid_metadata/cubefull.txt', 'rb') as fp:\n",
    "    cube = np.array(pickle.load(fp))[:,100:500]\n",
    "with open ('../grid_metadata/cubefull.txt', 'rb') as fp:\n",
    "    nancube = np.array(pickle.load(fp))[:,100:500]\n",
    "    \n",
    "# x values (wavelengths) - 500 values, in normal space\n",
    "with open ('../grid_metadata/xvals.txt', 'rb') as fp:\n",
    "    xvals = pickle.load(fp)[100:500]\n",
    "\n",
    "# fix -infs: powerlaw cutoff\n",
    "for i in range(len(cube)):\n",
    "    if -np.inf in cube[i]:\n",
    "        a = cube[i].tolist()\n",
    "        a.reverse()\n",
    "        ind = len(a)-a.index(-np.inf)\n",
    "        x1 = xvals[ind]\n",
    "        y1 = cube[i][ind]\n",
    "        for j in range(ind):\n",
    "            cube[i][j]=(100*(np.log10(xvals[j]/x1)))+y1\n",
    "            \n",
    "# nan cutoff for means            \n",
    "nancube[nancube<-20]=np.nan"
   ]
  },
  {
   "cell_type": "code",
   "execution_count": 3,
   "metadata": {},
   "outputs": [
    {
     "name": "stdout",
     "output_type": "stream",
     "text": [
      "done in 0.045s\n"
     ]
    }
   ],
   "source": [
    "# subtracting from the seds each sample mean\n",
    "seds_msub = cube - np.nanmean(nancube,axis=1)[:,np.newaxis]\n",
    "\n",
    "t0 = time()\n",
    "pca = PCA(n_components=40).fit(seds_msub)\n",
    "print(\"done in %0.3fs\" % (time() - t0))\n",
    "\n",
    "eigenseds=np.array(pca.components_)"
   ]
  },
  {
   "cell_type": "code",
   "execution_count": 4,
   "metadata": {},
   "outputs": [],
   "source": [
    "# slices - read in filenames and logspace flux values\n",
    "with open ('../grid_metadata/slicenames.txt', 'rb') as fp:\n",
    "    slicenames = pickle.load(fp)\n",
    "with open ('../grid_metadata/slicevals.txt', 'rb') as fp:\n",
    "    slicevals = pickle.load(fp)[:,:,100:500]\n",
    "with open ('../grid_metadata/slicevals.txt', 'rb') as fp:\n",
    "    nanslicevals = pickle.load(fp)[:,:,100:500]\n",
    "\n",
    "# fix -infs: powerlaw cutoff\n",
    "for i in range(len(slicevals)):\n",
    "    for j in range(len(slicevals[i])):\n",
    "        if -np.inf in slicevals[i][j]:\n",
    "            a = slicevals[i][j].tolist()\n",
    "            a.reverse()\n",
    "            ind = len(a)-a.index(-np.inf)\n",
    "            x1 = xvals[ind]\n",
    "            y1 = slicevals[i][j][ind]\n",
    "            for m in range(ind):\n",
    "                slicevals[i][j][m]=(100*(np.log10(xvals[m]/x1)))+y1\n",
    "                \n",
    "nanslicevals[nanslicevals<-20]=np.nan\n",
    "\n",
    "slice_seds_msub = slicevals - np.nanmean(nanslicevals,axis=2)[:,:,np.newaxis]"
   ]
  },
  {
   "cell_type": "code",
   "execution_count": 5,
   "metadata": {},
   "outputs": [],
   "source": [
    "fitdata=[]\n",
    "\n",
    "for i in range(len(param_names)):\n",
    "    fitdata.append([])\n",
    "for i in range(len(param_names)):\n",
    "    for j in range(11):\n",
    "        modeldata=[]\n",
    "        paramval=steps[i][j]\n",
    "        coeffs=pca.transform(slice_seds_msub[i][j].reshape(1,-1))\n",
    "        modeldata.append(paramval)\n",
    "        for k in range(10):\n",
    "            modeldata.append(coeffs[0][k])\n",
    "        fitdata[i].append(modeldata)"
   ]
  },
  {
   "cell_type": "code",
   "execution_count": 6,
   "metadata": {},
   "outputs": [],
   "source": [
    "paramvals=[]\n",
    "weights=[]\n",
    "for param in range(15):\n",
    "    pl=[]\n",
    "    wl=[]\n",
    "    for model in range(11):\n",
    "        pl.append(fitdata[param][model][0])\n",
    "    paramvals.append(pl)\n",
    "    \n",
    "    for w in range(10):\n",
    "        wsl=[]\n",
    "        for model in range(11):\n",
    "            wsl.append(fitdata[param][model][w+1])\n",
    "        wl.append(wsl)\n",
    "    weights.append(wl)"
   ]
  },
  {
   "cell_type": "code",
   "execution_count": 7,
   "metadata": {},
   "outputs": [],
   "source": [
    "def load_pcwpar(param,weight):\n",
    "    return np.array(paramvals[param]).reshape(-1,1), np.array(weights[param][weight])"
   ]
  },
  {
   "cell_type": "code",
   "execution_count": 8,
   "metadata": {},
   "outputs": [
    {
     "data": {
      "image/png": "[encoded data removed]",
      "text/plain": [
       "<Figure size 432x288 with 1 Axes>"
      ]
     },
     "metadata": {
      "needs_background": "light"
     },
     "output_type": "display_data"
    },
    {
     "name": "stdout",
     "output_type": "stream",
     "text": [
      "Initial ln-likelihood: -2822.56\n"
     ]
    }
   ],
   "source": [
    "X, y = load_pcwpar(0,0)\n",
    "\n",
    "kernel = kernels.ExpSquaredKernel(900**2)* np.var(y)\n",
    "gp = george.GP(kernel)\n",
    "yerr=[j*0.00001 for j in y]\n",
    "gp.compute(X,yerr)\n",
    "\n",
    "x_pred = np.linspace(3000,5000,500)\n",
    "pred, pred_var = gp.predict(y, x_pred, return_var=True)\n",
    "\n",
    "plt.fill_between(x_pred, pred - np.sqrt(pred_var), pred + np.sqrt(pred_var),\n",
    "                color=\"b\", alpha=0.2)\n",
    "plt.plot(x_pred, pred, \"r\", lw=1.5, alpha=0.5)\n",
    "plt.errorbar(X, y,yerr,fmt=\".k\", capsize=0)\n",
    "plt.show()\n",
    "\n",
    "print(\"Initial ln-likelihood: {0:.2f}\".format(gp.log_likelihood(y)))"
   ]
  },
  {
   "cell_type": "code",
   "execution_count": 9,
   "metadata": {},
   "outputs": [
    {
     "name": "stdout",
     "output_type": "stream",
     "text": [
      "      fun: 274.40250328772044\n",
      " hess_inv: array([[0.67859159, 0.09102222],\n",
      "       [0.09102222, 0.22193682]])\n",
      "      jac: array([0.02461305, 0.00925446])\n",
      "  message: 'Desired error not necessarily achieved due to precision loss.'\n",
      "     nfev: 65\n",
      "      nit: 23\n",
      "     njev: 53\n",
      "   status: 2\n",
      "  success: False\n",
      "        x: array([ 5.82771599, 16.58857229])\n",
      "\n",
      "Final ln-likelihood: -274.40\n"
     ]
    },
    {
     "data": {
      "text/plain": [
       "<ErrorbarContainer object of 3 artists>"
      ]
     },
     "execution_count": 9,
     "metadata": {},
     "output_type": "execute_result"
    },
    {
     "data": {
      "image/png": "[encoded data removed]",
      "text/plain": [
       "<Figure size 432x288 with 1 Axes>"
      ]
     },
     "metadata": {
      "needs_background": "light"
     },
     "output_type": "display_data"
    }
   ],
   "source": [
    "def neg_ln_like(p):\n",
    "    gp.set_parameter_vector(p)\n",
    "    return -gp.log_likelihood(y)\n",
    "\n",
    "def grad_neg_ln_like(p):\n",
    "    gp.set_parameter_vector(p)\n",
    "    return -gp.grad_log_likelihood(y)\n",
    "\n",
    "result = minimize(neg_ln_like, gp.get_parameter_vector(), jac=grad_neg_ln_like)\n",
    "print(result)\n",
    "\n",
    "gp.set_parameter_vector(result.x)\n",
    "print(\"\\nFinal ln-likelihood: {0:.2f}\".format(gp.log_likelihood(y)))\n",
    "\n",
    "pred, pred_var = gp.predict(y, x_pred, return_var=True)\n",
    "\n",
    "plt.fill_between(x_pred, pred - np.sqrt(pred_var), pred + np.sqrt(pred_var),\n",
    "                color=\"k\", alpha=0.2)\n",
    "plt.plot(x_pred, pred, \"k\", lw=1.5, alpha=0.5)\n",
    "plt.errorbar(X, y, fmt=\".k\", capsize=0)"
   ]
  },
  {
   "cell_type": "code",
   "execution_count": 10,
   "metadata": {},
   "outputs": [
    {
     "data": {
      "image/png": "[encoded data removed]",
      "text/plain": [
       "<Figure size 432x288 with 1 Axes>"
      ]
     },
     "metadata": {
      "needs_background": "light"
     },
     "output_type": "display_data"
    },
    {
     "name": "stdout",
     "output_type": "stream",
     "text": [
      "Initial ln-likelihood: -15.13\n"
     ]
    }
   ],
   "source": [
    "X, y = load_pcwpar(1,6)\n",
    "yerr=[j*0.01 for j in y]\n",
    "\n",
    "kernel = kernels.ExpSquaredKernel(.3**2) * np.var(y)\n",
    "\n",
    "gp = george.GP(kernel)\n",
    "gp.compute(X,yerr)\n",
    "\n",
    "x_pred = np.linspace(-1,3,500)\n",
    "pred, pred_var = gp.predict(y, x_pred, return_var=True)\n",
    "\n",
    "plt.fill_between(x_pred, pred - np.sqrt(pred_var), pred + np.sqrt(pred_var),\n",
    "                color=\"b\", alpha=0.2)\n",
    "plt.plot(x_pred, pred, \"r\", lw=1.5, alpha=0.5)\n",
    "plt.errorbar(X, y, yerr,fmt=\".k\", capsize=0)\n",
    "plt.show()\n",
    "\n",
    "print(\"Initial ln-likelihood: {0:.2f}\".format(gp.log_likelihood(y)))"
   ]
  },
  {
   "cell_type": "code",
   "execution_count": 11,
   "metadata": {},
   "outputs": [
    {
     "name": "stdout",
     "output_type": "stream",
     "text": [
      "      fun: -3.503605643060183\n",
      " hess_inv: array([[0.32762105, 0.04821271],\n",
      "       [0.04821271, 0.025512  ]])\n",
      "      jac: array([ 5.10051096e-07, -1.43144862e-05])\n",
      "  message: 'Desired error not necessarily achieved due to precision loss.'\n",
      "     nfev: 97\n",
      "      nit: 9\n",
      "     njev: 87\n",
      "   status: 2\n",
      "  success: False\n",
      "        x: array([ 0.08225466, -0.253708  ])\n",
      "\n",
      "Final ln-likelihood: 3.50\n"
     ]
    },
    {
     "data": {
      "text/plain": [
       "<ErrorbarContainer object of 3 artists>"
      ]
     },
     "execution_count": 11,
     "metadata": {},
     "output_type": "execute_result"
    },
    {
     "data": {
      "image/png": "[encoded data removed]",
      "text/plain": [
       "<Figure size 432x288 with 1 Axes>"
      ]
     },
     "metadata": {
      "needs_background": "light"
     },
     "output_type": "display_data"
    }
   ],
   "source": [
    "\n",
    "def neg_ln_like(p):\n",
    "    gp.set_parameter_vector(p)\n",
    "    return -gp.log_likelihood(y)\n",
    "\n",
    "def grad_neg_ln_like(p):\n",
    "    gp.set_parameter_vector(p)\n",
    "    return -gp.grad_log_likelihood(y)\n",
    "\n",
    "result = minimize(neg_ln_like, gp.get_parameter_vector(), jac=grad_neg_ln_like)\n",
    "print(result)\n",
    "\n",
    "gp.set_parameter_vector(result.x)\n",
    "print(\"\\nFinal ln-likelihood: {0:.2f}\".format(gp.log_likelihood(y)))\n",
    "\n",
    "pred, pred_var = gp.predict(y, x_pred, return_var=True)\n",
    "\n",
    "plt.fill_between(x_pred, pred - np.sqrt(pred_var), pred + np.sqrt(pred_var),\n",
    "                color=\"k\", alpha=0.2)\n",
    "plt.plot(x_pred, pred, \"k\", lw=1.5, alpha=0.5)\n",
    "plt.errorbar(X, y, yerr, fmt=\".k\", capsize=0)"
   ]
  },
  {
   "cell_type": "code",
   "execution_count": 12,
   "metadata": {},
   "outputs": [
    {
     "name": "stderr",
     "output_type": "stream",
     "text": [
      "/users/eteng/anaconda3/lib/python3.7/site-packages/ipykernel_launcher.py:12: RuntimeWarning: invalid value encountered in sqrt\n",
      "  if sys.path[0] == '':\n"
     ]
    },
    {
     "data": {
      "image/png": "[encoded data removed]",
      "text/plain": [
       "<Figure size 432x288 with 1 Axes>"
      ]
     },
     "metadata": {
      "needs_background": "light"
     },
     "output_type": "display_data"
    },
    {
     "name": "stdout",
     "output_type": "stream",
     "text": [
      "Initial ln-likelihood: -118.88\n"
     ]
    },
    {
     "data": {
      "text/plain": [
       "array([1.50515616, 3.00416602])"
      ]
     },
     "execution_count": 12,
     "metadata": {},
     "output_type": "execute_result"
    }
   ],
   "source": [
    "X, y = load_pcwpar(6,4)\n",
    "yerr=[j*0.01 for j in y]\n",
    "\n",
    "kernel = kernels.PolynomialKernel(2.2,13) * np.var(y)\n",
    "\n",
    "gp = george.GP(kernel)\n",
    "gp.compute(X,yerr)\n",
    "\n",
    "x_pred = np.linspace(0,2,500)\n",
    "pred, pred_var = gp.predict(y, x_pred, return_var=True)\n",
    "\n",
    "plt.fill_between(x_pred, pred - np.sqrt(pred_var), pred + np.sqrt(pred_var),\n",
    "                color=\"b\", alpha=0.2)\n",
    "plt.plot(x_pred, pred, \"r\", lw=1.5, alpha=0.5)\n",
    "plt.errorbar(X, y, yerr,fmt=\".k\", capsize=0)\n",
    "plt.show()\n",
    "\n",
    "print(\"Initial ln-likelihood: {0:.2f}\".format(gp.log_likelihood(y)))\n",
    "np.sqrt(np.exp(gp.get_parameter_vector()))"
   ]
  },
  {
   "cell_type": "code",
   "execution_count": 13,
   "metadata": {},
   "outputs": [
    {
     "name": "stdout",
     "output_type": "stream",
     "text": [
      "      fun: 9.811684039554526\n",
      " hess_inv: array([[ 2.22712101, -0.18665168],\n",
      "       [-0.18665168,  0.01850141]])\n",
      "      jac: array([4.65661287e-10, 8.73114914e-09])\n",
      "  message: 'Optimization terminated successfully.'\n",
      "     nfev: 26\n",
      "      nit: 12\n",
      "     njev: 26\n",
      "   status: 0\n",
      "  success: True\n",
      "        x: array([-16.20198696,   1.30763549])\n",
      "\n",
      "Final ln-likelihood: -9.81\n"
     ]
    },
    {
     "data": {
      "image/png": "[encoded data removed]",
      "text/plain": [
       "<Figure size 432x288 with 1 Axes>"
      ]
     },
     "metadata": {
      "needs_background": "light"
     },
     "output_type": "display_data"
    },
    {
     "name": "stdout",
     "output_type": "stream",
     "text": [
      "[3.03237728e-04 1.92286785e+00]\n"
     ]
    }
   ],
   "source": [
    "def neg_ln_like(p):\n",
    "    gp.set_parameter_vector(p)\n",
    "    return -gp.log_likelihood(y)\n",
    "\n",
    "def grad_neg_ln_like(p):\n",
    "    gp.set_parameter_vector(p)\n",
    "    return -gp.grad_log_likelihood(y)\n",
    "\n",
    "result = minimize(neg_ln_like, gp.get_parameter_vector(), jac=grad_neg_ln_like)\n",
    "print(result)\n",
    "\n",
    "gp.set_parameter_vector(result.x)\n",
    "print(\"\\nFinal ln-likelihood: {0:.2f}\".format(gp.log_likelihood(y)))\n",
    "\n",
    "pred, pred_var = gp.predict(y, x_pred, return_var=True)\n",
    "\n",
    "plt.fill_between(x_pred, pred - np.sqrt(pred_var), pred + np.sqrt(pred_var),\n",
    "                color=\"k\", alpha=0.2)\n",
    "plt.plot(x_pred, pred, \"k\", lw=1.5, alpha=0.5)\n",
    "plt.errorbar(X, y, yerr, fmt=\".k\", capsize=0)\n",
    "plt.show()\n",
    "print(np.sqrt(np.exp(gp.get_parameter_vector())))"
   ]
  },
  {
   "cell_type": "code",
   "execution_count": null,
   "metadata": {},
   "outputs": [],
   "source": []
  }
 ],
 "metadata": {
  "kernelspec": {
   "display_name": "Python 3",
   "language": "python",
   "name": "python3"
  },
  "language_info": {
   "codemirror_mode": {
    "name": "ipython",
    "version": 3
   },
   "file_extension": ".py",
   "mimetype": "text/x-python",
   "name": "python",
   "nbconvert_exporter": "python",
   "pygments_lexer": "ipython3",
   "version": "3.7.3"
  }
 },
 "nbformat": 4,
 "nbformat_minor": 2
}
