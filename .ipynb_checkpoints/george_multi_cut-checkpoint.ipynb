{
 "cells": [
  {
   "cell_type": "code",
   "execution_count": 46,
   "metadata": {},
   "outputs": [],
   "source": [
    "import numpy as np\n",
    "from matplotlib import pyplot as plt\n",
    "\n",
    "import os\n",
    "import pickle\n",
    "from time import time\n",
    "from sklearn.decomposition import PCA\n",
    "\n",
    "import george\n",
    "from george import kernels\n",
    "from scipy.optimize import minimize\n",
    "\n",
    "%matplotlib inline"
   ]
  },
  {
   "cell_type": "code",
   "execution_count": 47,
   "metadata": {},
   "outputs": [
    {
     "name": "stdout",
     "output_type": "stream",
     "text": [
      "done in 0.031s\n"
     ]
    }
   ],
   "source": [
    "param_names = [\"Tstar\",\"logL_star\",\"logM_disk\",\"logR_disk\",\"h_0\",\"logR_in\",\\\n",
    "          \"gamma\",\"beta\",\"logM_env\",\"logR_env\",\"f_cav\",\"ksi\",\"loga_max\",\"p\",\"incl\"]\n",
    "    \n",
    "ranges = [[3000.,5000.], [-1,3.],[-8.,-2.], [0.,3.],[0.01,0.5],[-1.,2.5],[0.0,2.0],\\\n",
    "        [0.5,2.0],[-8.,-2.],[2.5,4.], [0.,1.], [0.5,1.5],[0.,5.],[2.5,4.5],[0.,90.]]\n",
    "steps=[]\n",
    "for i in range(len(ranges)):\n",
    "    steps.append(np.linspace(ranges[i][0],ranges[i][1],11))\n",
    "\n",
    "sl=[]\n",
    "for i in range(11):\n",
    "    x=[steps[0][i]]\n",
    "    for j in range(len(ranges)-1):\n",
    "        x.append(steps[j+1][5])\n",
    "    sl.append(x)\n",
    "    \n",
    "dictionary=np.load(\"../grid_metadata/dictionary.npy\")\n",
    "    \n",
    "# training set - read in filenames and logspace flux values\n",
    "with open ('../grid_metadata/corefull.txt', 'rb') as fp:\n",
    "    core= pickle.load(fp)[100:500]\n",
    "with open ('../grid_metadata/cubefull.txt', 'rb') as fp:\n",
    "    cube = np.array(pickle.load(fp))[:,100:500]\n",
    "with open ('../grid_metadata/cubefull.txt', 'rb') as fp:\n",
    "    nancube = np.array(pickle.load(fp))[:,100:500]    \n",
    "    \n",
    "# x values (wavelengths) - 500 values, in normal space\n",
    "with open ('../grid_metadata/xvals.txt', 'rb') as fp:\n",
    "    xvals = pickle.load(fp)[100:500]\n",
    "    \n",
    "# fix -infs: powerlaw cutoff\n",
    "for i in range(len(cube)):\n",
    "    if -np.inf in cube[i]:\n",
    "        a = cube[i].tolist()\n",
    "        a.reverse()\n",
    "        ind = len(a)-a.index(-np.inf)\n",
    "        x1 = xvals[ind]\n",
    "        y1 = cube[i][ind]\n",
    "        for j in range(ind):\n",
    "            cube[i][j]=(100*(np.log10(xvals[j]/x1)))+y1\n",
    "            \n",
    "# nan cutoff for means            \n",
    "nancube[nancube<-20]=np.nan\n",
    "\n",
    "# subtracting from the seds each sample mean\n",
    "seds_msub = cube - np.nanmean(nancube,axis=1)[:,np.newaxis]\n",
    "\n",
    "t0 = time()\n",
    "pca = PCA(n_components=40).fit(seds_msub)\n",
    "print(\"done in %0.3fs\" % (time() - t0))\n",
    "\n",
    "eigenseds=np.array(pca.components_)\n",
    "\n",
    "fitdata=[]\n",
    "\n",
    "for i in range(len(cube)):\n",
    "    modeldata=[]\n",
    "    coeffs=pca.transform(seds_msub[i].reshape(1,-1))\n",
    "    for k in range(18):\n",
    "        modeldata.append(coeffs[0][k])\n",
    "    fitdata.append(modeldata)\n",
    "    \n",
    "def load_pcwpar(weight):\n",
    "    p=[]\n",
    "    w=[]\n",
    "    for i in range(len(cube)):\n",
    "        pars=[]\n",
    "        for j in range(len(param_names)):\n",
    "            pars.append(dictionary[i][param_names[j]])\n",
    "        p.append(pars)\n",
    "        w.append(fitdata[i][weight])\n",
    "    \n",
    "    return p,w"
   ]
  },
  {
   "cell_type": "code",
   "execution_count": 84,
   "metadata": {},
   "outputs": [],
   "source": [
    "X, y = load_pcwpar(0)\n",
    "yerr=[x*0.01 for x in y]"
   ]
  },
  {
   "cell_type": "code",
   "execution_count": 94,
   "metadata": {},
   "outputs": [],
   "source": [
    "kernel = np.var(y) * kernels.ExpSquaredKernel(900**2,ndim=15,axes=0)*\\\n",
    "        kernels.ExpSquaredKernel(1**2,ndim=15,axes=1)*\\\n",
    "        kernels.ExpSquaredKernel(1**2,ndim=15,axes=2)*\\\n",
    "        kernels.ExpSquaredKernel(0.8**2,ndim=15,axes=3)*\\\n",
    "        kernels.ExpSquaredKernel(0.08**2,ndim=15,axes=4)*\\\n",
    "        kernels.ExpSquaredKernel(0.5**2,ndim=15,axes=5)*\\\n",
    "        kernels.ExpSquaredKernel(1**2,ndim=15,axes=6)*\\\n",
    "        kernels.ExpSquaredKernel(0.2**2,ndim=15,axes=7)*\\\n",
    "        kernels.ExpSquaredKernel(0.5**2,ndim=15,axes=8)*\\\n",
    "        kernels.ExpSquaredKernel(0.2**2,ndim=15,axes=9)*\\\n",
    "        kernels.ExpSquaredKernel(0.25**2,ndim=15,axes=10)*\\\n",
    "        kernels.ExpSquaredKernel(0.25**2,ndim=15,axes=11)*\\\n",
    "        kernels.ExpSquaredKernel(0.5**2,ndim=15,axes=12)*\\\n",
    "        kernels.ExpSquaredKernel(0.4**2,ndim=15,axes=13)*\\\n",
    "        kernels.ExpSquaredKernel(5**2,ndim=15,axes=14) \n",
    "\n",
    "gp = george.GP(kernel)\n",
    "gp.compute(X,yerr)"
   ]
  },
  {
   "cell_type": "code",
   "execution_count": 95,
   "metadata": {},
   "outputs": [
    {
     "data": {
      "text/plain": [
       "array([ 6.33043192, 13.60478953,  0.        ,  0.        , -0.4462871 ,\n",
       "       -5.05145729, -1.38629436,  0.        , -3.21887582, -1.38629436,\n",
       "       -3.21887582, -2.77258872, -2.77258872, -1.38629436, -1.83258146,\n",
       "        3.21887582])"
      ]
     },
     "execution_count": 95,
     "metadata": {},
     "output_type": "execute_result"
    }
   ],
   "source": [
    "gp.get_parameter_vector()"
   ]
  },
  {
   "cell_type": "code",
   "execution_count": 110,
   "metadata": {},
   "outputs": [
    {
     "data": {
      "text/plain": [
       "'array([ 5.86184664, 19.72562265,  2.50010543,  4.24438459,  0.30312152,\\n       -0.03949397,  2.0730901 , 33.14484832,  2.18669321, -0.45700645,\\n       -1.72473806, -1.57435931,  1.06882907,  5.54901167,  3.18680729,\\n        9.79740958])\\n'"
      ]
     },
     "execution_count": 110,
     "metadata": {},
     "output_type": "execute_result"
    }
   ],
   "source": [
    "# these are posteriors from minimize run\n",
    "array([ 5.86184664, 19.72562265,  2.50010543,  4.24438459,  0.30312152,\n",
    "       -0.03949397,  2.0730901 , 33.14484832,  2.18669321, -0.45700645,\n",
    "       -1.72473806, -1.57435931,  1.06882907,  5.54901167,  3.18680729,\n",
    "        9.79740958])"
   ]
  },
  {
   "cell_type": "code",
   "execution_count": 109,
   "metadata": {
    "scrolled": true
   },
   "outputs": [
    {
     "data": {
      "text/plain": [
       "14650719.428953517"
      ]
     },
     "execution_count": 109,
     "metadata": {},
     "output_type": "execute_result"
    }
   ],
   "source": [
    "np.sqrt(np.exp(33))  # check lengthscales from hyperparameter posteriors"
   ]
  },
  {
   "cell_type": "code",
   "execution_count": 96,
   "metadata": {},
   "outputs": [
    {
     "data": {
      "text/plain": [
       "[<matplotlib.lines.Line2D at 0x7f1b64a5e390>]"
      ]
     },
     "execution_count": 96,
     "metadata": {},
     "output_type": "execute_result"
    },
    {
     "data": {
      "image/png": "[encoded data removed]",
      "text/plain": [
       "<Figure size 432x288 with 1 Axes>"
      ]
     },
     "metadata": {
      "needs_background": "light"
     },
     "output_type": "display_data"
    }
   ],
   "source": [
    "pred, pred_var = gp.predict(y, sl, return_var=True)\n",
    "plt.fill_between(np.array(sl)[:,0], pred - np.sqrt(pred_var), pred + np.sqrt(pred_var),\n",
    "                color=\"b\", alpha=0.2)\n",
    "plt.plot(np.array(sl)[:,0], pred, \"r\", lw=1.5, alpha=0.5)"
   ]
  },
  {
   "cell_type": "code",
   "execution_count": 97,
   "metadata": {},
   "outputs": [
    {
     "name": "stdout",
     "output_type": "stream",
     "text": [
      "Initial ln-likelihood: -22854.75\n"
     ]
    }
   ],
   "source": [
    "print(\"Initial ln-likelihood: {0:.2f}\".format(gp.log_likelihood(y)))"
   ]
  },
  {
   "cell_type": "code",
   "execution_count": 23,
   "metadata": {},
   "outputs": [
    {
     "name": "stdout",
     "output_type": "stream",
     "text": [
      "      fun: 17091.423734734555\n",
      " hess_inv: array([[ 2.28761181e-03,  1.92724289e-03,  9.89617491e-04,\n",
      "         1.08971219e-03,  8.52124116e-04,  9.67439448e-04,\n",
      "         1.08922113e-03,  2.57292453e+02,  1.39790113e-03,\n",
      "         9.00195254e-04,  3.77700024e-04,  6.10566880e-04,\n",
      "        -6.32510532e-04,  1.13519086e-03,  6.98722974e-04,\n",
      "         1.06019291e-03],\n",
      "       [ 1.92724289e-03,  2.32056678e-01,  8.04596586e-04,\n",
      "         6.13985318e-03, -9.70453350e-03, -8.89896107e-03,\n",
      "        -2.92503690e-03, -2.16795080e+03, -8.11023305e-03,\n",
      "        -1.51810127e-03,  5.76324689e-03,  6.18850294e-03,\n",
      "         3.39136586e-03, -9.29733726e-03, -7.35937552e-03,\n",
      "        -6.03712574e-03],\n",
      "       [ 9.89617491e-04,  8.04596586e-04,  6.19180689e-03,\n",
      "         5.80841664e-04, -5.47333003e-04, -1.28920759e-03,\n",
      "        -6.95514961e-04,  3.48146904e+02, -4.48373499e-04,\n",
      "         1.55451370e-05, -1.56877032e-04,  1.03734191e-03,\n",
      "        -7.99005076e-05,  9.73020972e-04, -5.44596122e-04,\n",
      "         2.05233924e-04],\n",
      "       [ 1.08971219e-03,  6.13985318e-03,  5.80841664e-04,\n",
      "         1.35485486e-02, -4.78233814e-04,  2.68160348e-04,\n",
      "         2.71479525e-04,  6.76466537e+02, -2.97921774e-03,\n",
      "        -1.93314597e-05, -2.24972925e-04,  5.28337224e-04,\n",
      "        -2.04127037e-03,  3.21531346e-04, -3.20185814e-03,\n",
      "        -3.94140015e-04],\n",
      "       [ 8.52124116e-04, -9.70453350e-03, -5.47333003e-04,\n",
      "        -4.78233814e-04,  5.52263496e-03,  2.36525111e-03,\n",
      "         4.06730166e-04, -5.46860588e+01,  5.40511638e-04,\n",
      "         3.61560283e-05, -8.65929936e-04, -7.85087195e-04,\n",
      "        -2.17561677e-04, -1.23964879e-03, -2.21965614e-04,\n",
      "        -8.08592298e-04],\n",
      "       [ 9.67439448e-04, -8.89896107e-03, -1.28920759e-03,\n",
      "         2.68160348e-04,  2.36525111e-03,  3.12201374e-02,\n",
      "         1.89637355e-04,  2.54978140e+02, -8.92001704e-04,\n",
      "         1.36110228e-04, -9.69887086e-04, -1.54734799e-03,\n",
      "        -8.61128725e-03,  9.81731662e-04,  1.63827512e-03,\n",
      "        -4.31821286e-03],\n",
      "       [ 1.08922113e-03, -2.92503690e-03, -6.95514961e-04,\n",
      "         2.71479525e-04,  4.06730166e-04,  1.89637355e-04,\n",
      "         9.72122814e-03, -5.86756925e+02,  1.33639735e-03,\n",
      "         1.04869893e-03, -3.17549520e-04, -1.62015444e-03,\n",
      "        -7.63355333e-03,  8.85573852e-04,  2.74263595e-03,\n",
      "         7.06589180e-04],\n",
      "       [ 2.57292453e+02, -2.16795080e+03,  3.48146904e+02,\n",
      "         6.76466537e+02, -5.46860588e+01,  2.54978140e+02,\n",
      "        -5.86756925e+02,  1.64046182e+10, -1.23744012e+02,\n",
      "        -3.41444811e+02, -4.00215697e+02,  7.03642978e+02,\n",
      "         1.25397917e+03, -3.29132457e+02,  3.66426045e+03,\n",
      "        -1.31623563e+03],\n",
      "       [ 1.39790113e-03, -8.11023305e-03, -4.48373499e-04,\n",
      "        -2.97921774e-03,  5.40511638e-04, -8.92001704e-04,\n",
      "         1.33639735e-03, -1.23744012e+02,  2.25862329e-02,\n",
      "         9.11469467e-04, -1.32474941e-03, -9.53249620e-04,\n",
      "        -5.40599014e-03, -1.86652320e-03,  1.38725817e-04,\n",
      "         2.43397517e-03],\n",
      "       [ 9.00195254e-04, -1.51810127e-03,  1.55451370e-05,\n",
      "        -1.93314597e-05,  3.61560283e-05,  1.36110228e-04,\n",
      "         1.04869893e-03, -3.41444811e+02,  9.11469467e-04,\n",
      "         2.68466182e-03, -1.60392427e-04, -8.79268860e-04,\n",
      "        -2.71240501e-03,  1.19960743e-03,  1.03392456e-03,\n",
      "         3.96343659e-04],\n",
      "       [ 3.77700024e-04,  5.76324689e-03, -1.56877032e-04,\n",
      "        -2.24972925e-04, -8.65929936e-04, -9.69887086e-04,\n",
      "        -3.17549520e-04, -4.00215697e+02, -1.32474941e-03,\n",
      "        -1.60392427e-04,  4.34212031e-03, -1.26841232e-04,\n",
      "        -1.66320671e-03, -2.08826722e-03, -6.25678333e-04,\n",
      "        -1.03865265e-03],\n",
      "       [ 6.10566880e-04,  6.18850294e-03,  1.03734191e-03,\n",
      "         5.28337224e-04, -7.85087195e-04, -1.54734799e-03,\n",
      "        -1.62015444e-03,  7.03642978e+02, -9.53249620e-04,\n",
      "        -8.79268860e-04, -1.26841232e-04,  5.79985362e-03,\n",
      "         1.74994274e-03, -8.70712667e-04, -3.07185902e-03,\n",
      "        -6.55445483e-04],\n",
      "       [-6.32510532e-04,  3.39136586e-03, -7.99005076e-05,\n",
      "        -2.04127037e-03, -2.17561677e-04, -8.61128725e-03,\n",
      "        -7.63355333e-03,  1.25397917e+03, -5.40599014e-03,\n",
      "        -2.71240501e-03, -1.66320671e-03,  1.74994274e-03,\n",
      "         4.18130961e-02, -3.66945346e-03, -6.81900589e-03,\n",
      "        -1.96898418e-03],\n",
      "       [ 1.13519086e-03, -9.29733726e-03,  9.73020972e-04,\n",
      "         3.21531346e-04, -1.23964879e-03,  9.81731662e-04,\n",
      "         8.85573852e-04, -3.29132457e+02, -1.86652320e-03,\n",
      "         1.19960743e-03, -2.08826722e-03, -8.70712667e-04,\n",
      "        -3.66945346e-03,  3.68016048e-02,  1.79074820e-03,\n",
      "         8.26088886e-04],\n",
      "       [ 6.98722974e-04, -7.35937552e-03, -5.44596122e-04,\n",
      "        -3.20185814e-03, -2.21965614e-04,  1.63827512e-03,\n",
      "         2.74263595e-03,  3.66426045e+03,  1.38725817e-04,\n",
      "         1.03392456e-03, -6.25678333e-04, -3.07185902e-03,\n",
      "        -6.81900589e-03,  1.79074820e-03,  2.58757471e-02,\n",
      "        -1.59304186e-04],\n",
      "       [ 1.06019291e-03, -6.03712574e-03,  2.05233924e-04,\n",
      "        -3.94140015e-04, -8.08592298e-04, -4.31821286e-03,\n",
      "         7.06589180e-04, -1.31623563e+03,  2.43397517e-03,\n",
      "         3.96343659e-04, -1.03865265e-03, -6.55445483e-04,\n",
      "        -1.96898418e-03,  8.26088886e-04, -1.59304186e-04,\n",
      "         1.54123277e-02]])\n",
      "      jac: array([-3.86282040e-07, -2.06286963e-07,  2.66727474e-07,  1.34123026e-06,\n",
      "       -9.32290175e-08, -5.79976419e-07, -6.50826098e-07, -2.03302221e-11,\n",
      "        1.63846200e-06, -4.51504265e-06, -3.26728636e-07,  2.56998464e-06,\n",
      "        2.16266552e-07,  4.74538648e-07,  2.92299680e-06, -5.27784744e-06])\n",
      "  message: 'Optimization terminated successfully.'\n",
      "     nfev: 101\n",
      "      nit: 79\n",
      "     njev: 101\n",
      "   status: 0\n",
      "  success: True\n",
      "        x: array([ 5.86184664, 19.72562265,  2.50010543,  4.24438459,  0.30312152,\n",
      "       -0.03949397,  2.0730901 , 33.14484832,  2.18669321, -0.45700645,\n",
      "       -1.72473806, -1.57435931,  1.06882907,  5.54901167,  3.18680729,\n",
      "        9.79740958])\n",
      "\n",
      "Final ln-likelihood: -17091.42\n",
      "done in 5088.293s\n"
     ]
    }
   ],
   "source": [
    "def neg_ln_like(p):\n",
    "    gp.set_parameter_vector(p)\n",
    "    return -gp.log_likelihood(y)\n",
    "\n",
    "def grad_neg_ln_like(p):\n",
    "    gp.set_parameter_vector(p)\n",
    "    return -gp.grad_log_likelihood(y)\n",
    "\n",
    "t0=time()\n",
    "\n",
    "result = minimize(neg_ln_like, gp.get_parameter_vector(), jac=grad_neg_ln_like)\n",
    "print(result)\n",
    "\n",
    "gp.set_parameter_vector(result.x)\n",
    "print(\"\\nFinal ln-likelihood: {0:.2f}\".format(gp.log_likelihood(y)))\n",
    "\n",
    "print(\"done in %0.3fs\" % (time() - t0))"
   ]
  },
  {
   "cell_type": "code",
   "execution_count": 25,
   "metadata": {},
   "outputs": [
    {
     "data": {
      "text/plain": [
       "-17091.423734734555"
      ]
     },
     "execution_count": 25,
     "metadata": {},
     "output_type": "execute_result"
    }
   ],
   "source": [
    "gp.log_likelihood(y)"
   ]
  },
  {
   "cell_type": "code",
   "execution_count": 100,
   "metadata": {},
   "outputs": [
    {
     "data": {
      "text/plain": [
       "array([-11.35327176,   0.50289484,   0.97712779,   1.72387938,\n",
       "         0.41703657,   1.32037882,   1.39290879,   0.91110684,\n",
       "         0.93115906,   0.67808866,   1.4015371 ,   1.22014199,\n",
       "         1.08175175,   0.81944382,   1.09810394,   1.30350469])"
      ]
     },
     "execution_count": 100,
     "metadata": {},
     "output_type": "execute_result"
    }
   ],
   "source": [
    "gp.grad_log_likelihood(y)"
   ]
  },
  {
   "cell_type": "code",
   "execution_count": 30,
   "metadata": {
    "scrolled": true
   },
   "outputs": [
    {
     "data": {
      "text/plain": [
       "<bound method Model.get_parameter_vector of ConstantKernel(log_constant=5.861846644723078, ndim=15, axes=array([ 0,  1,  2,  3,  4,  5,  6,  7,  8,  9, 10, 11, 12, 13, 14])) * ExpSquaredKernel(metric=Metric(368747486.94153225, ndim=15, axes=array([0]), bounds=[(None, None)]), block=None) * ExpSquaredKernel(metric=Metric(12.183778369864731, ndim=15, axes=array([1]), bounds=[(None, None)]), block=None) * ExpSquaredKernel(metric=Metric(69.7128446812557, ndim=15, axes=array([2]), bounds=[(None, None)]), block=None) * ExpSquaredKernel(metric=Metric(1.3540790004676146, ndim=15, axes=array([3]), bounds=[(None, None)]), block=None) * ExpSquaredKernel(metric=Metric(0.9612757498743995, ndim=15, axes=array([4]), bounds=[(None, None)]), block=None) * ExpSquaredKernel(metric=Metric(7.94934951407204, ndim=15, axes=array([5]), bounds=[(None, None)]), block=None) * ExpSquaredKernel(metric=Metric(248098836414978.03, ndim=15, axes=array([6]), bounds=[(None, None)]), block=None) * ExpSquaredKernel(metric=Metric(8.90571506803852, ndim=15, axes=array([7]), bounds=[(None, None)]), block=None) * ExpSquaredKernel(metric=Metric(0.6331762559229698, ndim=15, axes=array([8]), bounds=[(None, None)]), block=None) * ExpSquaredKernel(metric=Metric(0.17821972806900696, ndim=15, axes=array([9]), bounds=[(None, None)]), block=None) * ExpSquaredKernel(metric=Metric(0.20714022302638357, ndim=15, axes=array([10]), bounds=[(None, None)]), block=None) * ExpSquaredKernel(metric=Metric(2.911967800106988, ndim=15, axes=array([11]), bounds=[(None, None)]), block=None) * ExpSquaredKernel(metric=Metric(256.98344525106506, ndim=15, axes=array([12]), bounds=[(None, None)]), block=None) * ExpSquaredKernel(metric=Metric(24.211005309073407, ndim=15, axes=array([13]), bounds=[(None, None)]), block=None) * ExpSquaredKernel(metric=Metric(17987.09036092847, ndim=15, axes=array([14]), bounds=[(None, None)]), block=None)>"
      ]
     },
     "execution_count": 30,
     "metadata": {},
     "output_type": "execute_result"
    }
   ],
   "source": [
    "kernel.get_parameter_vector # this was after running the minimize function"
   ]
  },
  {
   "cell_type": "code",
   "execution_count": 99,
   "metadata": {},
   "outputs": [
    {
     "data": {
      "text/plain": [
       "<bound method Model.get_parameter_vector of ConstantKernel(log_constant=6.330431924413444, ndim=15, axes=array([ 0,  1,  2,  3,  4,  5,  6,  7,  8,  9, 10, 11, 12, 13, 14])) * ExpSquaredKernel(metric=Metric(810000.0000000002, ndim=15, axes=array([0]), bounds=[(None, None)]), block=None) * ExpSquaredKernel(metric=Metric(1.0, ndim=15, axes=array([1]), bounds=[(None, None)]), block=None) * ExpSquaredKernel(metric=Metric(1.0, ndim=15, axes=array([2]), bounds=[(None, None)]), block=None) * ExpSquaredKernel(metric=Metric(0.6400000000000001, ndim=15, axes=array([3]), bounds=[(None, None)]), block=None) * ExpSquaredKernel(metric=Metric(0.006399999999999998, ndim=15, axes=array([4]), bounds=[(None, None)]), block=None) * ExpSquaredKernel(metric=Metric(0.25, ndim=15, axes=array([5]), bounds=[(None, None)]), block=None) * ExpSquaredKernel(metric=Metric(1.0, ndim=15, axes=array([6]), bounds=[(None, None)]), block=None) * ExpSquaredKernel(metric=Metric(0.04000000000000001, ndim=15, axes=array([7]), bounds=[(None, None)]), block=None) * ExpSquaredKernel(metric=Metric(0.25, ndim=15, axes=array([8]), bounds=[(None, None)]), block=None) * ExpSquaredKernel(metric=Metric(0.04000000000000001, ndim=15, axes=array([9]), bounds=[(None, None)]), block=None) * ExpSquaredKernel(metric=Metric(0.0625, ndim=15, axes=array([10]), bounds=[(None, None)]), block=None) * ExpSquaredKernel(metric=Metric(0.0625, ndim=15, axes=array([11]), bounds=[(None, None)]), block=None) * ExpSquaredKernel(metric=Metric(0.25, ndim=15, axes=array([12]), bounds=[(None, None)]), block=None) * ExpSquaredKernel(metric=Metric(0.16000000000000003, ndim=15, axes=array([13]), bounds=[(None, None)]), block=None) * ExpSquaredKernel(metric=Metric(24.999999999999996, ndim=15, axes=array([14]), bounds=[(None, None)]), block=None)>"
      ]
     },
     "execution_count": 99,
     "metadata": {},
     "output_type": "execute_result"
    }
   ],
   "source": [
    "kernel.get_parameter_vector"
   ]
  },
  {
   "cell_type": "code",
   "execution_count": 24,
   "metadata": {},
   "outputs": [
    {
     "data": {
      "text/plain": [
       "[<matplotlib.lines.Line2D at 0x7f1b90311080>]"
      ]
     },
     "execution_count": 24,
     "metadata": {},
     "output_type": "execute_result"
    },
    {
     "data": {
      "image/png": "[encoded data removed]",
      "text/plain": [
       "<Figure size 432x288 with 1 Axes>"
      ]
     },
     "metadata": {
      "needs_background": "light"
     },
     "output_type": "display_data"
    }
   ],
   "source": [
    "pred, pred_var = gp.predict(y, sl, return_var=True)\n",
    "\n",
    "plt.fill_between(np.array(sl)[:,0], pred - np.sqrt(pred_var), pred + np.sqrt(pred_var),\n",
    "                color=\"b\", alpha=0.2)\n",
    "plt.plot(np.array(sl)[:,0], pred, \"r\", lw=1.5, alpha=0.5)"
   ]
  },
  {
   "cell_type": "code",
   "execution_count": null,
   "metadata": {},
   "outputs": [],
   "source": []
  },
  {
   "cell_type": "code",
   "execution_count": 31,
   "metadata": {},
   "outputs": [],
   "source": [
    "X, y = load_pcwpar(1)\n",
    "yerr=[x*0.01 for x in y]"
   ]
  },
  {
   "cell_type": "code",
   "execution_count": 32,
   "metadata": {},
   "outputs": [],
   "source": [
    "kernel = kernels.ExpSquaredKernel(900**2,ndim=15,axes=0)*\\\n",
    "        kernels.ExpSquaredKernel(1**2,ndim=15,axes=1)*\\\n",
    "        kernels.ExpSquaredKernel(1**2,ndim=15,axes=2)*\\\n",
    "        kernels.ExpSquaredKernel(0.8**2,ndim=15,axes=3)*\\\n",
    "        kernels.ExpSquaredKernel(0.08**2,ndim=15,axes=4)*\\\n",
    "        kernels.ExpSquaredKernel(0.5**2,ndim=15,axes=5)*\\\n",
    "        kernels.ExpSquaredKernel(1**2,ndim=15,axes=6)*\\\n",
    "        kernels.ExpSquaredKernel(0.2**2,ndim=15,axes=7)*\\\n",
    "        kernels.ExpSquaredKernel(0.5**2,ndim=15,axes=8)*\\\n",
    "        kernels.ExpSquaredKernel(0.2**2,ndim=15,axes=9)*\\\n",
    "        kernels.ExpSquaredKernel(0.25**2,ndim=15,axes=10)*\\\n",
    "        kernels.ExpSquaredKernel(0.25**2,ndim=15,axes=11)*\\\n",
    "        kernels.ExpSquaredKernel(0.5**2,ndim=15,axes=12)*\\\n",
    "        kernels.ExpSquaredKernel(0.4**2,ndim=15,axes=13)*\\\n",
    "        kernels.ExpSquaredKernel(5**2,ndim=15,axes=14) * np.var(y)\n",
    "\n",
    "gp = george.GP(kernel)\n",
    "gp.compute(X,yerr)"
   ]
  },
  {
   "cell_type": "code",
   "execution_count": 40,
   "metadata": {},
   "outputs": [
    {
     "data": {
      "text/plain": [
       "[<matplotlib.lines.Line2D at 0x7f1b6393ae48>]"
      ]
     },
     "execution_count": 40,
     "metadata": {},
     "output_type": "execute_result"
    },
    {
     "data": {
      "image/png": "[encoded data removed]",
      "text/plain": [
       "<Figure size 432x288 with 1 Axes>"
      ]
     },
     "metadata": {
      "needs_background": "light"
     },
     "output_type": "display_data"
    }
   ],
   "source": [
    "sl=[]\n",
    "for i in range(11):\n",
    "    x=[steps[0][5],steps[1][i]]\n",
    "    for j in range(len(ranges)-2):\n",
    "        x.append(steps[j+2][5])\n",
    "    sl.append(x)\n",
    "\n",
    "pred, pred_var = gp.predict(y, sl, return_var=True)\n",
    "plt.fill_between(np.array(sl)[:,1], pred - np.sqrt(pred_var), pred + np.sqrt(pred_var),\n",
    "                color=\"b\", alpha=0.2)\n",
    "plt.plot(np.array(sl)[:,1], pred, \"r\", lw=1.5, alpha=0.5)"
   ]
  },
  {
   "cell_type": "code",
   "execution_count": 41,
   "metadata": {},
   "outputs": [
    {
     "name": "stdout",
     "output_type": "stream",
     "text": [
      "Initial ln-likelihood: -16438.10\n"
     ]
    }
   ],
   "source": [
    "print(\"Initial ln-likelihood: {0:.2f}\".format(gp.log_likelihood(y)))"
   ]
  },
  {
   "cell_type": "code",
   "execution_count": 42,
   "metadata": {},
   "outputs": [
    {
     "name": "stdout",
     "output_type": "stream",
     "text": [
      "      fun: 13714.376077576575\n",
      " hess_inv: array([[ 2.68976012e-03,  2.20636088e-03,  9.47277610e-04,\n",
      "         6.47246962e-04,  1.27401447e-03,  9.07120069e-04,\n",
      "         1.99858991e-03,  1.42657617e-03,  7.10092595e-04,\n",
      "         8.79076004e-04,  9.64385589e-04,  1.50596207e-03,\n",
      "         4.49288771e-04,  1.54232700e-03,  3.92394116e-04,\n",
      "         8.91761865e-04],\n",
      "       [ 2.20636088e-03,  2.21178739e-01,  3.74811906e-03,\n",
      "         8.27217832e-04, -2.32666823e-03, -6.02504944e-03,\n",
      "         8.22677247e-03, -2.11022930e-02, -6.16300014e-03,\n",
      "        -9.82520807e-05, -2.13674293e-03,  1.88343883e-03,\n",
      "        -9.50159130e-03,  5.76218469e-03, -4.55914601e-03,\n",
      "        -3.12089183e-03],\n",
      "       [ 9.47277610e-04,  3.74811906e-03,  6.32598738e-03,\n",
      "        -4.86655905e-04,  1.29200415e-04, -2.32254589e-04,\n",
      "        -1.64362395e-04, -2.74854590e-03, -1.57836861e-03,\n",
      "        -1.89779636e-04, -4.27929874e-04,  7.31121402e-04,\n",
      "        -4.59199183e-04, -1.57328314e-04,  3.27282980e-03,\n",
      "        -1.29980901e-03],\n",
      "       [ 6.47246962e-04,  8.27217832e-04, -4.86655905e-04,\n",
      "         7.63692193e-03,  1.66356182e-04,  5.96287461e-04,\n",
      "        -6.56639056e-04, -1.91434873e-03, -1.68478501e-03,\n",
      "         6.71261727e-04,  2.04916586e-04, -4.16633479e-04,\n",
      "         6.75015269e-04, -2.38736388e-03, -2.91246886e-03,\n",
      "        -1.27301136e-03],\n",
      "       [ 1.27401447e-03, -2.32666823e-03,  1.29200415e-04,\n",
      "         1.66356182e-04,  5.96550467e-03, -3.26478034e-04,\n",
      "        -1.02665367e-04, -6.03856967e-04,  2.43059508e-04,\n",
      "        -5.51958642e-04,  5.29708893e-05,  5.95200940e-04,\n",
      "        -1.92589156e-03,  1.32517853e-03, -3.43564618e-04,\n",
      "         4.00114309e-04],\n",
      "       [ 9.07120069e-04, -6.02504944e-03, -2.32254589e-04,\n",
      "         5.96287461e-04, -3.26478034e-04,  3.48894144e-02,\n",
      "        -8.78364178e-04,  5.11790404e-03,  4.00269088e-03,\n",
      "        -1.40878204e-04, -2.75425705e-03, -4.60634946e-03,\n",
      "         2.54502891e-03, -6.64458577e-03,  2.98390837e-03,\n",
      "        -1.66468406e-03],\n",
      "       [ 1.99858991e-03,  8.22677247e-03, -1.64362395e-04,\n",
      "        -6.56639056e-04, -1.02665367e-04, -8.78364178e-04,\n",
      "         2.55072547e-02, -2.18990447e-03, -1.70451289e-03,\n",
      "        -8.08221390e-04, -8.59406740e-04,  1.77757270e-03,\n",
      "        -2.91227290e-03, -4.20506444e-03, -8.20567551e-03,\n",
      "         1.29954351e-03],\n",
      "       [ 1.42657617e-03, -2.11022930e-02, -2.74854590e-03,\n",
      "        -1.91434873e-03, -6.03856967e-04,  5.11790404e-03,\n",
      "        -2.18990447e-03,  7.33637275e-02,  3.68786909e-03,\n",
      "        -6.49381317e-04, -2.70459408e-03, -2.76289953e-03,\n",
      "        -2.01680452e-04, -7.32043553e-03, -5.58628077e-03,\n",
      "         6.33629866e-03],\n",
      "       [ 7.10092595e-04, -6.16300014e-03, -1.57836861e-03,\n",
      "        -1.68478501e-03,  2.43059508e-04,  4.00269088e-03,\n",
      "        -1.70451289e-03,  3.68786909e-03,  2.41937439e-02,\n",
      "        -6.81464337e-04, -1.64887430e-03, -1.76743762e-03,\n",
      "         1.38126644e-03, -1.43966544e-03, -5.17067320e-03,\n",
      "         1.55845443e-03],\n",
      "       [ 8.79076004e-04, -9.82520807e-05, -1.89779636e-04,\n",
      "         6.71261727e-04, -5.51958642e-04, -1.40878204e-04,\n",
      "        -8.08221390e-04, -6.49381317e-04, -6.81464337e-04,\n",
      "         5.46965474e-03,  2.29958902e-04, -6.77648203e-04,\n",
      "        -1.42434253e-03, -1.04431093e-03, -2.98161620e-03,\n",
      "        -2.34636891e-03],\n",
      "       [ 9.64385589e-04, -2.13674293e-03, -4.27929874e-04,\n",
      "         2.04916586e-04,  5.29708893e-05, -2.75425705e-03,\n",
      "        -8.59406740e-04, -2.70459408e-03, -1.64887430e-03,\n",
      "         2.29958902e-04,  5.50708111e-03,  7.39091543e-04,\n",
      "        -2.68458244e-03,  2.05268398e-03, -1.21110114e-03,\n",
      "        -1.04426176e-03],\n",
      "       [ 1.50596207e-03,  1.88343883e-03,  7.31121402e-04,\n",
      "        -4.16633479e-04,  5.95200940e-04, -4.60634946e-03,\n",
      "         1.77757270e-03, -2.76289953e-03, -1.76743762e-03,\n",
      "        -6.77648203e-04,  7.39091543e-04,  8.68993622e-03,\n",
      "        -1.43724206e-03,  1.66213994e-03, -1.85307296e-03,\n",
      "        -1.40095431e-03],\n",
      "       [ 4.49288771e-04, -9.50159130e-03, -4.59199183e-04,\n",
      "         6.75015269e-04, -1.92589156e-03,  2.54502891e-03,\n",
      "        -2.91227290e-03, -2.01680452e-04,  1.38126644e-03,\n",
      "        -1.42434253e-03, -2.68458244e-03, -1.43724206e-03,\n",
      "         7.39181158e-02, -5.48624957e-03, -2.46996297e-03,\n",
      "        -2.40557530e-03],\n",
      "       [ 1.54232700e-03,  5.76218469e-03, -1.57328314e-04,\n",
      "        -2.38736388e-03,  1.32517853e-03, -6.64458577e-03,\n",
      "        -4.20506444e-03, -7.32043553e-03, -1.43966544e-03,\n",
      "        -1.04431093e-03,  2.05268398e-03,  1.66213994e-03,\n",
      "        -5.48624957e-03,  4.37626512e-02,  2.80145968e-03,\n",
      "        -1.34949163e-03],\n",
      "       [ 3.92394116e-04, -4.55914601e-03,  3.27282980e-03,\n",
      "        -2.91246886e-03, -3.43564618e-04,  2.98390837e-03,\n",
      "        -8.20567551e-03, -5.58628077e-03, -5.17067320e-03,\n",
      "        -2.98161620e-03, -1.21110114e-03, -1.85307296e-03,\n",
      "        -2.46996297e-03,  2.80145968e-03,  1.14940979e-01,\n",
      "        -4.65882030e-03],\n",
      "       [ 8.91761865e-04, -3.12089183e-03, -1.29980901e-03,\n",
      "        -1.27301136e-03,  4.00114309e-04, -1.66468406e-03,\n",
      "         1.29954351e-03,  6.33629866e-03,  1.55845443e-03,\n",
      "        -2.34636891e-03, -1.04426176e-03, -1.40095431e-03,\n",
      "        -2.40557530e-03, -1.34949163e-03, -4.65882030e-03,\n",
      "         2.10235182e-02]])\n",
      "      jac: array([-6.60864345e-06,  3.38472579e-07, -3.51299999e-06, -4.30526268e-08,\n",
      "       -1.63913895e-06,  7.86657152e-08,  2.05880675e-06,  1.23693254e-06,\n",
      "       -1.67016923e-06, -5.71595717e-06, -4.87424290e-06, -1.82931470e-06,\n",
      "       -2.24658086e-07, -4.01969152e-08, -8.59674713e-07, -3.35393640e-06])\n",
      "  message: 'Optimization terminated successfully.'\n",
      "     nfev: 70\n",
      "      nit: 47\n",
      "     njev: 70\n",
      "   status: 0\n",
      "  success: True\n",
      "        x: array([ 3.33651868, 18.85104237,  1.43582727,  3.02190106,  0.22885029,\n",
      "       -0.13407572,  2.36486795,  3.38621349,  1.73813531, -1.06530178,\n",
      "       -1.99763891, -1.41746269,  2.0625887 ,  4.83291385,  3.95183073,\n",
      "        9.32779518])\n",
      "\n",
      "Final ln-likelihood: -13714.38\n",
      "done in 3516.582s\n"
     ]
    }
   ],
   "source": [
    "def neg_ln_like(p):\n",
    "    gp.set_parameter_vector(p)\n",
    "    return -gp.log_likelihood(y)\n",
    "\n",
    "def grad_neg_ln_like(p):\n",
    "    gp.set_parameter_vector(p)\n",
    "    return -gp.grad_log_likelihood(y)\n",
    "\n",
    "t0=time()\n",
    "\n",
    "result = minimize(neg_ln_like, gp.get_parameter_vector(), jac=grad_neg_ln_like)\n",
    "print(result)\n",
    "\n",
    "gp.set_parameter_vector(result.x)\n",
    "print(\"\\nFinal ln-likelihood: {0:.2f}\".format(gp.log_likelihood(y)))\n",
    "\n",
    "print(\"done in %0.3fs\" % (time() - t0))"
   ]
  },
  {
   "cell_type": "code",
   "execution_count": 43,
   "metadata": {},
   "outputs": [
    {
     "data": {
      "text/plain": [
       "[<matplotlib.lines.Line2D at 0x7f1b64d40dd8>]"
      ]
     },
     "execution_count": 43,
     "metadata": {},
     "output_type": "execute_result"
    },
    {
     "data": {
      "image/png": "[encoded data removed]",
      "text/plain": [
       "<Figure size 432x288 with 1 Axes>"
      ]
     },
     "metadata": {
      "needs_background": "light"
     },
     "output_type": "display_data"
    }
   ],
   "source": [
    "sl=[]\n",
    "for i in range(11):\n",
    "    x=[steps[0][5],steps[1][i]]\n",
    "    for j in range(len(ranges)-2):\n",
    "        x.append(steps[j+2][5])\n",
    "    sl.append(x)\n",
    "\n",
    "pred, pred_var = gp.predict(y, sl, return_var=True)\n",
    "plt.fill_between(np.array(sl)[:,1], pred - np.sqrt(pred_var), pred + np.sqrt(pred_var),\n",
    "                color=\"b\", alpha=0.2)\n",
    "plt.plot(np.array(sl)[:,1], pred, \"r\", lw=1.5, alpha=0.5)"
   ]
  },
  {
   "cell_type": "code",
   "execution_count": null,
   "metadata": {},
   "outputs": [],
   "source": []
  }
 ],
 "metadata": {
  "kernelspec": {
   "display_name": "Python 3",
   "language": "python",
   "name": "python3"
  },
  "language_info": {
   "codemirror_mode": {
    "name": "ipython",
    "version": 3
   },
   "file_extension": ".py",
   "mimetype": "text/x-python",
   "name": "python",
   "nbconvert_exporter": "python",
   "pygments_lexer": "ipython3",
   "version": "3.7.3"
  }
 },
 "nbformat": 4,
 "nbformat_minor": 2
}
