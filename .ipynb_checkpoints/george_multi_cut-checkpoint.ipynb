{
 "cells": [
  {
   "cell_type": "code",
   "execution_count": 27,
   "metadata": {},
   "outputs": [],
   "source": [
    "import numpy as np\n",
    "from matplotlib import pyplot as plt\n",
    "\n",
    "import os\n",
    "import pickle\n",
    "from time import time\n",
    "from sklearn.decomposition import PCA\n",
    "\n",
    "import george\n",
    "from george import kernels\n",
    "from scipy.optimize import minimize\n",
    "\n",
    "%matplotlib inline"
   ]
  },
  {
   "cell_type": "code",
   "execution_count": 28,
   "metadata": {},
   "outputs": [],
   "source": [
    "param_names = [\"Tstar\",\"logL_star\",\"logM_disk\",\"logR_disk\",\"h_0\",\"logR_in\",\\\n",
    "          \"gamma\",\"beta\",\"logM_env\",\"logR_env\",\"f_cav\",\"ksi\",\"loga_max\",\"p\",\"incl\"]\n",
    "    \n",
    "ranges = [[3000.,5000.], [-1,3.],[-8.,-2.], [0.,3.],[0.01,0.5],[-1.,2.5],[0.0,2.0],\\\n",
    "        [0.5,2.0],[-8.,-2.],[2.5,4.], [0.,1.], [0.5,1.5],[0.,5.],[2.5,4.5],[0.,90.]]\n",
    "steps=[]\n",
    "for i in range(len(ranges)):\n",
    "    steps.append(np.linspace(ranges[i][0],ranges[i][1],11))\n",
    "\n",
    "sl=[]\n",
    "for i in range(11):\n",
    "    x=[steps[0][i]]\n",
    "    for j in range(len(ranges)-1):\n",
    "        x.append(steps[j+1][5])\n",
    "    sl.append(x)\n",
    "    \n",
    "dictionary=np.load(\"../grid_metadata/dictionary.npy\")\n",
    "    \n",
    "# training set - read in filenames and logspace flux values\n",
    "with open ('../grid_metadata/cubefull.txt', 'rb') as fp:\n",
    "    cube = np.array(pickle.load(fp))[:,100:500]\n",
    "with open ('../grid_metadata/cubefull.txt', 'rb') as fp:\n",
    "    nancube = np.array(pickle.load(fp))[:,100:500]    \n",
    "    \n",
    "# x values (wavelengths) - 500 values, in normal space\n",
    "with open ('../grid_metadata/xvals.txt', 'rb') as fp:\n",
    "    xvals = pickle.load(fp)[100:500]\n",
    "    \n",
    "# fix -infs: powerlaw cutoff\n",
    "for i in range(len(cube)):\n",
    "    if -np.inf in cube[i]:\n",
    "        a = cube[i].tolist()\n",
    "        a.reverse()\n",
    "        ind = len(a)-a.index(-np.inf)\n",
    "        x1 = xvals[ind]\n",
    "        y1 = cube[i][ind]\n",
    "        for j in range(ind):\n",
    "            cube[i][j]=(100*(np.log10(xvals[j]/x1)))+y1\n",
    "            \n",
    "# nan cutoff for means            \n",
    "nancube[nancube<-20]=np.nan\n"
   ]
  },
  {
   "cell_type": "code",
   "execution_count": 29,
   "metadata": {},
   "outputs": [],
   "source": [
    "# cut out anomalistic portions of parameter space - high gamma, high logMenv\n",
    "\n",
    "cube_cut=[]\n",
    "nancube_cut=[]\n",
    "\n",
    "for i in range(len(cube)):\n",
    "    if dictionary[i][\"gamma\"]<1.5 and dictionary[i][\"logM_env\"]<-4 and dictionary[i][\"h_0\"]>0.2:\n",
    "        cube_cut.append(cube[i])\n",
    "        nancube_cut.append(nancube[i])"
   ]
  },
  {
   "cell_type": "code",
   "execution_count": 30,
   "metadata": {},
   "outputs": [
    {
     "data": {
      "text/plain": [
       "(1183, 400)"
      ]
     },
     "execution_count": 30,
     "metadata": {},
     "output_type": "execute_result"
    }
   ],
   "source": [
    "np.array(cube_cut).shape"
   ]
  },
  {
   "cell_type": "code",
   "execution_count": 31,
   "metadata": {},
   "outputs": [],
   "source": [
    "cube=cube_cut\n",
    "nancube=nancube_cut"
   ]
  },
  {
   "cell_type": "code",
   "execution_count": 32,
   "metadata": {},
   "outputs": [
    {
     "name": "stdout",
     "output_type": "stream",
     "text": [
      "done in 0.059s\n"
     ]
    }
   ],
   "source": [
    "# subtracting from the seds each sample mean\n",
    "seds_msub = cube - np.nanmean(nancube,axis=1)[:,np.newaxis]\n",
    "\n",
    "t0 = time()\n",
    "pca = PCA(n_components=40).fit(seds_msub)\n",
    "print(\"done in %0.3fs\" % (time() - t0))\n",
    "\n",
    "eigenseds=np.array(pca.components_)\n",
    "\n",
    "fitdata=[]\n",
    "\n",
    "for i in range(len(cube)):\n",
    "    modeldata=[]\n",
    "    coeffs=pca.transform(seds_msub[i].reshape(1,-1))\n",
    "    for k in range(18):\n",
    "        modeldata.append(coeffs[0][k])\n",
    "    fitdata.append(modeldata)\n",
    "    \n",
    "def load_pcwpar(weight):\n",
    "    p=[]\n",
    "    w=[]\n",
    "    for i in range(len(cube)):\n",
    "        pars=[]\n",
    "        for j in range(len(param_names)):\n",
    "            pars.append(dictionary[i][param_names[j]])\n",
    "        p.append(pars)\n",
    "        w.append(fitdata[i][weight])\n",
    "    \n",
    "    return p,w"
   ]
  },
  {
   "cell_type": "code",
   "execution_count": 33,
   "metadata": {},
   "outputs": [],
   "source": [
    "X, y = load_pcwpar(0)\n",
    "yerr=[x*0.01 for x in y]"
   ]
  },
  {
   "cell_type": "code",
   "execution_count": 34,
   "metadata": {},
   "outputs": [],
   "source": [
    "kernel = np.var(y) * kernels.ExpSquaredKernel(900**2,ndim=15,axes=0)*\\\n",
    "        kernels.ExpSquaredKernel(1**2,ndim=15,axes=1)*\\\n",
    "        kernels.ExpSquaredKernel(1**2,ndim=15,axes=2)*\\\n",
    "        kernels.ExpSquaredKernel(0.8**2,ndim=15,axes=3)*\\\n",
    "        kernels.ExpSquaredKernel(0.08**2,ndim=15,axes=4)*\\\n",
    "        kernels.ExpSquaredKernel(0.5**2,ndim=15,axes=5)*\\\n",
    "        kernels.ExpSquaredKernel(1**2,ndim=15,axes=6)*\\\n",
    "        kernels.ExpSquaredKernel(0.2**2,ndim=15,axes=7)*\\\n",
    "        kernels.ExpSquaredKernel(0.5**2,ndim=15,axes=8)*\\\n",
    "        kernels.ExpSquaredKernel(0.2**2,ndim=15,axes=9)*\\\n",
    "        kernels.ExpSquaredKernel(0.25**2,ndim=15,axes=10)*\\\n",
    "        kernels.ExpSquaredKernel(0.25**2,ndim=15,axes=11)*\\\n",
    "        kernels.ExpSquaredKernel(0.5**2,ndim=15,axes=12)*\\\n",
    "        kernels.ExpSquaredKernel(0.4**2,ndim=15,axes=13)*\\\n",
    "        kernels.ExpSquaredKernel(5**2,ndim=15,axes=14) \n",
    "\n",
    "gp = george.GP(kernel)\n",
    "gp.compute(X,yerr)"
   ]
  },
  {
   "cell_type": "code",
   "execution_count": 35,
   "metadata": {},
   "outputs": [
    {
     "data": {
      "text/plain": [
       "array([ 3.19756224, 13.60478953,  0.        ,  0.        , -0.4462871 ,\n",
       "       -5.05145729, -1.38629436,  0.        , -3.21887582, -1.38629436,\n",
       "       -3.21887582, -2.77258872, -2.77258872, -1.38629436, -1.83258146,\n",
       "        3.21887582])"
      ]
     },
     "execution_count": 35,
     "metadata": {},
     "output_type": "execute_result"
    }
   ],
   "source": [
    "gp.get_parameter_vector()"
   ]
  },
  {
   "cell_type": "code",
   "execution_count": 36,
   "metadata": {
    "scrolled": true
   },
   "outputs": [
    {
     "data": {
      "text/plain": [
       "[5.86184664,\n",
       " 19.72562265,\n",
       " 2.50010543,\n",
       " 4.24438459,\n",
       " 0.30312152,\n",
       " -0.03949397,\n",
       " 2.0730901,\n",
       " 33.14484832,\n",
       " 2.18669321,\n",
       " -0.45700645,\n",
       " -1.72473806,\n",
       " -1.57435931,\n",
       " 1.06882907,\n",
       " 5.54901167,\n",
       " 3.18680729,\n",
       " 9.79740958]"
      ]
     },
     "execution_count": 36,
     "metadata": {},
     "output_type": "execute_result"
    }
   ],
   "source": [
    "# these are posteriors from minimize run\n",
    "[ 5.86184664, 19.72562265,  2.50010543,  4.24438459,  0.30312152,\n",
    "       -0.03949397,  2.0730901 , 33.14484832,  2.18669321, -0.45700645,\n",
    "       -1.72473806, -1.57435931,  1.06882907,  5.54901167,  3.18680729,\n",
    "        9.79740958]\n",
    "[  3.15655448,  15.84643392,   0.32542584,   0.24259611,\n",
    "        -3.8344573 , 126.89142405,  -3.84177452,  -1.21220866,\n",
    "        -0.54629483, 134.07269997,  -2.1566567 , 133.64091739,\n",
    "        -2.89916344,   2.02501553,  13.87164411,   7.76948256]"
   ]
  },
  {
   "cell_type": "code",
   "execution_count": 25,
   "metadata": {
    "scrolled": true
   },
   "outputs": [
    {
     "data": {
      "text/plain": [
       "7.595966602107333e+28"
      ]
     },
     "execution_count": 25,
     "metadata": {},
     "output_type": "execute_result"
    }
   ],
   "source": [
    "np.sqrt(np.exp(133))  # check lengthscales from hyperparameter posteriors"
   ]
  },
  {
   "cell_type": "code",
   "execution_count": 37,
   "metadata": {},
   "outputs": [
    {
     "data": {
      "text/plain": [
       "[<matplotlib.lines.Line2D at 0x7f78e90bdd30>]"
      ]
     },
     "execution_count": 37,
     "metadata": {},
     "output_type": "execute_result"
    },
    {
     "data": {
      "image/png": "[encoded data removed]",
      "text/plain": [
       "<Figure size 432x288 with 1 Axes>"
      ]
     },
     "metadata": {
      "needs_background": "light"
     },
     "output_type": "display_data"
    }
   ],
   "source": [
    "pred, pred_var = gp.predict(y, sl, return_var=True)\n",
    "plt.fill_between(np.array(sl)[:,0], pred - np.sqrt(pred_var), pred + np.sqrt(pred_var),\n",
    "                color=\"b\", alpha=0.2)\n",
    "plt.plot(np.array(sl)[:,0], pred, \"r\", lw=1.5, alpha=0.5)"
   ]
  },
  {
   "cell_type": "code",
   "execution_count": 38,
   "metadata": {},
   "outputs": [
    {
     "name": "stdout",
     "output_type": "stream",
     "text": [
      "Initial ln-likelihood: -5171.70\n"
     ]
    }
   ],
   "source": [
    "print(\"Initial ln-likelihood: {0:.2f}\".format(gp.log_likelihood(y)))"
   ]
  },
  {
   "cell_type": "code",
   "execution_count": 39,
   "metadata": {},
   "outputs": [
    {
     "name": "stdout",
     "output_type": "stream",
     "text": [
      "      fun: 5159.446341963008\n",
      " hess_inv: array([[ 1.67807925e-03,  4.45869812e-04,  1.49362546e-04,\n",
      "         3.15749590e-03,  2.06709637e-03,  3.33088727e-03,\n",
      "         1.32571150e-03,  4.66711994e-04,  6.23391912e-03,\n",
      "         4.07754096e-03,  5.04902097e-03,  5.67397205e-03,\n",
      "         2.31761653e-03,  1.09879911e-03,  2.78609114e-03,\n",
      "         7.17076232e-04],\n",
      "       [ 4.45869812e-04,  4.16151651e-01, -8.65424675e-02,\n",
      "        -4.45657252e-01, -1.58265493e-01, -3.81226491e-01,\n",
      "         2.28593880e-02, -1.53762540e-02, -5.08207011e-01,\n",
      "        -3.18980656e-01, -4.68600282e-01, -5.26340215e-01,\n",
      "        -4.10370833e-01,  5.66253271e-02, -1.94870669e-01,\n",
      "        -8.63698616e-02],\n",
      "       [ 1.49362546e-04, -8.65424675e-02,  2.54999770e-01,\n",
      "         5.43401380e-01,  2.16036317e-01,  2.64141629e-01,\n",
      "        -7.74979140e-02, -2.29254307e-02,  6.77536862e-01,\n",
      "         4.71716677e-01,  5.79317829e-01,  6.24263011e-01,\n",
      "         3.39316299e-01, -7.22710032e-02,  3.32028597e-01,\n",
      "        -4.33351263e-02],\n",
      "       [ 3.15749590e-03, -4.45657252e-01,  5.43401380e-01,\n",
      "         9.60493950e+05,  5.41846361e+05,  7.22495705e+05,\n",
      "        -3.20877846e-01, -7.40204987e-01,  1.67531648e+06,\n",
      "         1.16155849e+06,  1.36553505e+06,  1.46341455e+06,\n",
      "         7.78787868e+05, -2.56676513e-01,  8.78601550e+05,\n",
      "        -2.95872971e-01],\n",
      "       [ 2.06709637e-03, -1.58265493e-01,  2.16036317e-01,\n",
      "         5.41846361e+05,  3.05675421e+05,  4.07584153e+05,\n",
      "         3.63955886e-02, -5.03427085e-01,  9.45104234e+05,\n",
      "         6.55275484e+05,  7.70345535e+05,  8.25562607e+05,\n",
      "         4.39340713e+05, -2.20856429e-02,  4.95649984e+05,\n",
      "        -4.12444459e-01],\n",
      "       [ 3.33088727e-03, -3.81226491e-01,  2.64141629e-01,\n",
      "         7.22495705e+05,  4.07584153e+05,  5.43471468e+05,\n",
      "        -2.67386074e-02, -6.60363168e-01,  1.26019560e+06,\n",
      "         8.73739909e+05,  1.02717382e+06,  1.10080010e+06,\n",
      "         5.85814675e+05, -9.32895284e-02,  6.60895932e+05,\n",
      "        -2.03821953e-01],\n",
      "       [ 1.32571150e-03,  2.28593880e-02, -7.74979140e-02,\n",
      "        -3.20877846e-01,  3.63955886e-02, -2.67386074e-02,\n",
      "         3.68885383e-01, -8.90695316e-02,  5.03212587e-02,\n",
      "         4.77020339e-02, -1.02149483e-02, -1.59477329e-02,\n",
      "        -8.06192762e-02,  1.28741827e-02,  7.98374746e-02,\n",
      "        -1.67134724e-02],\n",
      "       [ 4.66711994e-04, -1.53762540e-02, -2.29254307e-02,\n",
      "        -7.40204987e-01, -5.03427085e-01, -6.60363168e-01,\n",
      "        -8.90695316e-02,  2.57360704e-01, -1.54557615e+00,\n",
      "        -1.05941443e+00, -1.25101422e+00, -1.33390052e+00,\n",
      "        -7.52859466e-01, -5.65990477e-02, -8.25726695e-01,\n",
      "        -4.26693547e-03],\n",
      "       [ 6.23391912e-03, -5.08207011e-01,  6.77536862e-01,\n",
      "         1.67531648e+06,  9.45104234e+05,  1.26019560e+06,\n",
      "         5.03212587e-02, -1.54557615e+00,  2.92213632e+06,\n",
      "         2.02602374e+06,  2.38180499e+06,  2.55252878e+06,\n",
      "         1.35838285e+06, -7.47387487e-02,  1.53248308e+06,\n",
      "        -1.11326720e+00],\n",
      "       [ 4.07754096e-03, -3.18980656e-01,  4.71716677e-01,\n",
      "         1.16155849e+06,  6.55275484e+05,  8.73739909e+05,\n",
      "         4.77020339e-02, -1.05941443e+00,  2.02602374e+06,\n",
      "         1.40471774e+06,  1.65139283e+06,  1.76976187e+06,\n",
      "         9.41816545e+05, -6.39222849e-02,  1.06252689e+06,\n",
      "        -8.31307477e-01],\n",
      "       [ 5.04902097e-03, -4.68600282e-01,  5.79317829e-01,\n",
      "         1.36553505e+06,  7.70345535e+05,  1.02717382e+06,\n",
      "        -1.02149483e-02, -1.25101422e+00,  2.38180499e+06,\n",
      "         1.65139283e+06,  1.94138791e+06,  2.08054234e+06,\n",
      "         1.10720534e+06, -9.01630985e-02,  1.24911238e+06,\n",
      "        -8.34301512e-01],\n",
      "       [ 5.67397205e-03, -5.26340215e-01,  6.24263011e-01,\n",
      "         1.46341455e+06,  8.25562607e+05,  1.10080010e+06,\n",
      "        -1.59477329e-02, -1.33390052e+00,  2.55252878e+06,\n",
      "         1.76976187e+06,  2.08054234e+06,  2.22967324e+06,\n",
      "         1.18656809e+06, -1.07742452e-01,  1.33864654e+06,\n",
      "        -8.34745189e-01],\n",
      "       [ 2.31761653e-03, -4.10370833e-01,  3.39316299e-01,\n",
      "         7.78787868e+05,  4.39340713e+05,  5.85814675e+05,\n",
      "        -8.06192762e-02, -7.52859466e-01,  1.35838285e+06,\n",
      "         9.41816545e+05,  1.10720534e+06,  1.18656809e+06,\n",
      "         6.31459354e+05, -7.18020145e-02,  7.12389182e+05,\n",
      "        -3.52223042e-01],\n",
      "       [ 1.09879911e-03,  5.66253271e-02, -7.22710032e-02,\n",
      "        -2.56676513e-01, -2.20856429e-02, -9.32895284e-02,\n",
      "         1.28741827e-02, -5.65990477e-02, -7.47387487e-02,\n",
      "        -6.39222849e-02, -9.01630985e-02, -1.07742452e-01,\n",
      "        -7.18020145e-02,  3.20331979e-01, -4.11038977e-03,\n",
      "         7.02923048e-03],\n",
      "       [ 2.78609114e-03, -1.94870669e-01,  3.32028597e-01,\n",
      "         8.78601550e+05,  4.95649984e+05,  6.60895932e+05,\n",
      "         7.98374746e-02, -8.25726695e-01,  1.53248308e+06,\n",
      "         1.06252689e+06,  1.24911238e+06,  1.33864654e+06,\n",
      "         7.12389182e+05, -4.11038977e-03,  8.03695876e+05,\n",
      "        -7.12543179e-01],\n",
      "       [ 7.17076232e-04, -8.63698616e-02, -4.33351263e-02,\n",
      "        -2.95872971e-01, -4.12444459e-01, -2.03821953e-01,\n",
      "        -1.67134724e-02, -4.26693547e-03, -1.11326720e+00,\n",
      "        -8.31307477e-01, -8.34301512e-01, -8.34745189e-01,\n",
      "        -3.52223042e-01,  7.02923048e-03, -7.12543179e-01,\n",
      "         2.67754105e-01]])\n",
      "      jac: array([-4.20391210e-06,  6.24072098e-07, -1.23362938e-07, -1.84064338e-08,\n",
      "       -1.64402464e-07, -5.07743421e-07,  1.10218414e-06, -2.28490908e-06,\n",
      "       -1.92315562e-20, -2.48423046e-13, -3.91474821e-16, -1.63045908e-17,\n",
      "       -8.67604627e-12,  3.45779400e-07, -2.64909407e-11, -9.36678020e-07])\n",
      "  message: 'Optimization terminated successfully.'\n",
      "     nfev: 67\n",
      "      nit: 50\n",
      "     njev: 67\n",
      "   status: 0\n",
      "  success: True\n",
      "        x: array([ 3.19199423, 13.47419321, -1.32724474, 20.64592452, 15.4859833 ,\n",
      "       11.26853632, -1.24060967, -4.70893002, 45.53653354, 32.14143237,\n",
      "       35.70013633, 37.80051333, 20.34407434,  0.09016206, 25.51639931,\n",
      "        0.48228178])\n",
      "\n",
      "Final ln-likelihood: -5159.45\n",
      "done in 311.168s\n"
     ]
    }
   ],
   "source": [
    "def neg_ln_like(p):\n",
    "    gp.set_parameter_vector(p)\n",
    "    return -gp.log_likelihood(y)\n",
    "\n",
    "def grad_neg_ln_like(p):\n",
    "    gp.set_parameter_vector(p)\n",
    "    return -gp.grad_log_likelihood(y)\n",
    "\n",
    "t0=time()\n",
    "\n",
    "result = minimize(neg_ln_like, gp.get_parameter_vector(), jac=grad_neg_ln_like)\n",
    "print(result)\n",
    "\n",
    "gp.set_parameter_vector(result.x)\n",
    "print(\"\\nFinal ln-likelihood: {0:.2f}\".format(gp.log_likelihood(y)))\n",
    "\n",
    "print(\"done in %0.3fs\" % (time() - t0))"
   ]
  },
  {
   "cell_type": "code",
   "execution_count": 24,
   "metadata": {},
   "outputs": [
    {
     "data": {
      "text/plain": [
       "-8579.398595841005"
      ]
     },
     "execution_count": 24,
     "metadata": {},
     "output_type": "execute_result"
    }
   ],
   "source": [
    "gp.log_likelihood(y)"
   ]
  },
  {
   "cell_type": "code",
   "execution_count": null,
   "metadata": {
    "scrolled": true
   },
   "outputs": [],
   "source": [
    "kernel.get_parameter_vector # this was after running the minimize function"
   ]
  },
  {
   "cell_type": "code",
   "execution_count": null,
   "metadata": {},
   "outputs": [],
   "source": [
    "kernel.get_parameter_vector"
   ]
  },
  {
   "cell_type": "code",
   "execution_count": null,
   "metadata": {},
   "outputs": [],
   "source": [
    "pred, pred_var = gp.predict(y, sl, return_var=True)\n",
    "\n",
    "plt.fill_between(np.array(sl)[:,0], pred - np.sqrt(pred_var), pred + np.sqrt(pred_var),\n",
    "                color=\"b\", alpha=0.2)\n",
    "plt.plot(np.array(sl)[:,0], pred, \"r\", lw=1.5, alpha=0.5)"
   ]
  },
  {
   "cell_type": "code",
   "execution_count": null,
   "metadata": {},
   "outputs": [],
   "source": []
  },
  {
   "cell_type": "code",
   "execution_count": null,
   "metadata": {},
   "outputs": [],
   "source": [
    "X, y = load_pcwpar(1)\n",
    "yerr=[x*0.01 for x in y]"
   ]
  },
  {
   "cell_type": "code",
   "execution_count": null,
   "metadata": {},
   "outputs": [],
   "source": [
    "kernel = kernels.ExpSquaredKernel(900**2,ndim=15,axes=0)*\\\n",
    "        kernels.ExpSquaredKernel(1**2,ndim=15,axes=1)*\\\n",
    "        kernels.ExpSquaredKernel(1**2,ndim=15,axes=2)*\\\n",
    "        kernels.ExpSquaredKernel(0.8**2,ndim=15,axes=3)*\\\n",
    "        kernels.ExpSquaredKernel(0.08**2,ndim=15,axes=4)*\\\n",
    "        kernels.ExpSquaredKernel(0.5**2,ndim=15,axes=5)*\\\n",
    "        kernels.ExpSquaredKernel(1**2,ndim=15,axes=6)*\\\n",
    "        kernels.ExpSquaredKernel(0.2**2,ndim=15,axes=7)*\\\n",
    "        kernels.ExpSquaredKernel(0.5**2,ndim=15,axes=8)*\\\n",
    "        kernels.ExpSquaredKernel(0.2**2,ndim=15,axes=9)*\\\n",
    "        kernels.ExpSquaredKernel(0.25**2,ndim=15,axes=10)*\\\n",
    "        kernels.ExpSquaredKernel(0.25**2,ndim=15,axes=11)*\\\n",
    "        kernels.ExpSquaredKernel(0.5**2,ndim=15,axes=12)*\\\n",
    "        kernels.ExpSquaredKernel(0.4**2,ndim=15,axes=13)*\\\n",
    "        kernels.ExpSquaredKernel(5**2,ndim=15,axes=14) * np.var(y)\n",
    "\n",
    "gp = george.GP(kernel)\n",
    "gp.compute(X,yerr)"
   ]
  },
  {
   "cell_type": "code",
   "execution_count": null,
   "metadata": {},
   "outputs": [],
   "source": [
    "sl=[]\n",
    "for i in range(11):\n",
    "    x=[steps[0][5],steps[1][i]]\n",
    "    for j in range(len(ranges)-2):\n",
    "        x.append(steps[j+2][5])\n",
    "    sl.append(x)\n",
    "\n",
    "pred, pred_var = gp.predict(y, sl, return_var=True)\n",
    "plt.fill_between(np.array(sl)[:,1], pred - np.sqrt(pred_var), pred + np.sqrt(pred_var),\n",
    "                color=\"b\", alpha=0.2)\n",
    "plt.plot(np.array(sl)[:,1], pred, \"r\", lw=1.5, alpha=0.5)"
   ]
  },
  {
   "cell_type": "code",
   "execution_count": null,
   "metadata": {},
   "outputs": [],
   "source": [
    "print(\"Initial ln-likelihood: {0:.2f}\".format(gp.log_likelihood(y)))"
   ]
  },
  {
   "cell_type": "code",
   "execution_count": null,
   "metadata": {},
   "outputs": [],
   "source": [
    "def neg_ln_like(p):\n",
    "    gp.set_parameter_vector(p)\n",
    "    return -gp.log_likelihood(y)\n",
    "\n",
    "def grad_neg_ln_like(p):\n",
    "    gp.set_parameter_vector(p)\n",
    "    return -gp.grad_log_likelihood(y)\n",
    "\n",
    "t0=time()\n",
    "\n",
    "result = minimize(neg_ln_like, gp.get_parameter_vector(), jac=grad_neg_ln_like)\n",
    "print(result)\n",
    "\n",
    "gp.set_parameter_vector(result.x)\n",
    "print(\"\\nFinal ln-likelihood: {0:.2f}\".format(gp.log_likelihood(y)))\n",
    "\n",
    "print(\"done in %0.3fs\" % (time() - t0))"
   ]
  },
  {
   "cell_type": "code",
   "execution_count": null,
   "metadata": {},
   "outputs": [],
   "source": [
    "sl=[]\n",
    "for i in range(11):\n",
    "    x=[steps[0][5],steps[1][i]]\n",
    "    for j in range(len(ranges)-2):\n",
    "        x.append(steps[j+2][5])\n",
    "    sl.append(x)\n",
    "\n",
    "pred, pred_var = gp.predict(y, sl, return_var=True)\n",
    "plt.fill_between(np.array(sl)[:,1], pred - np.sqrt(pred_var), pred + np.sqrt(pred_var),\n",
    "                color=\"b\", alpha=0.2)\n",
    "plt.plot(np.array(sl)[:,1], pred, \"r\", lw=1.5, alpha=0.5)"
   ]
  },
  {
   "cell_type": "code",
   "execution_count": null,
   "metadata": {},
   "outputs": [],
   "source": []
  }
 ],
 "metadata": {
  "kernelspec": {
   "display_name": "Python 3",
   "language": "python",
   "name": "python3"
  },
  "language_info": {
   "codemirror_mode": {
    "name": "ipython",
    "version": 3
   },
   "file_extension": ".py",
   "mimetype": "text/x-python",
   "name": "python",
   "nbconvert_exporter": "python",
   "pygments_lexer": "ipython3",
   "version": "3.7.3"
  }
 },
 "nbformat": 4,
 "nbformat_minor": 2
}
