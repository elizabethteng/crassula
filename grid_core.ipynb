{
 "cells": [
  {
   "cell_type": "code",
   "execution_count": 2,
   "metadata": {},
   "outputs": [],
   "source": [
    "import pdspy.modeling as modeling\n",
    "import pdspy.dust as dust\n",
    "import numpy as np\n",
    "from matplotlib.backends.backend_pdf import PdfPages\n",
    "import matplotlib.pyplot as plt\n",
    "import glob\n",
    "import os\n",
    "import pickle"
   ]
  },
  {
   "cell_type": "markdown",
   "metadata": {},
   "source": [
    "## make lists of values for each parameter"
   ]
  },
  {
   "cell_type": "code",
   "execution_count": null,
   "metadata": {},
   "outputs": [],
   "source": [
    "#import os\n",
    "\n",
    "#T_star = []\n",
    "#logL_star = []\n",
    "#logM_disk = []\n",
    "#logR_disk = []\n",
    "#h_0 = []\n",
    "#logR_in = []\n",
    "#gamma = []\n",
    "#beta = []\n",
    "#logM_env = []\n",
    "#logR_env = []\n",
    "#f_cav = []\n",
    "#ksi = []\n",
    "#loga_max = []\n",
    "#p = []\n",
    "#incl = []\n",
    "\n",
    "#params = [T_star,logL_star,logM_disk,logR_disk,h_0,logR_in,\\\n",
    "#          gamma,beta,logM_env,logR_env,f_cav,ksi,loga_max,p,incl]\n",
    "#directory = \"../grid/models/\"\n",
    "\n",
    "#for j in range(len(os.listdir(directory))):\n",
    "#    for i in range(len(params)-1):\n",
    "#        params[i].append(float(os.listdir(directory)[j].split(\"_\")[(2*i)+1]))\n",
    "#    params[14].append(float(os.listdir(directory)[j].split(\"_\")[29][:-5]))"
   ]
  },
  {
   "cell_type": "markdown",
   "metadata": {},
   "source": [
    "write out to txt files"
   ]
  },
  {
   "cell_type": "code",
   "execution_count": null,
   "metadata": {},
   "outputs": [],
   "source": [
    "#for i in range(len(params)):\n",
    "#    filename=\"param\"+str(i)+\".txt\"\n",
    "#    with open(filename, 'wb') as fp:\n",
    "#        pickle.dump(params[i], fp)"
   ]
  },
  {
   "cell_type": "markdown",
   "metadata": {},
   "source": [
    "## make lists of core cases"
   ]
  },
  {
   "cell_type": "code",
   "execution_count": null,
   "metadata": {},
   "outputs": [],
   "source": [
    "#core24=[]\n",
    "#core78=[]\n",
    "#core518=[]\n",
    "#core1208=[]\n",
    "#\n",
    "#cores=[core24, core78, core518, core1208]\n",
    "#sigmas=[1.2, 1.3, 1.5, 1.6]\n",
    "#\n",
    "#for k in range(len(sigmas)):\n",
    "#    for j in range(len(os.listdir(directory))):\n",
    "#        add = True\n",
    "#        for i in range(len(params)):\n",
    "#            mean=np.mean(params[i])\n",
    "#            sd=np.std(params[i])\n",
    "#            if not (mean-(sigmas[k]*sd) < params[i][j] < mean+(sigmas[k]*sd)):\n",
    "#               add = False \n",
    "#        if add == True:\n",
    "#           cores[k].append(str(os.listdir(directory)[j]))  "
   ]
  },
  {
   "cell_type": "code",
   "execution_count": null,
   "metadata": {},
   "outputs": [],
   "source": [
    "#directory = \"../grid/models/\"\n",
    "#full=[]\n",
    "#for i in range(len(os.listdir(directory))):\n",
    "#    full.append(str(os.listdir(directory)[i]))"
   ]
  },
  {
   "cell_type": "markdown",
   "metadata": {},
   "source": [
    "write out to txt files"
   ]
  },
  {
   "cell_type": "code",
   "execution_count": null,
   "metadata": {},
   "outputs": [],
   "source": [
    "#with open('core24.txt', 'wb') as fp:\n",
    "#    pickle.dump(core24, fp)\n",
    "#with open('core78.txt', 'wb') as fp:\n",
    "#    pickle.dump(core78, fp)\n",
    "#with open('core518.txt', 'wb') as fp:\n",
    "#    pickle.dump(core518, fp)\n",
    "#with open('core1208.txt', 'wb') as fp:\n",
    "#    pickle.dump(core1208, fp)"
   ]
  },
  {
   "cell_type": "code",
   "execution_count": null,
   "metadata": {},
   "outputs": [],
   "source": [
    "#with open(\"full.txt\",\"wb\") as fp:\n",
    "#    pickle.dump(full,fp)"
   ]
  },
  {
   "cell_type": "markdown",
   "metadata": {},
   "source": [
    "read in lists of core case filenames"
   ]
  },
  {
   "cell_type": "code",
   "execution_count": null,
   "metadata": {},
   "outputs": [],
   "source": [
    "with open ('../grid_metadata/core24.txt', 'rb') as fp:\n",
    "    core24 = pickle.load(fp)\n",
    "with open ('../grid_metadata/core78.txt', 'rb') as fp:\n",
    "    core78 = pickle.load(fp)\n",
    "with open ('../grid_metadata/core518.txt', 'rb') as fp:\n",
    "    core518 = pickle.load(fp)\n",
    "with open ('../grid_metadata/core1208.txt', 'rb') as fp:\n",
    "    core1208 = pickle.load(fp)    \n",
    "with open ('../grid_metadata/corefull.txt', 'rb') as fp:\n",
    "    corefull = pickle.load(fp)"
   ]
  },
  {
   "cell_type": "markdown",
   "metadata": {},
   "source": [
    "read in parameter values lists"
   ]
  },
  {
   "cell_type": "code",
   "execution_count": null,
   "metadata": {},
   "outputs": [],
   "source": [
    "T_star = []\n",
    "logL_star = []\n",
    "logM_disk = []\n",
    "logR_disk = []\n",
    "h_0 = []\n",
    "logR_in = []\n",
    "gamma = []\n",
    "beta = []\n",
    "logM_env = []\n",
    "logR_env = []\n",
    "f_cav = []\n",
    "ksi = []\n",
    "loga_max = []\n",
    "p = []\n",
    "incl = []\n",
    "\n",
    "params = [T_star,logL_star,logM_disk,logR_disk,h_0,logR_in,\\\n",
    "          gamma,beta,logM_env,logR_env,f_cav,ksi,loga_max,p,incl]\n",
    "\n",
    "for i in range(len(params)):\n",
    "    filename=\"../grid_metadata/param\"+str(i)+\".txt\"\n",
    "    with open (filename, 'rb') as fp:\n",
    "        params[i] = pickle.load(fp)        "
   ]
  },
  {
   "cell_type": "markdown",
   "metadata": {},
   "source": [
    "## make lists of flux values for all sets"
   ]
  },
  {
   "cell_type": "code",
   "execution_count": null,
   "metadata": {},
   "outputs": [],
   "source": [
    "#cube24=[]\n",
    "#cube78=[]\n",
    "#cube518=[]\n",
    "#cube1208=[]\n",
    "#cubefull=[]\n",
    "#cubes=[cube24, cube78, cube518, cube1208, cubefull]\n",
    "\n",
    "#modeldir='../grid/models/'\n",
    "\n",
    "#for i in range(len(cubes)):\n",
    "#    ds = cores[i]\n",
    "#    for j in range(len(ds)):\n",
    "#        filename = ds[j]\n",
    "#        model=modeling.YSOModel()\n",
    "#        model.read_yso(modeldir+filename)\n",
    "#        cubes[i].append(np.log10(model.spectra[\"SED\"].flux))\n",
    "\n"
   ]
  },
  {
   "cell_type": "markdown",
   "metadata": {},
   "source": [
    "write out to txt files"
   ]
  },
  {
   "cell_type": "code",
   "execution_count": null,
   "metadata": {},
   "outputs": [],
   "source": [
    "#with open(\"../grid_metadata/cube24.txt\",'wb') as fp:\n",
    "#    pickle.dump(cube24,fp)\n",
    "#with open(\"../grid_metadata/cube78.txt\",'wb') as fp:\n",
    "#    pickle.dump(cube78,fp)\n",
    "#with open(\"../grid_metadata/cube518.txt\",'wb') as fp:\n",
    "#    pickle.dump(cube518,fp)\n",
    "#with open(\"../grid_metadata/cube1208.txt\",'wb') as fp:\n",
    "#    pickle.dump(cube1208,fp)\n",
    "#with open(\"../grid_metadata/cubefull.txt\",'wb') as fp:\n",
    "#    pickle.dump(cubefull,fp)"
   ]
  },
  {
   "cell_type": "code",
   "execution_count": null,
   "metadata": {},
   "outputs": [],
   "source": [
    "#cubelin=[]\n",
    "#for j in range(len(cores[2])):\n",
    "#    filename = cores[2][j]\n",
    "#    model=modeling.YSOModel()\n",
    "#    model.read_yso('../grid/models/'+filename)\n",
    "#    cubelin.append(model.spectra[\"SED\"].flux)\n",
    "#with open(\"../grid_metadata/cubelin.txt\",'wb') as fp:\n",
    "#    pickle.dump(cubelin,fp)"
   ]
  },
  {
   "cell_type": "markdown",
   "metadata": {},
   "source": [
    "read in flux values for sets"
   ]
  },
  {
   "cell_type": "code",
   "execution_count": null,
   "metadata": {},
   "outputs": [],
   "source": [
    "with open ('../grid_metadata/cube24.txt', 'rb') as fp:\n",
    "    cube24 = pickle.load(fp)\n",
    "with open ('../grid_metadata/cube78.txt', 'rb') as fp:\n",
    "    cube78 = pickle.load(fp)\n",
    "with open ('../grid_metadata/cube518.txt', 'rb') as fp:\n",
    "    cube518 = pickle.load(fp)\n",
    "with open ('../grid_metadata/cube1208.txt', 'rb') as fp:\n",
    "    cube1208 = pickle.load(fp)    \n",
    "with open ('../grid_metadata/cubefull.txt', 'rb') as fp:\n",
    "    cubefull = pickle.load(fp)\n",
    "with open ('../grid_metadata/cubelin.txt', 'rb') as fp:\n",
    "    cube518lin = pickle.load(fp)"
   ]
  },
  {
   "cell_type": "markdown",
   "metadata": {},
   "source": [
    "## write out wavelength values for x-vals of SED (normal flux spaced)"
   ]
  },
  {
   "cell_type": "code",
   "execution_count": null,
   "metadata": {},
   "outputs": [],
   "source": [
    "#model = modeling.YSOModel()\n",
    "#model.read_yso(\"../grid/models/\"+core24[0])\n",
    "#with open('../grid_metadata/xvals.txt', 'wb') as fp:\n",
    "#    pickle.dump(model.spectra[\"SED\"].wave, fp)"
   ]
  }
 ],
 "metadata": {
  "kernelspec": {
   "display_name": "Python 3",
   "language": "python",
   "name": "python3"
  },
  "language_info": {
   "codemirror_mode": {
    "name": "ipython",
    "version": 3
   },
   "file_extension": ".py",
   "mimetype": "text/x-python",
   "name": "python",
   "nbconvert_exporter": "python",
   "pygments_lexer": "ipython3",
   "version": "3.7.3"
  }
 },
 "nbformat": 4,
 "nbformat_minor": 2
}
