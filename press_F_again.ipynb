{
 "cells": [
  {
   "cell_type": "code",
   "execution_count": 2,
   "metadata": {},
   "outputs": [],
   "source": [
    "## check how much memory these commands are using\n",
    "\n",
    "import numpy as np\n",
    "from matplotlib import pyplot as plt\n",
    "\n",
    "import os\n",
    "import pickle\n",
    "from time import time\n",
    "from sklearn.decomposition import PCA\n",
    "\n",
    "import george\n",
    "from george import kernels\n",
    "from scipy.optimize import minimize\n",
    "\n",
    "import lhsmdu\n",
    "import os\n",
    "import pdspy.modeling as modeling\n",
    "\n",
    "from matplotlib.animation import FuncAnimation\n",
    "\n",
    "from scipy.optimize import minimize\n",
    "\n",
    "\n",
    "%matplotlib inline"
   ]
  },
  {
   "cell_type": "code",
   "execution_count": 3,
   "metadata": {},
   "outputs": [
    {
     "name": "stdout",
     "output_type": "stream",
     "text": [
      "done in 0.908s\n"
     ]
    }
   ],
   "source": [
    "param_names = [\"Tstar\",\"logL_star\",\"logM_disk\",\"logR_disk\",\"h_0\",\"logR_in\",\\\n",
    "          \"gamma\",\"beta\",\"logM_env\",\"logR_env\",\"f_cav\",\"ksi\",\"loga_max\",\"p\",\"incl\"]\n",
    "\n",
    "bases=[4000.0, 1.0, -5.0, 1.5, 0.255, 0.75, 1.0, 1.25, -5.0, 3.25, 0.5, 1.0, 2.5, 3.5, 45.0]\n",
    "ranges = [[3000.,5000.], [-1,3.],[-8.,-2.], [0.,3.],[0.01,0.5],[-1.,2.5],[0.0,2.0],\\\n",
    "        [0.5,2.0],[-8.,-2.],[2.5,4.], [0.,1.], [0.5,1.5],[0.,5.],[2.5,4.5],[0.,90.]]\n",
    "\n",
    "dictionary=np.load(\"../grid_metadata/dictionary.npy\")\n",
    "\n",
    "# get all model data\n",
    "with open ('../grid_metadata/cubefull.txt', 'rb') as fp:\n",
    "    cube = np.array(pickle.load(fp))[:,100:500]\n",
    "with open ('../grid_metadata/cubefull.txt', 'rb') as fp:\n",
    "    nancube = np.array(pickle.load(fp))[:,100:500]\n",
    "    \n",
    "# x values (wavelengths) - 500 values, in normal space\n",
    "with open ('../grid_metadata/xvals.txt', 'rb') as fp:\n",
    "    xvals = pickle.load(fp)[100:500]\n",
    "\n",
    "# fix -infs: powerlaw cutoff\n",
    "for i in range(len(cube)):\n",
    "    if -np.inf in cube[i]:\n",
    "        a = cube[i].tolist()\n",
    "        a.reverse()\n",
    "        ind = len(a)-a.index(-np.inf)\n",
    "        x1 = xvals[ind]\n",
    "        y1 = cube[i][ind]\n",
    "        for j in range(ind):\n",
    "            cube[i][j]=(100*(np.log10(xvals[j]/x1)))+y1\n",
    "            \n",
    "# nan cutoff for means            \n",
    "nancube[nancube<-20]=np.nan\n",
    "\n",
    "# subtracting from the seds each sample mean\n",
    "seds_msub = cube - np.nanmean(nancube,axis=1)[:,np.newaxis]\n",
    "\n",
    "t0 = time()\n",
    "pca = PCA(n_components=40).fit(seds_msub)\n",
    "print(\"done in %0.3fs\" % (time() - t0))\n",
    "\n",
    "eigenseds=np.array(pca.components_)\n",
    "\n",
    "fitdata=[]\n",
    "\n",
    "for i in range(len(cube)):\n",
    "    modeldata=[]\n",
    "    coeffs=pca.transform(seds_msub[i].reshape(1,-1))\n",
    "    for k in range(15):\n",
    "        modeldata.append(coeffs[0][k])\n",
    "    fitdata.append(modeldata)\n",
    "    \n",
    "def load_pcwpar(weight):\n",
    "    p=[]\n",
    "    w=[]\n",
    "    m=[]\n",
    "    for i in range(len(cube)):\n",
    "        pars=[]\n",
    "        for j in range(len(param_names)):\n",
    "            pars.append(dictionary[i][param_names[j]])\n",
    "        p.append(pars)\n",
    "        w.append(fitdata[i][weight])\n",
    "        m.append(np.nanmean(nancube,axis=1)[i])\n",
    "    \n",
    "    return p,w,m\n",
    "\n",
    "def load_pcwpar_all():\n",
    "    p=[]\n",
    "    w=[]\n",
    "    m=[]\n",
    "    for i in range(len(cube)):\n",
    "        pars=[]\n",
    "        for j in range(len(param_names)):\n",
    "            pars.append(dictionary[i][param_names[j]])\n",
    "        p.append(pars)\n",
    "        weights=[]\n",
    "        for k in range(15):\n",
    "            weights.append(fitdata[i][k])\n",
    "        w.append(weights)\n",
    "        m.append(np.nanmean(nancube,axis=1)[i])\n",
    "    return p,w,m"
   ]
  },
  {
   "cell_type": "code",
   "execution_count": 4,
   "metadata": {},
   "outputs": [],
   "source": [
    "Xs,ws,ms=load_pcwpar_all()\n",
    "ws=np.transpose(ws)\n",
    "ws1=np.ndarray.tolist(ws)\n",
    "ws1.append(ms)\n",
    "ws=ws1\n",
    "\n",
    "yerrs=[]\n",
    "for i in range(16):\n",
    "    yerrs.append([x*0.01 for x in ws[i]])"
   ]
  },
  {
   "cell_type": "code",
   "execution_count": 5,
   "metadata": {},
   "outputs": [
    {
     "data": {
      "text/plain": [
       "(16, 3850)"
      ]
     },
     "execution_count": 5,
     "metadata": {},
     "output_type": "execute_result"
    }
   ],
   "source": [
    "np.array(ws).shape"
   ]
  },
  {
   "cell_type": "code",
   "execution_count": 6,
   "metadata": {},
   "outputs": [],
   "source": [
    "#t0=time()\n",
    "#gps=[]\n",
    "#preds=[]\n",
    "#for i in range(len(ws)):  # same covfunc for each weight and the sample mean\n",
    "#    kernel = 23*kernels.ExpSquaredKernel(1**2,ndim=15,axes=0)*\\\n",
    "#        kernels.ExpSquaredKernel(1**2,ndim=15,axes=1)*\\\n",
    "#        kernels.ExpSquaredKernel(1**2,ndim=15,axes=2)*\\\n",
    "#        kernels.ExpSquaredKernel(1**2,ndim=15,axes=3)*\\\n",
    "#        kernels.ExpSquaredKernel(1**2,ndim=15,axes=4)*\\\n",
    "#        kernels.ExpSquaredKernel(1**2,ndim=15,axes=5)*\\\n",
    "#        kernels.PolynomialKernel(1**2,15,ndim=15,axes=6)*\\\n",
    "#        kernels.ExpSquaredKernel(1**2,ndim=15,axes=7)*\\\n",
    "#        kernels.ExpSquaredKernel(1**2,ndim=15,axes=8)*\\\n",
    "#        kernels.ExpSquaredKernel(1**2,ndim=15,axes=9)*\\\n",
    "#        kernels.ExpSquaredKernel(1**2,ndim=15,axes=10)*\\\n",
    "#        kernels.ExpSquaredKernel(1**2,ndim=15,axes=11)*\\\n",
    "#        kernels.ExpSquaredKernel(1**2,ndim=15,axes=12)*\\\n",
    "#        kernels.ExpSquaredKernel(1**2,ndim=15,axes=13)*\\\n",
    "#        kernels.ExpSquaredKernel(1**2,ndim=15,axes=14) \n",
    "\n",
    "    #11, ksi - not smooth. may need to change kernel\n",
    "    #6 is gamma - polynomial kernel for tail\n",
    "    # change lengthscale for 7 to ~4 or 5\n",
    "\n",
    "#    gps.append(george.GP(kernel))\n",
    "#    gps[i].set_parameter_vector(initvecs[i])\n",
    "#    gps[i].compute(Xs,yerrs[i])\n",
    "#    pred, pred_var = gps[i].predict(ws[i], Xs, return_var=True)\n",
    "#    preds.append(pred)\n",
    "#reconst_SEDs=[]\n",
    "#for i in range(3850):\n",
    "#    reconst=np.dot(np.array(preds)[:,i][0:15],eigenseds[0:15]) + pca.mean_ + np.array(preds)[:,i][15]\n",
    "#    reconst_SEDs.append(reconst)\n",
    "#print(\"done in %0.3fs\" % (time() - t0))"
   ]
  },
  {
   "cell_type": "code",
   "execution_count": 7,
   "metadata": {},
   "outputs": [],
   "source": [
    "initvecs=[]\n",
    "for i in range(16):\n",
    "    initvecs.append([ 6.33043185, 18.42068074,  0.        ,  0.        , -0.4462871 ,\n",
    "       -5.05145729, -1.38629436,  1.7       , -3.21887582,  0.        ,\n",
    "       -3.21887582, -2.77258872, -2.77258872,  1.38629436,  2.19722458,\n",
    "        3.21887582])"
   ]
  },
  {
   "cell_type": "code",
   "execution_count": 8,
   "metadata": {},
   "outputs": [],
   "source": [
    "kernel = 23*kernels.ExpSquaredKernel(1**2,ndim=15,axes=0)*\\\n",
    "        kernels.ExpSquaredKernel(1**2,ndim=15,axes=1)*\\\n",
    "        kernels.ExpSquaredKernel(1**2,ndim=15,axes=2)*\\\n",
    "        kernels.ExpSquaredKernel(1**2,ndim=15,axes=3)*\\\n",
    "        kernels.ExpSquaredKernel(1**2,ndim=15,axes=4)*\\\n",
    "        kernels.ExpSquaredKernel(1**2,ndim=15,axes=5)*\\\n",
    "        kernels.PolynomialKernel(1**2,15,ndim=15,axes=6)*\\\n",
    "        kernels.ExpSquaredKernel(1**2,ndim=15,axes=7)*\\\n",
    "        kernels.ExpSquaredKernel(1**2,ndim=15,axes=8)*\\\n",
    "        kernels.ExpSquaredKernel(1**2,ndim=15,axes=9)*\\\n",
    "        kernels.ExpSquaredKernel(1**2,ndim=15,axes=10)*\\\n",
    "        kernels.ExpSquaredKernel(1**2,ndim=15,axes=11)*\\\n",
    "        kernels.ExpSquaredKernel(1**2,ndim=15,axes=12)*\\\n",
    "        kernels.ExpSquaredKernel(1**2,ndim=15,axes=13)*\\\n",
    "        kernels.ExpSquaredKernel(1**2,ndim=15,axes=14) \n",
    "\n",
    "blank=george.GP(kernel)\n",
    "blankhodlr=george.GP(kernel,solver=george.HODLRSolver)"
   ]
  },
  {
   "cell_type": "code",
   "execution_count": 9,
   "metadata": {},
   "outputs": [],
   "source": [
    "def F(hyperparams,gp):\n",
    "    t0=time()\n",
    "    preds=[]\n",
    "    for i in range(len(ws)):  # same covfunc for each weight and the sample mean\n",
    "        t1=time()\n",
    "        gp.set_parameter_vector(hyperparams[i])\n",
    "        gp.compute(Xs,yerrs[i])\n",
    "        print(\"GP computed in %0.3fs\" % (time() - t1))\n",
    "        t2=time()\n",
    "        pred, pred_var = gp.predict(ws[i], Xs, return_var=True)\n",
    "        preds.append(pred)\n",
    "        print(\"predictions made in %0.3fs\" % (time() - t2))    \n",
    "    reconst_SEDs=[]\n",
    "    for i in range(3850):\n",
    "        reconst=np.dot(np.array(preds)[:,i][0:15],eigenseds[0:15]) + pca.mean_ + np.array(preds)[:,i][15]\n",
    "        reconst_SEDs.append(reconst)\n",
    "    print(\"done in %0.3fs\" % (time() - t0))\n",
    "    return reconst_SEDs"
   ]
  },
  {
   "cell_type": "code",
   "execution_count": 39,
   "metadata": {
    "collapsed": true
   },
   "outputs": [
    {
     "name": "stdout",
     "output_type": "stream",
     "text": [
      "GP computed in 3.739s\n",
      "predictions made in 7.456s\n",
      "GP computed in 3.805s\n",
      "predictions made in 7.452s\n",
      "GP computed in 3.782s\n",
      "predictions made in 7.445s\n",
      "GP computed in 3.775s\n",
      "predictions made in 7.469s\n",
      "GP computed in 3.777s\n",
      "predictions made in 7.490s\n",
      "GP computed in 3.812s\n",
      "predictions made in 7.658s\n",
      "GP computed in 3.762s\n",
      "predictions made in 7.494s\n",
      "GP computed in 3.777s\n",
      "predictions made in 7.524s\n",
      "GP computed in 3.785s\n",
      "predictions made in 7.465s\n",
      "GP computed in 3.783s\n",
      "predictions made in 7.466s\n",
      "GP computed in 3.765s\n",
      "predictions made in 7.477s\n",
      "GP computed in 3.822s\n",
      "predictions made in 7.450s\n",
      "GP computed in 3.833s\n",
      "predictions made in 7.494s\n",
      "GP computed in 3.884s\n",
      "predictions made in 7.441s\n",
      "GP computed in 3.768s\n",
      "predictions made in 7.507s\n",
      "GP computed in 3.776s\n",
      "predictions made in 7.481s\n",
      "done in 180.956s\n"
     ]
    }
   ],
   "source": [
    "#allseds=F(initvecs,blank)"
   ]
  },
  {
   "cell_type": "code",
   "execution_count": 10,
   "metadata": {},
   "outputs": [],
   "source": [
    "#allsedshodlr=F(initvecs,blankhodlr)"
   ]
  },
  {
   "cell_type": "code",
   "execution_count": 16,
   "metadata": {},
   "outputs": [],
   "source": [
    "cubeflat=np.ndarray.flatten(cube)"
   ]
  },
  {
   "cell_type": "code",
   "execution_count": 12,
   "metadata": {},
   "outputs": [],
   "source": [
    "def F_chisq(hyperparams,gp):\n",
    "    t0=time()\n",
    "    preds=[]\n",
    "    for i in range(len(ws)):  # same covfunc for each weight and the sample mean\n",
    "        t1=time()\n",
    "        gp.set_parameter_vector(hyperparams[i])\n",
    "        gp.compute(Xs,yerrs[i])\n",
    "        t2=time()\n",
    "        pred, pred_var = gp.predict(ws[i], Xs, return_var=True)\n",
    "        preds.append(pred)\n",
    "        print(str(i)+\" predictions made in %0.3fs\" % (time() - t2))    \n",
    "    reconst_SEDs=[]\n",
    "    for i in range(3850):\n",
    "        reconst=np.dot(np.array(preds)[:,i][0:15],eigenseds[0:15]) + pca.mean_ + np.array(preds)[:,i][15]\n",
    "        reconst_SEDs.append(reconst)\n",
    "    print(\"reconstructions done in %0.3fs\" % (time() - tt0))\n",
    "    ashflat=np.ndarray.flatten(np.array(reconst_SEDs))\n",
    "    chisq=np.sum((cubeflat-ashflat)**2/np.absolute(ashflat))\n",
    "    return chisq"
   ]
  },
  {
   "cell_type": "code",
   "execution_count": 127,
   "metadata": {
    "collapsed": true
   },
   "outputs": [
    {
     "name": "stdout",
     "output_type": "stream",
     "text": [
      "0predictions made in 8.327s\n",
      "1predictions made in 8.439s\n",
      "2predictions made in 8.383s\n",
      "3predictions made in 8.335s\n",
      "4predictions made in 8.473s\n",
      "5predictions made in 8.337s\n",
      "6predictions made in 8.339s\n",
      "7predictions made in 8.363s\n",
      "8predictions made in 8.314s\n",
      "9predictions made in 8.409s\n",
      "10predictions made in 8.455s\n",
      "11predictions made in 8.485s\n",
      "12predictions made in 8.446s\n",
      "13predictions made in 8.371s\n",
      "14predictions made in 8.385s\n",
      "15predictions made in 8.435s\n",
      "reconstructions done in 138.011s\n",
      "1957395.8217116937\n"
     ]
    }
   ],
   "source": [
    "chisq=F_chisq(initvecs,blankhodlr)\n",
    "print(chisq)"
   ]
  },
  {
   "cell_type": "code",
   "execution_count": 17,
   "metadata": {},
   "outputs": [],
   "source": [
    "def F_chisq_quiet(hyperparams,gp):\n",
    "    preds=[]\n",
    "    for i in range(len(ws)):  # same covfunc for each weight and the sample mean\n",
    "        t1=time()\n",
    "        gp.set_parameter_vector(hyperparams[i])\n",
    "        gp.compute(Xs,yerrs[i])\n",
    "        t2=time()\n",
    "        pred, pred_var = gp.predict(ws[i], Xs, return_var=True)\n",
    "        preds.append(pred)\n",
    "    reconst_SEDs=[]\n",
    "    for i in range(3850):\n",
    "        reconst=np.dot(np.array(preds)[:,i][0:15],eigenseds[0:15]) + pca.mean_ + np.array(preds)[:,i][15]\n",
    "        reconst_SEDs.append(reconst)\n",
    "    ashflat=np.ndarray.flatten(np.array(reconst_SEDs))\n",
    "    chisq=np.sum((cubeflat-ashflat)**2/np.absolute(ashflat))\n",
    "    return chisq"
   ]
  },
  {
   "cell_type": "code",
   "execution_count": null,
   "metadata": {},
   "outputs": [],
   "source": [
    "def chisq(p):\n",
    "    return F_chisq_quiet(p,blankhodlr)\n",
    "\n",
    "result = minimize(chisq,initvecs)\n",
    "print(result)\n",
    "\n",
    "print(\"Final chisq: \"+result.x)"
   ]
  },
  {
   "cell_type": "code",
   "execution_count": null,
   "metadata": {},
   "outputs": [],
   "source": [
    "#(started at 9:14)"
   ]
  },
  {
   "cell_type": "code",
   "execution_count": null,
   "metadata": {},
   "outputs": [],
   "source": []
  },
  {
   "cell_type": "code",
   "execution_count": 67,
   "metadata": {},
   "outputs": [
    {
     "data": {
      "image/png": "[encoded data removed]",
      "text/plain": [
       "<Figure size 432x288 with 1 Axes>"
      ]
     },
     "metadata": {
      "needs_background": "light"
     },
     "output_type": "display_data"
    },
    {
     "data": {
      "image/png": "[encoded data removed]",
      "text/plain": [
       "<Figure size 432x288 with 1 Axes>"
      ]
     },
     "metadata": {
      "needs_background": "light"
     },
     "output_type": "display_data"
    },
    {
     "data": {
      "image/png": "[encoded data removed]",
      "text/plain": [
       "<Figure size 432x288 with 1 Axes>"
      ]
     },
     "metadata": {
      "needs_background": "light"
     },
     "output_type": "display_data"
    },
    {
     "data": {
      "image/png": "[encoded data removed]",
      "text/plain": [
       "<Figure size 432x288 with 1 Axes>"
      ]
     },
     "metadata": {
      "needs_background": "light"
     },
     "output_type": "display_data"
    },
    {
     "data": {
      "image/png": "[encoded data removed]",
      "text/plain": [
       "<Figure size 432x288 with 1 Axes>"
      ]
     },
     "metadata": {
      "needs_background": "light"
     },
     "output_type": "display_data"
    },
    {
     "data": {
      "image/png": "[encoded data removed]",
      "text/plain": [
       "<Figure size 432x288 with 1 Axes>"
      ]
     },
     "metadata": {
      "needs_background": "light"
     },
     "output_type": "display_data"
    }
   ],
   "source": [
    "l=(0,1,2,3,4,5)\n",
    "for i in l:\n",
    "    plt.plot(cube[i],c='k')\n",
    "    plt.plot(allsedshodlr[i],c='r')\n",
    "    plt.show()"
   ]
  },
  {
   "cell_type": "code",
   "execution_count": null,
   "metadata": {},
   "outputs": [],
   "source": []
  }
 ],
 "metadata": {
  "kernelspec": {
   "display_name": "Python 3",
   "language": "python",
   "name": "python3"
  },
  "language_info": {
   "codemirror_mode": {
    "name": "ipython",
    "version": 3
   },
   "file_extension": ".py",
   "mimetype": "text/x-python",
   "name": "python",
   "nbconvert_exporter": "python",
   "pygments_lexer": "ipython3",
   "version": "3.7.3"
  }
 },
 "nbformat": 4,
 "nbformat_minor": 2
}
