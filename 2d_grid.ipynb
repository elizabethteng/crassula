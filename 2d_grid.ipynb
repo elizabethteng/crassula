{
 "cells": [
  {
   "cell_type": "code",
   "execution_count": 9,
   "metadata": {},
   "outputs": [],
   "source": [
    "import numpy as np\n",
    "from matplotlib import pyplot as plt\n",
    "from sklearn.datasets import fetch_openml\n",
    "from sklearn.gaussian_process import GaussianProcessRegressor\n",
    "from sklearn.gaussian_process.kernels \\\n",
    "    import RBF, WhiteKernel, RationalQuadratic, ExpSineSquared, ConstantKernel\n",
    "\n",
    "import os\n",
    "import pickle\n",
    "from time import time\n",
    "from sklearn.decomposition import PCA\n",
    "\n",
    "\n",
    "import pdspy.modeling as modeling\n",
    "import pdspy.dust as dust\n",
    "import numpy as np\n",
    "from matplotlib.backends.backend_pdf import PdfPages\n",
    "import glob\n",
    "\n",
    "import lhsmdu #github.com/sahilm89"
   ]
  },
  {
   "cell_type": "code",
   "execution_count": 10,
   "metadata": {},
   "outputs": [],
   "source": [
    "param_names = [\"Tstar\",\"logLstar\",\"logMdisk\",\"logRdisk\",\"h0\",\"logRin\",\\\n",
    "          \"gamma\",\"beta\",\"logMenv\",\"logRenv\",\"fcav\",\"ksi\",\"logamax\",\"p\",\"incl\"]\n",
    "\n",
    "ranges = [[3000.,5000.], [-1,3.],[-8.,-2.], [0.,3.],[0.01,0.5],[-1.,2.5],[0.0,2.0],\\\n",
    "        [0.5,2.0],[-8.,-2.],[2.5,4.], [0.,1.], [0.5,1.5],[0.,5.],[2.5,4.5],[0.,90.]]\n",
    "\n",
    "steps=[]\n",
    "bases=[]\n",
    "for i in range(len(ranges)):\n",
    "    steps.append(np.linspace(ranges[i][0],ranges[i][1],11))\n",
    "    bases.append(steps[i][5])\n",
    "    \n",
    "# training set - read in filenames and logspace flux values\n",
    "with open ('../grid_metadata/core78.txt', 'rb') as fp:\n",
    "    core= pickle.load(fp)\n",
    "with open ('../grid_metadata/cube78.txt', 'rb') as fp:\n",
    "    cube = np.array(pickle.load(fp))\n",
    "with open ('../grid_metadata/cube78.txt', 'rb') as fp:\n",
    "    nancube = np.array(pickle.load(fp))\n",
    "    \n",
    "# x values (wavelengths) - 500 values, in normal space\n",
    "with open ('../grid_metadata/xvals.txt', 'rb') as fp:\n",
    "    xvals = pickle.load(fp)   "
   ]
  },
  {
   "cell_type": "code",
   "execution_count": 11,
   "metadata": {},
   "outputs": [],
   "source": [
    "#r=[[3000,5000],[0,3]]\n",
    "#coords=np.array(lhsmdu.sample(2,100))\n",
    "#coords=coords*np.array([r[0][1]-r[0][0],r[1][1]-r[1][0]])[:,np.newaxis]\n",
    "#coords+=np.array([r[0][0],r[1][0]])[:,np.newaxis]\n",
    "\n",
    "#with open('../grid_metadata/2dgrid_coords.txt', 'wb') as fp:\n",
    "#    pickle.dump(coords, fp)\n",
    "\n",
    "#with open ('../grid_metadata/2dgrid_coords.txt', 'rb') as fp:\n",
    "#    coords = pickle.load(fp)"
   ]
  },
  {
   "cell_type": "code",
   "execution_count": 12,
   "metadata": {},
   "outputs": [],
   "source": [
    "r=[ranges[2],ranges[3]]\n",
    "coords=np.array(lhsmdu.sample(2,100))\n",
    "coords=coords*np.array([r[0][1]-r[0][0],r[1][1]-r[1][0]])[:,np.newaxis]\n",
    "coords+=np.array([r[0][0],r[1][0]])[:,np.newaxis]\n",
    "\n",
    "with open('../grid_metadata/23_coords.txt', 'wb') as fp:\n",
    "    pickle.dump(coords, fp)\n",
    "\n",
    "with open ('../grid_metadata/23_coords.txt', 'rb') as fp:\n",
    "    coords = pickle.load(fp)"
   ]
  },
  {
   "cell_type": "code",
   "execution_count": 13,
   "metadata": {},
   "outputs": [
    {
     "data": {
      "text/plain": [
       "<matplotlib.collections.PathCollection at 0x7efe72c042b0>"
      ]
     },
     "execution_count": 13,
     "metadata": {},
     "output_type": "execute_result"
    },
    {
     "data": {
      "image/png": "[encoded data removed]",
      "text/plain": [
       "<Figure size 432x288 with 1 Axes>"
      ]
     },
     "metadata": {
      "needs_background": "light"
     },
     "output_type": "display_data"
    }
   ],
   "source": [
    "plt.scatter(coords[0],coords[1])"
   ]
  },
  {
   "cell_type": "code",
   "execution_count": 19,
   "metadata": {},
   "outputs": [],
   "source": [
    "def run_yso_model( Tstar=None, logL_star=None, \\\n",
    "        logM_disk=None, logR_disk=None, h_0=None, logR_in=None, gamma=None, \\\n",
    "        beta=None, logM_env=None, logR_env=None, f_cav=None, ksi=None, \\\n",
    "        loga_max=None, p=None, incl=None):\n",
    "    \n",
    "    params = [Tstar,logL_star,logM_disk,logR_disk,h_0,logR_in,\\\n",
    "          gamma,beta,logM_env,logR_env,f_cav,ksi,loga_max,p,incl]\n",
    "\n",
    "    # Set up the dust properties.\n",
    "\n",
    "    dust_gen = dust.DustGenerator(dust.__path__[0]+\"/data/diana_wice.hdf5\")\n",
    "    ddust = dust_gen(10.**loga_max / 1e4, p)\n",
    "    env_dust_gen = dust.DustGenerator(dust.__path__[0]+\\\n",
    "            \"/data/diana_wice.hdf5\")\n",
    "    edust = env_dust_gen(1.0e-4, 3.5)\n",
    "\n",
    "    # Calculate alpha correctly.\n",
    "\n",
    "    alpha = gamma + beta\n",
    "\n",
    "    # Fix the scale height of the disk.\n",
    "\n",
    "    h_0 *= (10.**logR_disk)**beta\n",
    "\n",
    "    # Set up the model.\n",
    "\n",
    "    model = modeling.YSOModel()\n",
    "    model.add_star(luminosity=10.**logL_star, temperature=Tstar)\n",
    "    model.set_spherical_grid(10.**logR_in, 10.**logR_env, 100, 101, 2, \\\n",
    "            code=\"radmc3d\")\n",
    "    model.add_pringle_disk(mass=10.**logM_disk, rmin=10.**logR_in, \\\n",
    "            rmax=10.**logR_disk, plrho=alpha, h0=h_0, plh=beta, dust=ddust)\n",
    "    model.add_ulrich_envelope(mass=10.**logM_env, rmin=10.**logR_in, \\\n",
    "            rmax=10.**logR_env, cavpl=ksi, cavrfact=f_cav, dust=edust)\n",
    "    model.grid.set_wavelength_grid(0.1,1.0e5,500,log=True)\n",
    "    \n",
    "    print(\"finished setting up model, now running thermal simulation\")\n",
    "\n",
    "    # Run the thermal simulation\n",
    "    model.run_thermal(code=\"radmc3d\", nphot=1e6, \\\n",
    "            modified_random_walk=True, verbose=False, setthreads=17, \\\n",
    "            timelimit=10800)\n",
    "    \n",
    "    print(\"finished running thermal simulation, now running SED\")\n",
    "    t2=time()\n",
    "    \n",
    "    # Run the SED.\n",
    "\n",
    "    model.set_camera_wavelength(np.logspace(-1.,4.,500))\n",
    "    model.run_sed(name=\"SED\", nphot=1e5, loadlambda=True, incl=incl, \\\n",
    "            pa=0., dpc=140., code=\"radmc3d\", camera_scatsrc_allfreq=True, \\\n",
    "            verbose=False, setthreads=17)\n",
    "    \n",
    "    filename=\"\"\n",
    "    for i in range(len(param_names)):\n",
    "        filename+=param_names[i]+\"_\"\n",
    "        filename+=str(params[i])+\"_\"\n",
    "    filename=filename[:-1]\n",
    "    filename+=\".hdf5\"\n",
    "    print(\"finished running \"+filename[0:40]+\"... in %0.3fs\" % (time() - t2))\n",
    "    \n",
    "    # Write out the file.\n",
    "    model.write_yso(\"../grid/grid23/\"+filename)"
   ]
  },
  {
   "cell_type": "code",
   "execution_count": 20,
   "metadata": {},
   "outputs": [],
   "source": [
    "pars=bases"
   ]
  },
  {
   "cell_type": "code",
   "execution_count": null,
   "metadata": {},
   "outputs": [
    {
     "name": "stdout",
     "output_type": "stream",
     "text": [
      "finished setting up model, now running thermal simulation\n",
      "finished running thermal simulation, now running SED\n",
      "finished running Tstar_4000.0_logLstar_1.0_logMdisk_-2.55... in 570.995s\n",
      "finished running SED #14 in 2492.496s\n",
      "finished setting up model, now running thermal simulation\n",
      "finished running thermal simulation, now running SED\n",
      "finished running Tstar_4000.0_logLstar_1.0_logMdisk_-7.52... in 231.582s\n",
      "finished running SED #15 in 239.116s\n",
      "finished setting up model, now running thermal simulation\n",
      "finished running thermal simulation, now running SED\n",
      "finished running Tstar_4000.0_logLstar_1.0_logMdisk_-5.58... in 212.212s\n",
      "finished running SED #16 in 219.354s\n",
      "finished setting up model, now running thermal simulation\n",
      "finished running thermal simulation, now running SED\n",
      "finished running Tstar_4000.0_logLstar_1.0_logMdisk_-7.84... in 240.149s\n",
      "finished running SED #17 in 247.816s\n",
      "finished setting up model, now running thermal simulation\n",
      "finished running thermal simulation, now running SED\n",
      "finished running Tstar_4000.0_logLstar_1.0_logMdisk_-6.08... in 338.011s\n",
      "finished running SED #18 in 352.115s\n",
      "finished setting up model, now running thermal simulation\n",
      "finished running thermal simulation, now running SED\n"
     ]
    }
   ],
   "source": [
    "for i in range(14,len(coords[0])):\n",
    "    t0=time()\n",
    "    run_yso_model(Tstar=pars[0], logL_star=pars[1], \\\n",
    "            logM_disk=coords[0][i], logR_disk=coords[1][i], h_0=pars[4], logR_in=pars[5], gamma=pars[6], \\\n",
    "            beta=pars[7], logM_env=pars[8], logR_env=pars[9], f_cav=pars[10], ksi=pars[11], \\\n",
    "            loga_max=pars[12], p=pars[13], incl=pars[14])\n",
    "    print(\"finished running SED #\"+str(i)+\" in %0.3fs\" % (time() - t0))"
   ]
  },
  {
   "cell_type": "code",
   "execution_count": null,
   "metadata": {},
   "outputs": [],
   "source": [
    "r=[ranges[11],ranges[12]]\n",
    "coords=np.array(lhsmdu.sample(2,100))\n",
    "coords=coords*np.array([r[0][1]-r[0][0],r[1][1]-r[1][0]])[:,np.newaxis]\n",
    "coords+=np.array([r[0][0],r[1][0]])[:,np.newaxis]\n",
    "\n",
    "with open('../grid_metadata/1112_coords.txt', 'wb') as fp:\n",
    "    pickle.dump(coords, fp)\n",
    "\n",
    "with open ('../grid_metadata/1112_coords.txt', 'rb') as fp:\n",
    "    coords = pickle.load(fp)"
   ]
  },
  {
   "cell_type": "code",
   "execution_count": null,
   "metadata": {},
   "outputs": [],
   "source": [
    "def run_yso_model( Tstar=None, logL_star=None, \\\n",
    "        logM_disk=None, logR_disk=None, h_0=None, logR_in=None, gamma=None, \\\n",
    "        beta=None, logM_env=None, logR_env=None, f_cav=None, ksi=None, \\\n",
    "        loga_max=None, p=None, incl=None):\n",
    "    \n",
    "    params = [Tstar,logL_star,logM_disk,logR_disk,h_0,logR_in,\\\n",
    "          gamma,beta,logM_env,logR_env,f_cav,ksi,loga_max,p,incl]\n",
    "\n",
    "    # Set up the dust properties.\n",
    "\n",
    "    dust_gen = dust.DustGenerator(dust.__path__[0]+\"/data/diana_wice.hdf5\")\n",
    "    ddust = dust_gen(10.**loga_max / 1e4, p)\n",
    "    env_dust_gen = dust.DustGenerator(dust.__path__[0]+\\\n",
    "            \"/data/diana_wice.hdf5\")\n",
    "    edust = env_dust_gen(1.0e-4, 3.5)\n",
    "\n",
    "    # Calculate alpha correctly.\n",
    "\n",
    "    alpha = gamma + beta\n",
    "\n",
    "    # Fix the scale height of the disk.\n",
    "\n",
    "    h_0 *= (10.**logR_disk)**beta\n",
    "\n",
    "    # Set up the model.\n",
    "\n",
    "    model = modeling.YSOModel()\n",
    "    model.add_star(luminosity=10.**logL_star, temperature=Tstar)\n",
    "    model.set_spherical_grid(10.**logR_in, 10.**logR_env, 100, 101, 2, \\\n",
    "            code=\"radmc3d\")\n",
    "    model.add_pringle_disk(mass=10.**logM_disk, rmin=10.**logR_in, \\\n",
    "            rmax=10.**logR_disk, plrho=alpha, h0=h_0, plh=beta, dust=ddust)\n",
    "    model.add_ulrich_envelope(mass=10.**logM_env, rmin=10.**logR_in, \\\n",
    "            rmax=10.**logR_env, cavpl=ksi, cavrfact=f_cav, dust=edust)\n",
    "    model.grid.set_wavelength_grid(0.1,1.0e5,500,log=True)\n",
    "    \n",
    "    print(\"finished setting up model, now running thermal simulation\")\n",
    "\n",
    "    # Run the thermal simulation\n",
    "    model.run_thermal(code=\"radmc3d\", nphot=1e6, \\\n",
    "            modified_random_walk=True, verbose=False, setthreads=17, \\\n",
    "            timelimit=10800)\n",
    "    \n",
    "    print(\"finished running thermal simulation, now running SED\")\n",
    "    t2=time()\n",
    "    \n",
    "    # Run the SED.\n",
    "\n",
    "    model.set_camera_wavelength(np.logspace(-1.,4.,500))\n",
    "    model.run_sed(name=\"SED\", nphot=1e5, loadlambda=True, incl=incl, \\\n",
    "            pa=0., dpc=140., code=\"radmc3d\", camera_scatsrc_allfreq=True, \\\n",
    "            verbose=False, setthreads=17)\n",
    "    \n",
    "    filename=\"\"\n",
    "    for i in range(len(param_names)):\n",
    "        filename+=param_names[i]+\"_\"\n",
    "        filename+=str(params[i])+\"_\"\n",
    "    filename=filename[:-1]\n",
    "    filename+=\".hdf5\"\n",
    "    print(\"finished running \"+filename[0:40]+\"... in %0.3fs\" % (time() - t2))\n",
    "    \n",
    "    # Write out the file.\n",
    "    model.write_yso(\"../grid/grid112/\"+filename)"
   ]
  },
  {
   "cell_type": "code",
   "execution_count": null,
   "metadata": {},
   "outputs": [],
   "source": [
    "for i in range(len(coords[0])):\n",
    "    t0=time()\n",
    "    run_yso_model(Tstar=pars[0], logL_star=pars[1], \\\n",
    "            logM_disk=pars[2], logR_disk=pars[3], h_0=pars[4], logR_in=pars[5], gamma=pars[6], \\\n",
    "            beta=pars[7], logM_env=pars[8], logR_env=pars[9], f_cav=pars[10], ksi=coords[0][i], \\\n",
    "            loga_max=coords[1][i], p=pars[13], incl=pars[14])\n",
    "    print(\"finished running SED #\"+str(i)+\" in %0.3fs\" % (time() - t0))"
   ]
  },
  {
   "cell_type": "code",
   "execution_count": null,
   "metadata": {},
   "outputs": [],
   "source": []
  },
  {
   "cell_type": "code",
   "execution_count": null,
   "metadata": {},
   "outputs": [],
   "source": []
  },
  {
   "cell_type": "code",
   "execution_count": null,
   "metadata": {},
   "outputs": [],
   "source": []
  },
  {
   "cell_type": "code",
   "execution_count": null,
   "metadata": {},
   "outputs": [],
   "source": []
  },
  {
   "cell_type": "code",
   "execution_count": null,
   "metadata": {},
   "outputs": [],
   "source": []
  }
 ],
 "metadata": {
  "kernelspec": {
   "display_name": "Python 3",
   "language": "python",
   "name": "python3"
  },
  "language_info": {
   "codemirror_mode": {
    "name": "ipython",
    "version": 3
   },
   "file_extension": ".py",
   "mimetype": "text/x-python",
   "name": "python",
   "nbconvert_exporter": "python",
   "pygments_lexer": "ipython3",
   "version": "3.7.3"
  }
 },
 "nbformat": 4,
 "nbformat_minor": 2
}
