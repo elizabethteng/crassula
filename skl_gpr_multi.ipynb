{
 "cells": [
  {
   "cell_type": "code",
   "execution_count": 1,
   "metadata": {},
   "outputs": [],
   "source": [
    "%matplotlib inline"
   ]
  },
  {
   "cell_type": "code",
   "execution_count": 2,
   "metadata": {},
   "outputs": [],
   "source": [
    "import numpy as np\n",
    "from matplotlib import pyplot as plt\n",
    "from sklearn.datasets import fetch_openml\n",
    "from sklearn.gaussian_process import GaussianProcessRegressor\n",
    "from sklearn.gaussian_process.kernels import RBF, ConstantKernel\n",
    "\n",
    "import os\n",
    "import pickle\n",
    "from time import time\n",
    "from sklearn.decomposition import PCA"
   ]
  },
  {
   "cell_type": "code",
   "execution_count": 3,
   "metadata": {},
   "outputs": [],
   "source": [
    "param_names = [\"Tstar\",\"logL_star\",\"logM_disk\",\"logR_disk\",\"h_0\",\"logR_in\",\\\n",
    "          \"gamma\",\"beta\",\"logM_env\",\"logR_env\",\"f_cav\",\"ksi\",\"loga_max\",\"p\",\"incl\"]\n",
    "    \n",
    "# training set - read in filenames and logspace flux values\n",
    "with open ('../grid_metadata/corefull.txt', 'rb') as fp:\n",
    "    core= pickle.load(fp)[100:500]\n",
    "with open ('../grid_metadata/cubefull.txt', 'rb') as fp:\n",
    "    cube = np.array(pickle.load(fp))[:,100:500]\n",
    "with open ('../grid_metadata/cubefull.txt', 'rb') as fp:\n",
    "    nancube = np.array(pickle.load(fp))[:,100:500]    \n",
    "    \n",
    "# x values (wavelengths) - 500 values, in normal space\n",
    "with open ('../grid_metadata/xvals.txt', 'rb') as fp:\n",
    "    xvals = pickle.load(fp)[100:500]"
   ]
  },
  {
   "cell_type": "code",
   "execution_count": 4,
   "metadata": {},
   "outputs": [
    {
     "name": "stdout",
     "output_type": "stream",
     "text": [
      "done in 0.172s\n"
     ]
    },
    {
     "data": {
      "text/plain": [
       "(40, 400)"
      ]
     },
     "execution_count": 4,
     "metadata": {},
     "output_type": "execute_result"
    }
   ],
   "source": [
    "# fix -infs: powerlaw cutoff\n",
    "for i in range(len(cube)):\n",
    "    if -np.inf in cube[i]:\n",
    "        a = cube[i].tolist()\n",
    "        a.reverse()\n",
    "        ind = len(a)-a.index(-np.inf)\n",
    "        x1 = xvals[ind]\n",
    "        y1 = cube[i][ind]\n",
    "        for j in range(ind):\n",
    "            cube[i][j]=(100*(np.log10(xvals[j]/x1)))+y1\n",
    "            \n",
    "# nan cutoff for means            \n",
    "nancube[nancube<-20]=np.nan\n",
    "\n",
    "# subtracting from the seds each sample mean\n",
    "seds_msub = cube - np.nanmean(nancube,axis=1)[:,np.newaxis]\n",
    "\n",
    "t0 = time()\n",
    "pca = PCA(n_components=40).fit(seds_msub)\n",
    "print(\"done in %0.3fs\" % (time() - t0))\n",
    "\n",
    "eigenseds=np.array(pca.components_)\n",
    "eigenseds.shape"
   ]
  },
  {
   "cell_type": "code",
   "execution_count": 5,
   "metadata": {},
   "outputs": [],
   "source": [
    "fitdata=[]\n",
    "\n",
    "for i in range(len(cube)):\n",
    "    modeldata=[]\n",
    "    coeffs=pca.transform(seds_msub[i].reshape(1,-1))\n",
    "    for k in range(18):\n",
    "        modeldata.append(coeffs[0][k])\n",
    "    fitdata.append(modeldata)"
   ]
  },
  {
   "cell_type": "code",
   "execution_count": 6,
   "metadata": {},
   "outputs": [],
   "source": [
    "dictionary=np.load(\"../grid_metadata/dictionary.npy\")"
   ]
  },
  {
   "cell_type": "code",
   "execution_count": 7,
   "metadata": {},
   "outputs": [],
   "source": [
    "def load_pcwpar(weight):\n",
    "    p=[]\n",
    "    w=[]\n",
    "    for i in range(len(cube)):\n",
    "        pars=[]\n",
    "        for j in range(len(param_names)):\n",
    "            pars.append(dictionary[i][param_names[j]])\n",
    "        p.append(pars)\n",
    "        w.append(fitdata[i][weight])\n",
    "    \n",
    "    return p,w"
   ]
  },
  {
   "cell_type": "code",
   "execution_count": 19,
   "metadata": {},
   "outputs": [],
   "source": [
    "X, y = load_pcwpar(0)"
   ]
  },
  {
   "cell_type": "code",
   "execution_count": 21,
   "metadata": {},
   "outputs": [],
   "source": [
    "kernel =  ConstantKernel(constant_value=np.var(y), constant_value_bounds=(1e1,1e6))*\\\n",
    "        RBF(length_scale=900,length_scale_bounds=(200,2000))*\\\n",
    "        RBF(length_scale=1,length_scale_bounds=(0.2,3))*\\\n",
    "        RBF(length_scale=1,length_scale_bounds=(0.3,4))*\\\n",
    "        RBF(length_scale=0.8,length_scale_bounds=(0.15,1.5))*\\\n",
    "        RBF(length_scale=0.08,length_scale_bounds=(0.03,0.4))*\\\n",
    "        RBF(length_scale=0.5,length_scale_bounds=(0.1,1))*\\\n",
    "        RBF(length_scale=1,length_scale_bounds=(0.2,2))*\\\n",
    "        RBF(length_scale=0.2,length_scale_bounds=(0.05,0.5))*\\\n",
    "        RBF(length_scale=0.5,length_scale_bounds=(0.2,4))*\\\n",
    "        RBF(length_scale=0.2,length_scale_bounds=(0.05,1.5))*\\\n",
    "        RBF(length_scale=0.25,length_scale_bounds=(0.08,1.5))*\\\n",
    "        RBF(length_scale=0.25,length_scale_bounds=(0.08,0.8))*\\\n",
    "        RBF(length_scale=0.5,length_scale_bounds=(0.2,4))*\\\n",
    "        RBF(length_scale=0.4,length_scale_bounds=(0.2,2))*\\\n",
    "        RBF(length_scale=5,length_scale_bounds=(3,25))"
   ]
  },
  {
   "cell_type": "code",
   "execution_count": 22,
   "metadata": {},
   "outputs": [],
   "source": [
    "gp = GaussianProcessRegressor(kernel=kernel, normalize_y=True,n_restarts_optimizer=10)"
   ]
  },
  {
   "cell_type": "code",
   "execution_count": 23,
   "metadata": {},
   "outputs": [
    {
     "name": "stdout",
     "output_type": "stream",
     "text": [
      "done in 2549.888s\n"
     ]
    }
   ],
   "source": [
    "t0 = time()\n",
    "gp.fit(X,y)\n",
    "print(\"done in %0.3fs\" % (time() - t0))"
   ]
  },
  {
   "cell_type": "code",
   "execution_count": 24,
   "metadata": {},
   "outputs": [
    {
     "name": "stdout",
     "output_type": "stream",
     "text": [
      "\n",
      "Learned kernel: 91.8**2 * RBF(length_scale=626) * RBF(length_scale=0.423) * RBF(length_scale=0.559) * RBF(length_scale=0.542) * RBF(length_scale=0.205) * RBF(length_scale=0.68) * RBF(length_scale=0.698) * RBF(length_scale=0.351) * RBF(length_scale=0.301) * RBF(length_scale=1.35) * RBF(length_scale=0.183) * RBF(length_scale=0.104) * RBF(length_scale=2.01) * RBF(length_scale=0.666) * RBF(length_scale=7.13)\n",
      "Log-marginal-likelihood: -22861.991\n"
     ]
    }
   ],
   "source": [
    "print(\"\\nLearned kernel: %s\" % gp.kernel_)\n",
    "print(\"Log-marginal-likelihood: %.3f\"\n",
    "      % gp.log_marginal_likelihood(gp.kernel_.theta))"
   ]
  },
  {
   "cell_type": "code",
   "execution_count": 25,
   "metadata": {},
   "outputs": [],
   "source": [
    "ranges = [[3000.,5000.], [-1,3.],[-8.,-2.], [0.,3.],[0.01,0.5],[-1.,2.5],[0.0,2.0],\\\n",
    "        [0.5,2.0],[-8.,-2.],[2.5,4.], [0.,1.], [0.5,1.5],[0.,5.],[2.5,4.5],[0.,90.]]\n",
    "steps=[]\n",
    "for i in range(len(ranges)):\n",
    "    steps.append(np.linspace(ranges[i][0],ranges[i][1],11))"
   ]
  },
  {
   "cell_type": "code",
   "execution_count": 26,
   "metadata": {},
   "outputs": [],
   "source": [
    "sl=[]\n",
    "for i in range(11):\n",
    "    x=[steps[0][i]]\n",
    "    for j in range(len(ranges)-1):\n",
    "        x.append(steps[j+1][5])\n",
    "    sl.append(x)"
   ]
  },
  {
   "cell_type": "code",
   "execution_count": 27,
   "metadata": {},
   "outputs": [
    {
     "data": {
      "text/plain": [
       "[<matplotlib.lines.Line2D at 0x7fa0e413fd30>]"
      ]
     },
     "execution_count": 27,
     "metadata": {},
     "output_type": "execute_result"
    },
    {
     "data": {
      "image/png": "[encoded data removed]",
      "text/plain": [
       "<Figure size 432x288 with 1 Axes>"
      ]
     },
     "metadata": {
      "needs_background": "light"
     },
     "output_type": "display_data"
    }
   ],
   "source": [
    "pred, pred_std = gp.predict(sl, return_std=True)\n",
    "\n",
    "plt.fill_between(np.array(sl)[:,0], pred - pred_std, pred + pred_std,\n",
    "                color=\"b\", alpha=0.2)\n",
    "plt.plot(np.array(sl)[:,0], pred, \"r\", lw=1.5, alpha=0.5)"
   ]
  },
  {
   "cell_type": "code",
   "execution_count": null,
   "metadata": {},
   "outputs": [],
   "source": [
    "#VISUALIZATION: VIOLIN PLOTS\n",
    "#    https://towardsdatascience.com/the-art-of-effective-visualization-of-multi-dimensional-data-6c7202990c57\n",
    "        \n",
    "#import seaborn as sns\n",
    "        \n",
    "#Violin Plots\n",
    "#f, (ax) = plt.subplots(1, 1, figsize=(12, 4))\n",
    "#f.suptitle('Wine Quality - Sulphates Content', fontsize=14)\n",
    "\n",
    "#sns.violinplot(x=\"quality\", y=\"sulphates\", data=wines,  ax=ax)\n",
    "#ax.set_xlabel(\"Wine Quality\",size = 12,alpha=0.8)\n",
    "#ax.set_ylabel(\"Wine Sulphates\",size = 12,alpha=0.8)"
   ]
  },
  {
   "cell_type": "code",
   "execution_count": null,
   "metadata": {},
   "outputs": [],
   "source": []
  }
 ],
 "metadata": {
  "kernelspec": {
   "display_name": "Python 3",
   "language": "python",
   "name": "python3"
  },
  "language_info": {
   "codemirror_mode": {
    "name": "ipython",
    "version": 3
   },
   "file_extension": ".py",
   "mimetype": "text/x-python",
   "name": "python",
   "nbconvert_exporter": "python",
   "pygments_lexer": "ipython3",
   "version": "3.7.3"
  }
 },
 "nbformat": 4,
 "nbformat_minor": 2
}
