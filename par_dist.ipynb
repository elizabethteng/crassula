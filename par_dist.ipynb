{
 "cells": [
  {
   "cell_type": "code",
   "execution_count": 1,
   "metadata": {},
   "outputs": [],
   "source": [
    "import numpy as np\n",
    "from time import time\n",
    "from sklearn.decomposition import PCA\n",
    "import matplotlib.pyplot as plt\n",
    "import pandas as pd\n",
    "import pdspy.modeling as modeling\n",
    "from matplotlib.backends.backend_pdf import PdfPages\n",
    "from matplotlib.animation import FuncAnimation\n",
    "import os\n",
    "import pickle"
   ]
  },
  {
   "cell_type": "code",
   "execution_count": 3,
   "metadata": {
    "scrolled": true
   },
   "outputs": [
    {
     "name": "stdout",
     "output_type": "stream",
     "text": [
      "0\n",
      "Tstar_34.314_logLstar_-0.339_logMdisk_-5.367_logRdisk_0.844_h0_0.093_logRin_0.107_gamma_0.547_beta_1.200_logMenv_-7.307_logRenv_3.826_fcav_0.229_ksi_1.006_logamax_4.437_p_2.812_incl_42.673.hdf5\n",
      "Tstar_43.479_logLstar_2.632_logMdisk_-3.052_logRdisk_2.011_h0_0.277_logRin_1.856_gamma_1.377_beta_1.510_logMenv_-5.797_logRenv_3.172_fcav_0.805_ksi_0.999_logamax_0.313_p_2.562_incl_83.784.hdf5\n",
      "Tstar_31.334_logLstar_2.555_logMdisk_-5.277_logRdisk_1.931_h0_0.411_logRin_0.474_gamma_0.955_beta_1.996_logMenv_-3.104_logRenv_2.549_fcav_0.2_ksi_1.284_logamax_3.836_p_2.879_incl_34.233.hdf5\n",
      "Tstar_30.133_logLstar_2.027_logMdisk_-2.586_logRdisk_2.460_h0_0.399_logRin_1.283_gamma_0.113_beta_1.899_logMenv_-2.596_logRenv_3.894_fcav_0.293_ksi_0.542_logamax_3.601_p_3.639_incl_83.410.hdf5\n",
      "Tstar_34.837_logLstar_0.851_logMdisk_-6.583_logRdisk_1.789_h0_0.236_logRin_-0.175_gamma_1.4_beta_1.675_logMenv_-2.689_logRenv_3.500_fcav_0.959_ksi_0.910_logamax_2.556_p_3.271_incl_50.636.hdf5\n",
      "200\n",
      "Tstar_41.365_logLstar_0.202_logMdisk_-6.395_logRdisk_1.482_h0_0.147_logRin_-0.251_gamma_0.919_beta_1.078_logMenv_-5.549_logRenv_3.968_fcav_0.582_ksi_0.791_logamax_0.914_p_3.431_incl_1.175.hdf5\n",
      "Tstar_31.216_logLstar_2.948_logMdisk_-7.485_logRdisk_1.039_h0_0.093_logRin_-0.859_gamma_0.836_beta_0.598_logMenv_-2.728_logRenv_3.639_fcav_0.281_ksi_1.451_logamax_2.472_p_4.337_incl_17.041.hdf5\n",
      "Tstar_36.313_logLstar_2.480_logMdisk_-7.651_logRdisk_2.996_h0_0.326_logRin_0.822_gamma_1.483_beta_0.565_logMenv_-7.958_logRenv_3.182_fcav_0.356_ksi_1.314_logamax_0.981_p_3.853_incl_31.586.hdf5\n",
      "Tstar_41.857_logLstar_-0.520_logMdisk_-3.532_logRdisk_2.603_h0_0.484_logRin_0.126_gamma_1.4_beta_0.845_logMenv_-3.060_logRenv_3.452_fcav_0.357_ksi_1.128_logamax_2.115_p_4.487_incl_81.213.hdf5\n",
      "Tstar_48.120_logLstar_2.294_logMdisk_-7.551_logRdisk_0.149_h0_0.023_logRin_-0.913_gamma_0.292_beta_1.930_logMenv_-3.398_logRenv_3.568_fcav_0.367_ksi_1.142_logamax_1.802_p_2.926_incl_70.674.hdf5\n",
      "Tstar_45.589_logLstar_0.003_logMdisk_-4.075_logRdisk_1.775_h0_0.111_logRin_1.526_gamma_0.033_beta_0.762_logMenv_-5.121_logRenv_3.424_fcav_0.269_ksi_1.472_logamax_3.604_p_3.649_incl_23.732.hdf5\n",
      "400\n",
      "Tstar_45.372_logLstar_-0.843_logMdisk_-3.744_logRdisk_1.102_h0_0.409_logRin_0.316_gamma_0.138_beta_0.821_logMenv_-4.236_logRenv_2.613_fcav_0.755_ksi_1.339_logamax_2.972_p_2.846_incl_74.263.hdf5\n",
      "Tstar_42.302_logLstar_0.056_logMdisk_-2.602_logRdisk_2.262_h0_0.271_logRin_0.050_gamma_1.383_beta_1.241_logMenv_-6.580_logRenv_3.627_fcav_0.904_ksi_0.536_logamax_4.456_p_3.940_incl_59.591.hdf5\n",
      "Tstar_45.700_logLstar_2.247_logMdisk_-3.019_logRdisk_2.1_h0_0.121_logRin_1.705_gamma_0.337_beta_0.903_logMenv_-4.643_logRenv_3.469_fcav_0.011_ksi_0.835_logamax_2.750_p_2.651_incl_55.002.hdf5\n",
      "Tstar_35.440_logLstar_0.434_logMdisk_-3.701_logRdisk_1.983_h0_0.158_logRin_1.114_gamma_1.462_beta_1.399_logMenv_-5.890_logRenv_3.945_fcav_0.7_ksi_1.098_logamax_3.564_p_2.873_incl_11.556.hdf5\n",
      "Tstar_40.226_logLstar_2.898_logMdisk_-4.741_logRdisk_0.498_h0_0.291_logRin_0.193_gamma_1.796_beta_1.389_logMenv_-6.096_logRenv_3.585_fcav_0.410_ksi_0.6_logamax_0.170_p_4.334_incl_11.010.hdf5\n",
      "Tstar_41.233_logLstar_1.267_logMdisk_-6.532_logRdisk_1.810_h0_0.354_logRin_-0.832_gamma_1.357_beta_0.930_logMenv_-4.464_logRenv_2.528_fcav_0.514_ksi_1.073_logamax_4.139_p_3.626_incl_7.433.hdf5\n",
      "Tstar_43.728_logLstar_2.920_logMdisk_-3.200_logRdisk_1.162_h0_0.027_logRin_0.758_gamma_1.399_beta_0.621_logMenv_-3.456_logRenv_3.912_fcav_0.169_ksi_0.862_logamax_4.941_p_3.925_incl_35.926.hdf5\n",
      "Tstar_41.6_logLstar_2.813_logMdisk_-2.429_logRdisk_0.948_h0_0.106_logRin_-0.271_gamma_0.655_beta_0.962_logMenv_-3.527_logRenv_3.313_fcav_0.040_ksi_1.369_logamax_1.514_p_3.470_incl_.992.hdf5\n",
      "Tstar_49.723_logLstar_-0.944_logMdisk_-6.084_logRdisk_2.739_h0_0.199_logRin_0.121_gamma_1.840_beta_1.541_logMenv_-2.093_logRenv_3.269_fcav_0.693_ksi_1.172_logamax_3.213_p_4.472_incl_7.5.hdf5\n",
      "Tstar_39.0_logLstar_1.933_logMdisk_-6.214_logRdisk_2.084_h0_0.304_logRin_0.526_gamma_1.407_beta_1.240_logMenv_-7.299_logRenv_2.510_fcav_0.639_ksi_1.128_logamax_4.725_p_3.628_incl_11.441.hdf5\n",
      "600\n",
      "Tstar_48.222_logLstar_2.294_logMdisk_-3.543_logRdisk_2.111_h0_0.490_logRin_-0.848_gamma_0.796_beta_0.945_logMenv_-3.806_logRenv_3.987_fcav_0.278_ksi_0.673_logamax_2.407_p_3.499_incl_72.596.hdf5\n",
      "Tstar_35.569_logLstar_-0.0_logMdisk_-3.327_logRdisk_1.390_h0_0.454_logRin_-0.046_gamma_1.620_beta_1.113_logMenv_-4.846_logRenv_3.765_fcav_0.152_ksi_0.540_logamax_4.022_p_3.967_incl_55.263.hdf5\n",
      "Tstar_47.389_logLstar_1.5_logMdisk_-3.377_logRdisk_1.023_h0_0.386_logRin_-0.202_gamma_0.236_beta_1.480_logMenv_-4.743_logRenv_3.525_fcav_0.777_ksi_1.480_logamax_1.558_p_4.346_incl_1.385.hdf5\n",
      "Tstar_35.287_logLstar_2.221_logMdisk_-5.015_logRdisk_1.6_h0_0.392_logRin_1.675_gamma_0.585_beta_0.559_logMenv_-5.415_logRenv_3.443_fcav_0.125_ksi_1.364_logamax_3.064_p_3.771_incl_61.497.hdf5\n",
      "Tstar_39.070_logLstar_-0.421_logMdisk_-6.325_logRdisk_1.316_h0_0.021_logRin_1.220_gamma_1.347_beta_0.647_logMenv_-3.534_logRenv_3.269_fcav_0.838_ksi_1.158_logamax_0.984_p_3.654_incl_1.608.hdf5\n",
      "Tstar_32.122_logLstar_1.322_logMdisk_-4.897_logRdisk_2.798_h0_0.154_logRin_1.958_gamma_1.617_beta_1.959_logMenv_-6.705_logRenv_3.163_fcav_0.248_ksi_1.116_logamax_0.945_p_3.479_incl_.418.hdf5\n",
      "Tstar_41.510_logLstar_2.695_logMdisk_-7.091_logRdisk_2.328_h0_0.210_logRin_1.627_gamma_1.876_beta_1.181_logMenv_-5.048_logRenv_2.649_fcav_0.134_ksi_1.082_logamax_0.780_p_4.372_incl_37.873.hdf5\n",
      "Tstar_33.967_logLstar_0.707_logMdisk_-3.0_logRdisk_2.3_h0_0.236_logRin_-0.654_gamma_0.207_beta_1.903_logMenv_-2.126_logRenv_3.0_fcav_0.976_ksi_0.920_logamax_0.254_p_3.894_incl_56.489.hdf5\n",
      "800\n",
      "Tstar_45.336_logLstar_1.910_logMdisk_-7.490_logRdisk_2.274_h0_0.328_logRin_-0.214_gamma_0.621_beta_1.730_logMenv_-4.825_logRenv_3.7_fcav_0.291_ksi_1.098_logamax_3.897_p_2.921_incl_35.405.hdf5\n",
      "Tstar_38.279_logLstar_0.103_logMdisk_-3.391_logRdisk_0.517_h0_0.093_logRin_0.121_gamma_1.144_beta_1.440_logMenv_-4.049_logRenv_2.940_fcav_0.215_ksi_1.184_logamax_3.764_p_4.273_incl_56.614.hdf5\n",
      "Tstar_36.697_logLstar_2.916_logMdisk_-3.692_logRdisk_1.084_h0_0.287_logRin_-0.381_gamma_0.776_beta_1.311_logMenv_-7.074_logRenv_3.002_fcav_0.937_ksi_0.506_logamax_4.463_p_2.649_incl_2.941.hdf5\n",
      "Tstar_36.972_logLstar_-0.394_logMdisk_-7.395_logRdisk_2.558_h0_0.283_logRin_-0.600_gamma_0.929_beta_0.853_logMenv_-2.143_logRenv_2.977_fcav_0.798_ksi_1.365_logamax_4.370_p_2.653_incl_63.622.hdf5\n",
      "Tstar_30.836_logLstar_1.064_logMdisk_-5.361_logRdisk_2.108_h0_0.216_logRin_0.331_gamma_0.8_beta_0.776_logMenv_-6.553_logRenv_3.142_fcav_0.8_ksi_0.906_logamax_4.572_p_3.089_incl_7.522.hdf5\n",
      "Tstar_34.498_logLstar_2.730_logMdisk_-3.070_logRdisk_1.657_h0_0.284_logRin_0.151_gamma_0.295_beta_1.476_logMenv_-6.489_logRenv_2.617_fcav_0.521_ksi_0.972_logamax_0.426_p_2.817_incl_80.591.hdf5\n",
      "1000\n",
      "Tstar_39.157_logLstar_0.7_logMdisk_-6.964_logRdisk_2.767_h0_0.142_logRin_2.117_gamma_1.600_beta_0.505_logMenv_-4.687_logRenv_3.246_fcav_0.630_ksi_0.996_logamax_0.287_p_4.392_incl_45.302.hdf5\n",
      "Tstar_44.229_logLstar_-0.375_logMdisk_-4.119_logRdisk_1.937_h0_0.469_logRin_0.226_gamma_0.819_beta_1.219_logMenv_-6.367_logRenv_3.316_fcav_0.085_ksi_1.022_logamax_2.402_p_3.877_incl_34.151.hdf5\n",
      "Tstar_43.424_logLstar_2.111_logMdisk_-2.492_logRdisk_2.056_h0_0.335_logRin_-0.436_gamma_0.091_beta_1.338_logMenv_-6.360_logRenv_3.717_fcav_0.597_ksi_0.550_logamax_4.267_p_4.177_incl_86.472.hdf5\n",
      "Tstar_44.470_logLstar_1.099_logMdisk_-6.210_logRdisk_2.362_h0_0.249_logRin_-0.208_gamma_0.642_beta_0.769_logMenv_-7.0_logRenv_3.482_fcav_0.096_ksi_1.043_logamax_0.490_p_4.183_incl_16.256.hdf5\n",
      "Tstar_39.472_logLstar_1.057_logMdisk_-4.775_logRdisk_2.544_h0_0.1_logRin_-0.044_gamma_1.045_beta_1.965_logMenv_-4.9_logRenv_3.272_fcav_0.903_ksi_0.671_logamax_4.106_p_3.000_incl_51.297.hdf5\n",
      "Tstar_47.747_logLstar_0.474_logMdisk_-3.7_logRdisk_1.427_h0_0.374_logRin_-0.496_gamma_0.721_beta_1.447_logMenv_-6.7_logRenv_3.130_fcav_0.148_ksi_1.425_logamax_1.337_p_2.995_incl_48.921.hdf5\n",
      "Tstar_33.737_logLstar_2.091_logMdisk_-7.507_logRdisk_0.810_h0_0.099_logRin_-0.321_gamma_0.148_beta_1.044_logMenv_-4.323_logRenv_2.522_fcav_0.212_ksi_1.060_logamax_2.124_p_4.454_incl_4.820.hdf5\n",
      "Tstar_42.176_logLstar_0.208_logMdisk_-7.759_logRdisk_2.468_h0_0.228_logRin_-0.263_gamma_0.829_beta_0.689_logMenv_-5.487_logRenv_3.689_fcav_0.642_ksi_0.737_logamax_0.558_p_3.8_incl_39.394.hdf5\n"
     ]
    },
    {
     "name": "stdout",
     "output_type": "stream",
     "text": [
      "Tstar_38.980_logLstar_-0.739_logMdisk_-2.009_logRdisk_2.870_h0_0.352_logRin_0.941_gamma_0.962_beta_0.977_logMenv_-3.943_logRenv_3.640_fcav_0.351_ksi_1.442_logamax_3.380_p_4.392_incl_41.551.hdf5\n",
      "1200\n",
      "Tstar_33.379_logLstar_-0.242_logMdisk_-2.235_logRdisk_1.670_h0_0.471_logRin_0.621_gamma_0.471_beta_0.902_logMenv_-4.064_logRenv_3.110_fcav_0.171_ksi_0.526_logamax_2.804_p_3.813_incl_53.848.hdf5\n",
      "Tstar_48.350_logLstar_-0.563_logMdisk_-3.036_logRdisk_1.9_h0_0.084_logRin_1.708_gamma_1.718_beta_0.552_logMenv_-2.591_logRenv_3.704_fcav_0.614_ksi_1.289_logamax_4.693_p_3.854_incl_44.028.hdf5\n",
      "Tstar_31.359_logLstar_2.910_logMdisk_-5.538_logRdisk_1.516_h0_0.442_logRin_-0.116_gamma_1.306_beta_1.232_logMenv_-7.257_logRenv_3.933_fcav_0.506_ksi_1.446_logamax_3.436_p_2.710_incl_26.2.hdf5\n",
      "Tstar_43.412_logLstar_1.6_logMdisk_-6.024_logRdisk_0.846_h0_0.112_logRin_-0.709_gamma_0.390_beta_1.622_logMenv_-7.063_logRenv_3.373_fcav_0.440_ksi_0.604_logamax_0.326_p_4.141_incl_25.585.hdf5\n",
      "Tstar_37.5_logLstar_2.642_logMdisk_-6.322_logRdisk_1.500_h0_0.473_logRin_0.105_gamma_0.855_beta_1.269_logMenv_-5.431_logRenv_2.963_fcav_0.745_ksi_0.615_logamax_4.871_p_4.363_incl_82.182.hdf5\n",
      "Tstar_49.850_logLstar_1.076_logMdisk_-3.484_logRdisk_2.771_h0_0.199_logRin_-0.363_gamma_0.096_beta_1.784_logMenv_-5.976_logRenv_3.303_fcav_0.778_ksi_1.345_logamax_3.774_p_4.499_incl_25.246.hdf5\n",
      "Tstar_39.907_logLstar_-0.016_logMdisk_-6.509_logRdisk_2.674_h0_0.323_logRin_2.249_gamma_0.042_beta_1.256_logMenv_-7.245_logRenv_3.811_fcav_0.812_ksi_0.734_logamax_2.199_p_3.189_incl_53.176.hdf5\n",
      "Tstar_40.693_logLstar_-0.107_logMdisk_-4.407_logRdisk_0.320_h0_0.452_logRin_0.1_gamma_1.014_beta_1.097_logMenv_-3.579_logRenv_3.843_fcav_0.464_ksi_1.093_logamax_4.143_p_3.251_incl_33.112.hdf5\n",
      "1400\n",
      "Tstar_40.684_logLstar_-0.218_logMdisk_-6.439_logRdisk_1.451_h0_0.124_logRin_0.624_gamma_0.4_beta_1.958_logMenv_-3.809_logRenv_3.302_fcav_0.147_ksi_0.823_logamax_1.548_p_4.071_incl_27.112.hdf5\n",
      "Tstar_32.443_logLstar_2.060_logMdisk_-7.797_logRdisk_2.945_h0_0.3_logRin_2.413_gamma_0.901_beta_1.832_logMenv_-5.519_logRenv_3.233_fcav_0.472_ksi_0.659_logamax_4.252_p_2.561_incl_18.144.hdf5\n",
      "Tstar_41.636_logLstar_0.432_logMdisk_-3.212_logRdisk_1.891_h0_0.461_logRin_1.225_gamma_0.134_beta_1.731_logMenv_-6.681_logRenv_3.922_fcav_0.551_ksi_0.618_logamax_0.713_p_3.294_incl_38.361.hdf5\n",
      "Tstar_49.299_logLstar_2.019_logMdisk_-4.146_logRdisk_2.545_h0_0.104_logRin_1.270_gamma_1.992_beta_0.723_logMenv_-4.834_logRenv_2.854_fcav_0.561_ksi_0.636_logamax_2.268_p_3.240_incl_72.563.hdf5\n",
      "Tstar_32.522_logLstar_1.815_logMdisk_-5.949_logRdisk_2.541_h0_0.042_logRin_1.114_gamma_0.486_beta_1.049_logMenv_-7.236_logRenv_3.246_fcav_0.524_ksi_1.157_logamax_1.975_p_4.324_incl_8.760.hdf5\n",
      "Tstar_37.034_logLstar_0.054_logMdisk_-6.843_logRdisk_1.261_h0_0.490_logRin_0.490_gamma_0.638_beta_1.784_logMenv_-3.977_logRenv_3.118_fcav_0.976_ksi_1.010_logamax_1.420_p_4.249_incl_75.028.hdf5\n",
      "Tstar_30.321_logLstar_0.682_logMdisk_-4.874_logRdisk_2.905_h0_0.245_logRin_0.336_gamma_0.974_beta_1.364_logMenv_-3.118_logRenv_3.056_fcav_0.439_ksi_1.291_logamax_2.895_p_3.436_incl_62.1.hdf5\n",
      "Tstar_47.006_logLstar_0.806_logMdisk_-4.447_logRdisk_1.600_h0_0.232_logRin_0.752_gamma_1.122_beta_1.821_logMenv_-3.004_logRenv_3.947_fcav_0.197_ksi_1.432_logamax_3.770_p_3.185_incl_47.074.hdf5\n",
      "1600\n",
      "Tstar_43.342_logLstar_0.894_logMdisk_-2.897_logRdisk_1.683_h0_0.275_logRin_-0.553_gamma_0.052_beta_0.513_logMenv_-5.346_logRenv_3.460_fcav_0.772_ksi_0.618_logamax_4.705_p_3.681_incl_8.547.hdf5\n",
      "Tstar_30.750_logLstar_1.551_logMdisk_-7.425_logRdisk_2.651_h0_0.103_logRin_-0.368_gamma_1.289_beta_1.092_logMenv_-4.102_logRenv_3.910_fcav_0.644_ksi_1.365_logamax_3.706_p_3.689_incl_67.579.hdf5\n",
      "Tstar_43.107_logLstar_1.533_logMdisk_-2.612_logRdisk_2.608_h0_0.272_logRin_0.373_gamma_1.493_beta_0.987_logMenv_-7.9_logRenv_3.4_fcav_0.533_ksi_1.365_logamax_3.643_p_3.956_incl_70.794.hdf5\n",
      "Tstar_42.799_logLstar_-0.929_logMdisk_-7.658_logRdisk_1.925_h0_0.365_logRin_1.702_gamma_0.422_beta_1.963_logMenv_-7.108_logRenv_3.814_fcav_0.454_ksi_1.230_logamax_1.739_p_3.7_incl_14.268.hdf5\n",
      "Tstar_48.684_logLstar_-0.369_logMdisk_-2.496_logRdisk_1.764_h0_0.125_logRin_-0.347_gamma_0.532_beta_1.471_logMenv_-6.199_logRenv_3.846_fcav_0.261_ksi_1.257_logamax_3.725_p_4.192_incl_57.094.hdf5\n",
      "Tstar_38.178_logLstar_2.0_logMdisk_-4.847_logRdisk_2.613_h0_0.480_logRin_1.338_gamma_1.099_beta_1.497_logMenv_-6.530_logRenv_3.173_fcav_0.138_ksi_0.540_logamax_0.286_p_4.149_incl_33.507.hdf5\n",
      "Tstar_33.259_logLstar_2.624_logMdisk_-4.0_logRdisk_2.357_h0_0.485_logRin_0.852_gamma_1.430_beta_1.054_logMenv_-3.575_logRenv_3.3_fcav_0.824_ksi_1.344_logamax_0.422_p_2.827_incl_9.298.hdf5\n",
      "Tstar_35.440_logLstar_2.495_logMdisk_-5.708_logRdisk_2.044_h0_0.379_logRin_-0.722_gamma_1.861_beta_1.127_logMenv_-2.963_logRenv_3.036_fcav_0.435_ksi_1.239_logamax_4.960_p_3.422_incl_73.406.hdf5\n",
      "Tstar_44.273_logLstar_1.268_logMdisk_-2.803_logRdisk_1.364_h0_0.255_logRin_-0.826_gamma_1.871_beta_1.096_logMenv_-6.380_logRenv_3.445_fcav_0.349_ksi_0.748_logamax_1.494_p_2.605_incl_76.265.hdf5\n",
      "Tstar_40.922_logLstar_0.642_logMdisk_-2.005_logRdisk_1.396_h0_0.184_logRin_-0.133_gamma_1.104_beta_1.677_logMenv_-5.927_logRenv_3.979_fcav_0.984_ksi_1.478_logamax_2.307_p_2.528_incl_34.916.hdf5\n",
      "1800\n",
      "Tstar_40.334_logLstar_0.726_logMdisk_-2.375_logRdisk_0.986_h0_0.176_logRin_0.963_gamma_0.551_beta_0.934_logMenv_-4.165_logRenv_2.758_fcav_0.369_ksi_0.909_logamax_2.279_p_4.479_incl_87.484.hdf5\n",
      "Tstar_49.357_logLstar_1.060_logMdisk_-5.830_logRdisk_2.324_h0_0.432_logRin_2.055_gamma_0.806_beta_1.978_logMenv_-4.646_logRenv_2.551_fcav_0.378_ksi_0.762_logamax_2.255_p_2.952_incl_84.670.hdf5\n",
      "Tstar_33.135_logLstar_-0.954_logMdisk_-5.520_logRdisk_2.625_h0_0.149_logRin_0.318_gamma_1.023_beta_1.234_logMenv_-3.325_logRenv_2.697_fcav_0.115_ksi_0.9_logamax_2.634_p_3.923_incl_18.527.hdf5\n",
      "Tstar_48.747_logLstar_2.686_logMdisk_-7.650_logRdisk_1.098_h0_0.031_logRin_-0.242_gamma_1.501_beta_0.763_logMenv_-5.461_logRenv_3.126_fcav_0.061_ksi_1.016_logamax_1.022_p_2.685_incl_32.020.hdf5\n",
      "Tstar_38.812_logLstar_-0.489_logMdisk_-6.217_logRdisk_2.589_h0_0.120_logRin_-0.516_gamma_1.112_beta_0.812_logMenv_-4.075_logRenv_3.022_fcav_0.873_ksi_1.275_logamax_3.679_p_2.934_incl_1.711.hdf5\n",
      "Tstar_39.224_logLstar_0.636_logMdisk_-5.484_logRdisk_1.452_h0_0.431_logRin_-0.337_gamma_0.543_beta_1.294_logMenv_-2.607_logRenv_2.926_fcav_0.580_ksi_1.396_logamax_3.383_p_3.476_incl_75.455.hdf5\n",
      "Tstar_49.206_logLstar_-0.308_logMdisk_-3.536_logRdisk_0.530_h0_0.259_logRin_-0.358_gamma_1.353_beta_0.699_logMenv_-6.748_logRenv_2.919_fcav_0.380_ksi_1.3_logamax_4.791_p_2.649_incl_69.137.hdf5\n",
      "Tstar_43.159_logLstar_1.590_logMdisk_-3.433_logRdisk_2.678_h0_0.099_logRin_1.753_gamma_0.413_beta_1.414_logMenv_-7.050_logRenv_3.748_fcav_0.279_ksi_1.325_logamax_3.419_p_3.145_incl_27.693.hdf5\n",
      "Tstar_36.491_logLstar_2.691_logMdisk_-7.342_logRdisk_2.081_h0_0.497_logRin_1.399_gamma_0.079_beta_1.316_logMenv_-5.610_logRenv_2.727_fcav_0.444_ksi_1.217_logamax_1.742_p_4.142_incl_65.698.hdf5\n",
      "2000\n",
      "Tstar_33.350_logLstar_1.947_logMdisk_-5.719_logRdisk_2.614_h0_0.065_logRin_2.374_gamma_0.185_beta_0.522_logMenv_-4.964_logRenv_2.752_fcav_0.033_ksi_1.113_logamax_0.647_p_2.708_incl_8.299.hdf5\n",
      "Tstar_48.049_logLstar_0.361_logMdisk_-7.697_logRdisk_0.936_h0_0.022_logRin_-0.056_gamma_0.064_beta_1.182_logMenv_-3.585_logRenv_2.540_fcav_0.979_ksi_1.099_logamax_2.116_p_4.327_incl_53.304.hdf5\n",
      "Tstar_31.643_logLstar_1.016_logMdisk_-3.3_logRdisk_2.624_h0_0.378_logRin_-0.248_gamma_1.125_beta_1.857_logMenv_-6.211_logRenv_2.891_fcav_0.073_ksi_0.911_logamax_4.086_p_3.050_incl_70.815.hdf5\n",
      "Tstar_38.952_logLstar_2.693_logMdisk_-2.943_logRdisk_2.9_h0_0.016_logRin_2.290_gamma_1.774_beta_1.678_logMenv_-5.013_logRenv_3.9_fcav_0.363_ksi_0.913_logamax_4.104_p_4.045_incl_6.892.hdf5\n",
      "Tstar_35.875_logLstar_0.922_logMdisk_-4.362_logRdisk_0.686_h0_0.398_logRin_0.1_gamma_0.973_beta_1.767_logMenv_-7.322_logRenv_3.908_fcav_0.087_ksi_0.554_logamax_3.870_p_3.256_incl_25.608.hdf5\n",
      "Tstar_34.420_logLstar_0.222_logMdisk_-5.7_logRdisk_1.862_h0_0.349_logRin_-0.140_gamma_0.724_beta_1.460_logMenv_-3.407_logRenv_3.349_fcav_0.934_ksi_0.530_logamax_1.268_p_2.738_incl_64.679.hdf5\n",
      "2200\n",
      "Tstar_45.150_logLstar_0.159_logMdisk_-5.148_logRdisk_2.650_h0_0.482_logRin_1.783_gamma_1.945_beta_0.565_logMenv_-6.106_logRenv_2.937_fcav_0.164_ksi_1.413_logamax_1.989_p_4.483_incl_36.451.hdf5\n",
      "Tstar_33.379_logLstar_0.178_logMdisk_-6.903_logRdisk_2.909_h0_0.210_logRin_-0.742_gamma_0.773_beta_1.261_logMenv_-6.247_logRenv_3.504_fcav_0.267_ksi_0.877_logamax_3.553_p_2.851_incl_14.454.hdf5\n"
     ]
    },
    {
     "name": "stdout",
     "output_type": "stream",
     "text": [
      "Tstar_35.412_logLstar_-0.979_logMdisk_-6.484_logRdisk_1.202_h0_0.182_logRin_1.003_gamma_1.335_beta_1.859_logMenv_-6.576_logRenv_2.843_fcav_0.733_ksi_1.133_logamax_3.908_p_4.079_incl_24.853.hdf5\n",
      "Tstar_47.485_logLstar_1.793_logMdisk_-5.830_logRdisk_2.193_h0_0.241_logRin_0.618_gamma_1.556_beta_0.673_logMenv_-2.129_logRenv_2.629_fcav_0.722_ksi_1.498_logamax_1.596_p_3.878_incl_73.447.hdf5\n",
      "Tstar_43.3_logLstar_2.007_logMdisk_-2.151_logRdisk_1.803_h0_0.426_logRin_0.898_gamma_0.133_beta_1.011_logMenv_-5.702_logRenv_2.670_fcav_0.510_ksi_1.442_logamax_4.000_p_3.318_incl_53.713.hdf5\n",
      "Tstar_40.896_logLstar_2.107_logMdisk_-7.836_logRdisk_0.400_h0_0.390_logRin_-0.892_gamma_1.978_beta_0.781_logMenv_-3.220_logRenv_3.447_fcav_0.702_ksi_0.536_logamax_4.726_p_4.292_incl_.143.hdf5\n",
      "Tstar_42.495_logLstar_1.553_logMdisk_-7.809_logRdisk_2.291_h0_0.252_logRin_0.655_gamma_1.958_beta_1.289_logMenv_-6.511_logRenv_2.891_fcav_0.164_ksi_1.249_logamax_4.291_p_4.421_incl_71.150.hdf5\n",
      "Tstar_37.013_logLstar_-0.342_logMdisk_-3.249_logRdisk_1.172_h0_0.362_logRin_0.139_gamma_0.647_beta_0.961_logMenv_-7.544_logRenv_3.804_fcav_0.430_ksi_0.937_logamax_1.141_p_4.351_incl_75.600.hdf5\n",
      "Tstar_49.005_logLstar_1.6_logMdisk_-7.349_logRdisk_2.707_h0_0.477_logRin_-0.750_gamma_1.093_beta_0.907_logMenv_-4.167_logRenv_3.736_fcav_0.148_ksi_0.817_logamax_0.165_p_4.052_incl_2.491.hdf5\n",
      "Tstar_37.460_logLstar_2.147_logMdisk_-3.719_logRdisk_0.975_h0_0.060_logRin_-0.398_gamma_0.334_beta_1.549_logMenv_-3.847_logRenv_3.192_fcav_0.410_ksi_0.906_logamax_1.276_p_2.8_incl_68.745.hdf5\n",
      "2400\n",
      "Tstar_31.818_logLstar_0.496_logMdisk_-6.559_logRdisk_2.934_h0_0.331_logRin_1.126_gamma_1.206_beta_1.656_logMenv_-3.165_logRenv_3.556_fcav_0.801_ksi_1.169_logamax_0.864_p_3.831_incl_38.914.hdf5\n",
      "Tstar_37.332_logLstar_1.545_logMdisk_-7.997_logRdisk_1.352_h0_0.238_logRin_-0.676_gamma_1.609_beta_1.8_logMenv_-2.208_logRenv_2.975_fcav_0.098_ksi_1.267_logamax_0.345_p_2.686_incl_64.052.hdf5\n",
      "Tstar_33.350_logLstar_2.656_logMdisk_-3.324_logRdisk_1.422_h0_0.198_logRin_-0.441_gamma_0.056_beta_1.685_logMenv_-7.910_logRenv_3.720_fcav_0.251_ksi_0.805_logamax_0.425_p_3.292_incl_27.317.hdf5\n",
      "Tstar_48.517_logLstar_-0.114_logMdisk_-7.302_logRdisk_2.244_h0_0.442_logRin_-0.041_gamma_1.905_beta_0.538_logMenv_-3.253_logRenv_3.318_fcav_0.593_ksi_1.046_logamax_2.794_p_3.304_incl_69.987.hdf5\n",
      "Tstar_30.621_logLstar_-0.863_logMdisk_-5.800_logRdisk_2.103_h0_0.220_logRin_0.725_gamma_1.263_beta_0.608_logMenv_-6.447_logRenv_2.703_fcav_0.552_ksi_1.250_logamax_1.422_p_4.446_incl_0.984.hdf5\n",
      "Tstar_43.112_logLstar_2.984_logMdisk_-5.397_logRdisk_0.564_h0_0.427_logRin_-0.577_gamma_1.232_beta_1.008_logMenv_-7.3_logRenv_3.8_fcav_0.873_ksi_0.732_logamax_4.627_p_4.184_incl_73.052.hdf5\n",
      "Tstar_37.727_logLstar_2.798_logMdisk_-5.297_logRdisk_2.350_h0_0.086_logRin_1.654_gamma_1.315_beta_1.262_logMenv_-7.471_logRenv_3.914_fcav_0.833_ksi_1.146_logamax_2.963_p_2.681_incl_64.616.hdf5\n",
      "2600\n",
      "Tstar_31.913_logLstar_-0.132_logMdisk_-4.082_logRdisk_2.497_h0_0.073_logRin_-0.502_gamma_0.745_beta_1.964_logMenv_-2.109_logRenv_2.904_fcav_0.344_ksi_1.213_logamax_2.4_p_4.334_incl_87.157.hdf5\n",
      "Tstar_36.234_logLstar_-0.583_logMdisk_-2.711_logRdisk_2.118_h0_0.448_logRin_-0.162_gamma_0.014_beta_1.455_logMenv_-7.290_logRenv_3.832_fcav_0.592_ksi_0.997_logamax_1.204_p_4.377_incl_39.189.hdf5\n",
      "2800\n",
      "Tstar_44.846_logLstar_-0.151_logMdisk_-5.286_logRdisk_1.8_h0_0.187_logRin_-0.498_gamma_1.167_beta_0.507_logMenv_-3.781_logRenv_2.945_fcav_0.165_ksi_0.7_logamax_0.283_p_3.916_incl_35.271.hdf5\n",
      "Tstar_46.940_logLstar_-0.529_logMdisk_-2.811_logRdisk_2.331_h0_0.482_logRin_1.599_gamma_0.003_beta_1.914_logMenv_-6.104_logRenv_3.975_fcav_0.187_ksi_0.777_logamax_1.126_p_3.176_incl_13.451.hdf5\n",
      "Tstar_41.739_logLstar_2.365_logMdisk_-5.555_logRdisk_2.534_h0_0.321_logRin_0.828_gamma_0.997_beta_1.377_logMenv_-6.078_logRenv_2.877_fcav_0.671_ksi_0.741_logamax_3.568_p_3.5_incl_2.300.hdf5\n",
      "Tstar_45.5_logLstar_0.696_logMdisk_-5.597_logRdisk_1.192_h0_0.406_logRin_-0.631_gamma_0.340_beta_0.923_logMenv_-7.290_logRenv_3.682_fcav_0.740_ksi_1.392_logamax_2.895_p_3.750_incl_65.701.hdf5\n",
      "Tstar_33.0_logLstar_2.965_logMdisk_-4.186_logRdisk_2.318_h0_0.219_logRin_0.775_gamma_1.002_beta_1.081_logMenv_-2.995_logRenv_3.951_fcav_0.944_ksi_0.972_logamax_4.392_p_3.849_incl_24.277.hdf5\n",
      "Tstar_49.051_logLstar_-0.454_logMdisk_-5.619_logRdisk_2.749_h0_0.452_logRin_-0.058_gamma_0.500_beta_1.960_logMenv_-7.603_logRenv_3.638_fcav_0.158_ksi_1.394_logamax_0.307_p_3.197_incl_74.911.hdf5\n",
      "Tstar_40.336_logLstar_0.271_logMdisk_-3.015_logRdisk_1.997_h0_0.370_logRin_1.251_gamma_1.541_beta_0.879_logMenv_-2.387_logRenv_3.333_fcav_0.491_ksi_1.208_logamax_4.914_p_2.984_incl_65.128.hdf5\n",
      "Tstar_34.752_logLstar_1.964_logMdisk_-6.585_logRdisk_0.558_h0_0.045_logRin_-0.516_gamma_1.573_beta_1.836_logMenv_-7.230_logRenv_3.826_fcav_0.158_ksi_1.373_logamax_4.518_p_2.944_incl_9.711.hdf5\n",
      "3000\n",
      "Tstar_44.408_logLstar_0.177_logMdisk_-4.485_logRdisk_1.312_h0_0.054_logRin_-0.304_gamma_1.136_beta_1.2_logMenv_-7.613_logRenv_3.112_fcav_0.424_ksi_0.531_logamax_3.891_p_2.946_incl_23.780.hdf5\n",
      "Tstar_35.720_logLstar_1.1_logMdisk_-2.852_logRdisk_2.270_h0_0.086_logRin_0.803_gamma_0.000_beta_1.733_logMenv_-6.930_logRenv_3.290_fcav_0.373_ksi_1.422_logamax_1.613_p_3.078_incl_87.209.hdf5\n",
      "Tstar_38.142_logLstar_2.714_logMdisk_-6.110_logRdisk_2.521_h0_0.382_logRin_-0.072_gamma_0.349_beta_1.946_logMenv_-2.467_logRenv_2.777_fcav_0.345_ksi_1.149_logamax_4.133_p_3.115_incl_76.642.hdf5\n",
      "Tstar_47.473_logLstar_0.787_logMdisk_-6.869_logRdisk_2.568_h0_0.028_logRin_0.707_gamma_1.489_beta_0.862_logMenv_-6.574_logRenv_3.099_fcav_0.732_ksi_0.563_logamax_0.209_p_3.994_incl_72.739.hdf5\n",
      "Tstar_38.561_logLstar_-0.274_logMdisk_-4.756_logRdisk_2.9_h0_0.183_logRin_0.428_gamma_1.550_beta_1.470_logMenv_-7.233_logRenv_3.403_fcav_0.404_ksi_0.648_logamax_0.272_p_4.148_incl_12.262.hdf5\n",
      "3200\n",
      "Tstar_30.185_logLstar_0.891_logMdisk_-6.286_logRdisk_2.703_h0_0.045_logRin_2.377_gamma_0.131_beta_1.202_logMenv_-7.153_logRenv_3.333_fcav_0.340_ksi_1.312_logamax_4.415_p_2.600_incl_40.475.hdf5\n",
      "Tstar_46.4_logLstar_2.533_logMdisk_-7.373_logRdisk_0.962_h0_0.092_logRin_-0.959_gamma_0.5_beta_1.154_logMenv_-5.989_logRenv_3.220_fcav_0.611_ksi_1.141_logamax_0.427_p_4.101_incl_.1.hdf5\n",
      "Tstar_39.1_logLstar_2.941_logMdisk_-4.357_logRdisk_2.672_h0_0.095_logRin_1.216_gamma_0.984_beta_1.729_logMenv_-3.251_logRenv_3.185_fcav_0.598_ksi_0.747_logamax_3.343_p_3.931_incl_20.177.hdf5\n",
      "Tstar_31.122_logLstar_0.035_logMdisk_-5.352_logRdisk_0.606_h0_0.328_logRin_-0.817_gamma_1.544_beta_0.515_logMenv_-7.283_logRenv_3.970_fcav_0.465_ksi_1.126_logamax_2.126_p_3.893_incl_.441.hdf5\n",
      "Tstar_37.411_logLstar_0.454_logMdisk_-4.841_logRdisk_1.733_h0_0.479_logRin_1.343_gamma_0.329_beta_0.733_logMenv_-4.923_logRenv_3.842_fcav_0.721_ksi_0.846_logamax_4.6_p_3.340_incl_85.445.hdf5\n",
      "Tstar_47.045_logLstar_-0.437_logMdisk_-3.985_logRdisk_1.303_h0_0.172_logRin_0.533_gamma_0.781_beta_1.551_logMenv_-5.349_logRenv_3.239_fcav_0.793_ksi_1.098_logamax_2.057_p_3.175_incl_84.637.hdf5\n",
      "Tstar_49.502_logLstar_1.755_logMdisk_-2.530_logRdisk_1.914_h0_0.174_logRin_0.413_gamma_1.738_beta_1.633_logMenv_-5.250_logRenv_2.903_fcav_0.747_ksi_1.459_logamax_4.712_p_3.989_incl_80.698.hdf5\n",
      "Tstar_44.462_logLstar_1.554_logMdisk_-5.287_logRdisk_1.776_h0_0.419_logRin_1.712_gamma_1.702_beta_1.926_logMenv_-4.601_logRenv_2.634_fcav_0.743_ksi_0.581_logamax_4.582_p_3.393_incl_12.552.hdf5\n",
      "Tstar_45.021_logLstar_2.159_logMdisk_-3.275_logRdisk_1.870_h0_0.013_logRin_1.509_gamma_1.846_beta_0.796_logMenv_-7.578_logRenv_2.846_fcav_0.315_ksi_1.244_logamax_1.730_p_3.941_incl_11.109.hdf5\n",
      "Tstar_45.015_logLstar_0.348_logMdisk_-3.471_logRdisk_2.276_h0_0.299_logRin_0.569_gamma_0.890_beta_1.533_logMenv_-2.144_logRenv_2.535_fcav_0.679_ksi_0.951_logamax_3.193_p_4.168_incl_34.564.hdf5\n",
      "3400\n",
      "Tstar_34.034_logLstar_1.814_logMdisk_-5.179_logRdisk_1.782_h0_0.213_logRin_-0.322_gamma_0.016_beta_0.755_logMenv_-5.832_logRenv_2.861_fcav_0.869_ksi_1.478_logamax_2.515_p_4.012_incl_.777.hdf5\n",
      "Tstar_33.826_logLstar_1.429_logMdisk_-3.023_logRdisk_2.208_h0_0.271_logRin_0.700_gamma_1.777_beta_1.548_logMenv_-3.004_logRenv_3.282_fcav_0.6_ksi_1.423_logamax_1.026_p_3.2_incl_34.614.hdf5\n",
      "Tstar_44.062_logLstar_-0.015_logMdisk_-7.703_logRdisk_2.113_h0_0.349_logRin_-0.8_gamma_1.235_beta_1.964_logMenv_-6.194_logRenv_2.863_fcav_0.064_ksi_1.002_logamax_0.761_p_3.875_incl_47.561.hdf5\n",
      "Tstar_49.979_logLstar_0.931_logMdisk_-4.561_logRdisk_0.777_h0_0.470_logRin_-0.601_gamma_0.214_beta_1.431_logMenv_-7.553_logRenv_2.535_fcav_0.413_ksi_1.094_logamax_2.485_p_3.447_incl_29.7.hdf5\n",
      "Tstar_42.406_logLstar_2.038_logMdisk_-3.864_logRdisk_2.207_h0_0.146_logRin_-0.465_gamma_1.274_beta_1.2_logMenv_-2.704_logRenv_2.768_fcav_0.380_ksi_1.112_logamax_4.452_p_2.850_incl_87.654.hdf5\n",
      "Tstar_46.179_logLstar_2.948_logMdisk_-4.097_logRdisk_1.065_h0_0.092_logRin_0.816_gamma_0.364_beta_1.306_logMenv_-6.386_logRenv_3.300_fcav_0.964_ksi_0.655_logamax_4.964_p_3.830_incl_49.680.hdf5\n",
      "Tstar_42.335_logLstar_-0.648_logMdisk_-4.073_logRdisk_1.206_h0_0.451_logRin_1.185_gamma_0.482_beta_0.822_logMenv_-2.449_logRenv_3.397_fcav_0.070_ksi_0.743_logamax_4.002_p_4.486_incl_21.868.hdf5\n"
     ]
    },
    {
     "name": "stdout",
     "output_type": "stream",
     "text": [
      "Tstar_32.160_logLstar_2.690_logMdisk_-7.040_logRdisk_2.269_h0_0.440_logRin_1.615_gamma_1.785_beta_0.994_logMenv_-3.293_logRenv_3.980_fcav_0.699_ksi_0.675_logamax_4.543_p_4.473_incl_20.060.hdf5\n",
      "Tstar_46.526_logLstar_-0.830_logMdisk_-5.677_logRdisk_0.974_h0_0.389_logRin_0.396_gamma_0.758_beta_1.706_logMenv_-3.958_logRenv_2.586_fcav_0.452_ksi_1.052_logamax_1.625_p_3.053_incl_42.4.hdf5\n",
      "Tstar_39.132_logLstar_1.993_logMdisk_-4.559_logRdisk_2.754_h0_0.070_logRin_1.028_gamma_0.291_beta_1.657_logMenv_-3.626_logRenv_3.560_fcav_0.299_ksi_1.279_logamax_1.947_p_2.762_incl_15.907.hdf5\n",
      "3600\n",
      "Tstar_40.376_logLstar_-0.549_logMdisk_-7.920_logRdisk_1.723_h0_0.138_logRin_-0.522_gamma_0.467_beta_1.422_logMenv_-5.109_logRenv_3.498_fcav_0.235_ksi_1.298_logamax_0.6_p_3.578_incl_25.7.hdf5\n",
      "Tstar_39.658_logLstar_0.603_logMdisk_-2.010_logRdisk_1.461_h0_0.306_logRin_1.344_gamma_1.939_beta_0.923_logMenv_-7.723_logRenv_3.823_fcav_0.862_ksi_1.335_logamax_1.528_p_3.419_incl_50.248.hdf5\n",
      "Tstar_35.903_logLstar_-0.828_logMdisk_-6.712_logRdisk_2.801_h0_0.254_logRin_-0.363_gamma_0.155_beta_1.839_logMenv_-7.956_logRenv_3.244_fcav_0.338_ksi_1.368_logamax_1.428_p_3.567_incl_87.991.hdf5\n",
      "Tstar_40.146_logLstar_1.032_logMdisk_-5.181_logRdisk_2.064_h0_0.354_logRin_0.928_gamma_0.986_beta_1.825_logMenv_-3.729_logRenv_2.951_fcav_0.752_ksi_0.912_logamax_0.097_p_3.349_incl_89.397.hdf5\n",
      "Tstar_45.244_logLstar_-0.437_logMdisk_-5.949_logRdisk_1.325_h0_0.158_logRin_-0.171_gamma_1.618_beta_1.925_logMenv_-7.005_logRenv_2.799_fcav_0.241_ksi_0.595_logamax_0.232_p_3.808_incl_74.468.hdf5\n",
      "Tstar_30.746_logLstar_-0.741_logMdisk_-7.221_logRdisk_1.923_h0_0.484_logRin_-0.675_gamma_0.267_beta_0.811_logMenv_-4.200_logRenv_2.509_fcav_0.837_ksi_0.598_logamax_1.492_p_4.227_incl_41.081.hdf5\n",
      "Tstar_30.591_logLstar_0.256_logMdisk_-5.778_logRdisk_1.279_h0_0.402_logRin_-0.919_gamma_0.545_beta_1.675_logMenv_-5.443_logRenv_3.234_fcav_0.839_ksi_0.879_logamax_2.543_p_4.353_incl_18.190.hdf5\n",
      "Tstar_37.577_logLstar_1.673_logMdisk_-3.638_logRdisk_0.004_h0_0.449_logRin_-0.706_gamma_1.218_beta_0.775_logMenv_-5.497_logRenv_2.879_fcav_0.163_ksi_0.847_logamax_4.971_p_2.828_incl_31.215.hdf5\n",
      "Tstar_30.790_logLstar_0.065_logMdisk_-5.776_logRdisk_1.795_h0_0.159_logRin_0.914_gamma_1.769_beta_0.528_logMenv_-5.856_logRenv_2.676_fcav_0.728_ksi_1.235_logamax_0.280_p_3.4_incl_29.739.hdf5\n",
      "3800\n",
      "Tstar_31.176_logLstar_0.272_logMdisk_-4.222_logRdisk_2.140_h0_0.482_logRin_-0.076_gamma_0.586_beta_1.997_logMenv_-6.302_logRenv_3.073_fcav_0.4_ksi_0.675_logamax_4.601_p_4.222_incl_38.521.hdf5\n",
      "Tstar_48.694_logLstar_1.811_logMdisk_-3.275_logRdisk_2.773_h0_0.328_logRin_2.473_gamma_0.645_beta_1.335_logMenv_-2.902_logRenv_2.976_fcav_0.639_ksi_1.244_logamax_4.921_p_4.461_incl_25.249.hdf5\n",
      "Tstar_46.471_logLstar_-0.065_logMdisk_-6.184_logRdisk_2.858_h0_0.385_logRin_0.478_gamma_0.432_beta_0.549_logMenv_-7.018_logRenv_3.236_fcav_0.073_ksi_1.409_logamax_2.044_p_4.411_incl_24.109.hdf5\n"
     ]
    }
   ],
   "source": [
    "directory = \"/net/jax/export/home/jax/Documents/Projects/SEDModeling/Grid\"\n",
    "directory=\"../grid/models\"\n",
    "indices=[]\n",
    "incl=[]\n",
    "for j in range(len(os.listdir(directory))):\n",
    "    if j%200==0:\n",
    "        print(str(j))\n",
    "    i=0 \n",
    "    if os.listdir(directory)[j][-5:]==\".hdf5\":\n",
    "        Tval=float(os.listdir(directory)[j].split(\"_\")[(2*i)+1])\n",
    "        if Tval<100:\n",
    "            print (os.listdir(directory)[j])\n",
    "            indices.append(j)\n",
    "            incl.append(float(os.listdir(directory)[j].split(\"_\")[(2*14)+1][:-5]))"
   ]
  },
  {
   "cell_type": "code",
   "execution_count": null,
   "metadata": {},
   "outputs": [],
   "source": [
    "#len(indices)"
   ]
  },
  {
   "cell_type": "code",
   "execution_count": null,
   "metadata": {},
   "outputs": [],
   "source": [
    "#md0=np.load(\"./parameters.npy\")\n",
    "#md1=np.load(\"./parameters1.npy\")\n",
    "#md=[]\n",
    "#for i in md0:\n",
    "#    md.append(i)\n",
    "#for j in md1:\n",
    "#    md.append(j)\n",
    "#md=np.array(md)"
   ]
  },
  {
   "cell_type": "code",
   "execution_count": null,
   "metadata": {},
   "outputs": [],
   "source": [
    "#mdind=[]\n",
    "#for i in range(len(md)):\n",
    "#    if round(md[i][\"incl\"],3) in incl:\n",
    "#        print(md[i][\"filename\"])\n",
    "#        mdind.append(i)"
   ]
  },
  {
   "cell_type": "code",
   "execution_count": null,
   "metadata": {},
   "outputs": [],
   "source": [
    "#for i in range(len(mdind)):\n",
    "#    print(md[mdind[i]][\"filename\"].split(\"_\")[(2*0)+1])\n",
    "#    print(md[mdind[i]][\"Tstar\"])"
   ]
  },
  {
   "cell_type": "code",
   "execution_count": null,
   "metadata": {},
   "outputs": [],
   "source": [
    "#with open ('../grid_metadata/corefull.txt', 'rb') as fp:\n",
    "#    corefull = pickle.load(fp)"
   ]
  },
  {
   "cell_type": "code",
   "execution_count": null,
   "metadata": {},
   "outputs": [],
   "source": [
    "#index=[]\n",
    "#fullref=[]\n",
    "#for i in range(len(corefull)):\n",
    "#    for j in range(len(md)):\n",
    "#        if corefull[i]==md[j][\"filename\"]:\n",
    "#            index.append(i)\n",
    "#            fullref.append(j)"
   ]
  },
  {
   "cell_type": "code",
   "execution_count": null,
   "metadata": {},
   "outputs": [],
   "source": [
    "#with open(\"../grid_metadata/fullref.txt\", 'wb') as fp:\n",
    "#    pickle.dump(fullref, fp)"
   ]
  },
  {
   "cell_type": "code",
   "execution_count": null,
   "metadata": {},
   "outputs": [],
   "source": [
    "#param_names = [\"Tstar\",\"logL_star\",\"logM_disk\",\"logR_disk\",\"h_0\",\"logR_in\",\\\n",
    "#          \"gamma\",\"beta\",\"logM_env\",\"logR_env\",\"f_cav\",\"ksi\",\"loga_max\",\"p\",\"incl\"]\n",
    "#params=[]\n",
    "#for i in range(len(param_names)):\n",
    "#    params.append([])\n",
    "#for i in range(len(corefull)):\n",
    "#    for m in range(len(param_names)):\n",
    "#        params[m].append(md[fullref[i]][param_names[m]])"
   ]
  },
  {
   "cell_type": "code",
   "execution_count": null,
   "metadata": {},
   "outputs": [],
   "source": [
    "#for i in range(len(params)):\n",
    "#    filename=\"param\"+str(i)+\".txt\"\n",
    "#    with open(filename, 'wb') as fp:\n",
    "#        pickle.dump(params[i], fp)"
   ]
  },
  {
   "cell_type": "code",
   "execution_count": null,
   "metadata": {},
   "outputs": [],
   "source": [
    "#dictionary=[]\n",
    "#for i in range(len(corefull)):\n",
    "#    dictionary.append(md[fullref[i]])"
   ]
  },
  {
   "cell_type": "code",
   "execution_count": null,
   "metadata": {},
   "outputs": [],
   "source": [
    "#dictionary=np.array(dictionary)"
   ]
  },
  {
   "cell_type": "code",
   "execution_count": null,
   "metadata": {},
   "outputs": [],
   "source": [
    "#np.save(\"./dictionary.npy\",dictionary)"
   ]
  },
  {
   "cell_type": "code",
   "execution_count": 2,
   "metadata": {},
   "outputs": [],
   "source": [
    "dictionary=np.load(\"../grid_metadata/dictionary.npy\") # rearranged parameters and parameters1 into \n",
    "                                        # dictionary to agree with order of grid/models and corefull"
   ]
  },
  {
   "cell_type": "code",
   "execution_count": 5,
   "metadata": {},
   "outputs": [
    {
     "data": {
      "text/plain": [
       "4461.670869311597"
      ]
     },
     "execution_count": 5,
     "metadata": {},
     "output_type": "execute_result"
    }
   ],
   "source": [
    "dictionary[3][\"Tstar\"]"
   ]
  },
  {
   "cell_type": "code",
   "execution_count": 9,
   "metadata": {},
   "outputs": [
    {
     "name": "stdout",
     "output_type": "stream",
     "text": [
      "3664.314044462357\n",
      "4663.478547246545\n",
      "3881.3337814736897\n",
      "3088.1326974759863\n",
      "3884.8368032583085\n",
      "4188.3649986244345\n",
      "3661.2156169965374\n",
      "3688.313322492004\n",
      "4661.8571325442645\n",
      "4888.120243363778\n",
      "4566.588722183089\n",
      "4588.372210546917\n",
      "4882.301859889053\n",
      "4566.699750985389\n",
      "3665.4404392968327\n",
      "4066.226495699514\n",
      "4188.232960046562\n",
      "4663.728237739197\n",
      "4881.886108250536\n",
      "4966.72342808635\n",
      "3988.880433426316\n",
      "4668.221736952242\n",
      "3566.5688658951576\n",
      "4788.389470129588\n",
      "3665.2867611295956\n",
      "3669.070002390653\n",
      "3662.1219834232907\n",
      "4166.51042187182\n",
      "3663.9667126469017\n",
      "4885.336329115108\n",
      "3668.278868199217\n",
      "3688.6973291265813\n",
      "3688.972372151234\n",
      "3880.836444685742\n",
      "3884.498409461701\n",
      "3988.1565322721362\n",
      "4884.229254773161\n",
      "4388.423502915177\n",
      "4488.469905178521\n",
      "3669.472151936176\n",
      "4667.747474351609\n",
      "3388.7370701370905\n",
      "4288.175944582861\n",
      "3888.9802340612064\n",
      "3883.37854727628\n",
      "4866.350346348722\n",
      "3881.3594666686117\n",
      "4883.412461057706\n",
      "3667.5663132614795\n",
      "4669.8496841290125\n",
      "3988.90655641631\n",
      "4880.692593659722\n",
      "4880.684298046291\n",
      "3882.442743478043\n",
      "4881.635821007379\n",
      "4889.298775486695\n",
      "3266.521669327379\n",
      "3667.033797396056\n",
      "3066.3210206686263\n",
      "4887.0056340211195\n",
      "4366.342336611168\n",
      "3880.750395994703\n",
      "4883.106585467942\n",
      "4288.799343983849\n",
      "4668.6839840378125\n",
      "3668.1781107010875\n",
      "3663.25851258556\n",
      "3885.4399845520684\n",
      "4466.27341497358\n",
      "4660.921534985247\n",
      "4880.334315609031\n",
      "4889.356573190575\n",
      "3883.134990355735\n",
      "4668.746996788008\n",
      "3866.811610871037\n",
      "3988.2240349723234\n",
      "4966.205729199378\n",
      "4366.159424766286\n",
      "3666.4907353581166\n",
      "3663.3498945176307\n",
      "4668.049490774151\n",
      "3188.6432616898137\n",
      "3866.9519445429896\n",
      "3588.8750639429754\n",
      "3488.420077135324\n",
      "4665.149592007252\n",
      "3366.3788081334537\n",
      "3665.4116123343556\n",
      "4766.485099671432\n",
      "4388.365928530973\n",
      "4088.895705386763\n",
      "4288.495114516366\n",
      "3766.0125432983223\n",
      "4988.005273729154\n",
      "3667.460437955241\n",
      "3661.8180205600347\n",
      "3788.3315505607625\n",
      "3388.350157201954\n",
      "4888.516627137887\n",
      "3660.620714379027\n",
      "4663.111520812667\n",
      "3887.727104587582\n",
      "3661.912622786887\n",
      "3666.233592372904\n",
      "4488.846031610083\n",
      "4666.939642573965\n",
      "4166.739358512761\n",
      "4885.566138498653\n",
      "3366.0880285381454\n",
      "4988.050982937198\n",
      "4660.336041892025\n",
      "3884.7516446866534\n",
      "4664.408410733886\n",
      "3885.719999495419\n",
      "3866.1422347170173\n",
      "4766.473442355872\n",
      "3866.561212330689\n",
      "3880.1850253399452\n",
      "4886.487741651132\n",
      "3889.881056944191\n",
      "3166.1224737665234\n",
      "3766.4108487558947\n",
      "4667.045439106356\n",
      "4966.501919562735\n",
      "4664.462176174813\n",
      "4885.0214703309275\n",
      "4588.014790005303\n",
      "3466.03435376619\n",
      "3388.8259967318836\n",
      "4466.061724742042\n",
      "4669.979149010939\n",
      "4266.405680333598\n",
      "4666.179430552862\n",
      "4662.335157789526\n",
      "3662.159803023428\n",
      "4666.526198712978\n",
      "3889.131757403117\n",
      "4066.3756789183167\n",
      "3669.6579827257146\n",
      "3566.9031745105563\n",
      "4088.145970442373\n",
      "4885.243960196665\n",
      "3066.745716841117\n",
      "3880.590739542779\n",
      "3788.576622575996\n",
      "3088.789655419735\n",
      "3188.175886107715\n",
      "4888.694387029349\n",
      "4688.470857673911\n"
     ]
    }
   ],
   "source": [
    "for i in range(len(indices)):\n",
    "    print(dictionary[indices[i]][\"Tstar\"])"
   ]
  },
  {
   "cell_type": "code",
   "execution_count": 3,
   "metadata": {},
   "outputs": [],
   "source": [
    "T_star = []\n",
    "logL_star = []\n",
    "logM_disk = []\n",
    "logR_disk = []\n",
    "h_0 = []\n",
    "logR_in = []\n",
    "gamma = []\n",
    "beta = []\n",
    "logM_env = []\n",
    "logR_env = []\n",
    "f_cav = []\n",
    "ksi = []\n",
    "loga_max = []\n",
    "p = []\n",
    "incl = []\n",
    "\n",
    "params = [T_star,logL_star,logM_disk,logR_disk,h_0,logR_in,\\\n",
    "          gamma,beta,logM_env,logR_env,f_cav,ksi,loga_max,p,incl]\n",
    "\n",
    "for i in range(len(params)):\n",
    "    filename=\"../grid_metadata/param\"+str(i)+\".txt\"\n",
    "    with open (filename, 'rb') as fp:\n",
    "        params[i] = pickle.load(fp) "
   ]
  },
  {
   "cell_type": "code",
   "execution_count": 5,
   "metadata": {
    "scrolled": false
   },
   "outputs": [
    {
     "data": {
      "image/png": "[encoded data removed]",
      "text/plain": [
       "<Figure size 432x288 with 1 Axes>"
      ]
     },
     "metadata": {
      "needs_background": "light"
     },
     "output_type": "display_data"
    },
    {
     "data": {
      "image/png": "[encoded data removed]",
      "text/plain": [
       "<Figure size 432x288 with 1 Axes>"
      ]
     },
     "metadata": {
      "needs_background": "light"
     },
     "output_type": "display_data"
    },
    {
     "data": {
      "image/png": "[encoded data removed]",
      "text/plain": [
       "<Figure size 432x288 with 1 Axes>"
      ]
     },
     "metadata": {
      "needs_background": "light"
     },
     "output_type": "display_data"
    },
    {
     "data": {
      "image/png": "[encoded data removed]",
      "text/plain": [
       "<Figure size 432x288 with 1 Axes>"
      ]
     },
     "metadata": {
      "needs_background": "light"
     },
     "output_type": "display_data"
    },
    {
     "data": {
      "image/png": "[encoded data removed]",
      "text/plain": [
       "<Figure size 432x288 with 1 Axes>"
      ]
     },
     "metadata": {
      "needs_background": "light"
     },
     "output_type": "display_data"
    },
    {
     "data": {
      "image/png": "[encoded data removed]",
      "text/plain": [
       "<Figure size 432x288 with 1 Axes>"
      ]
     },
     "metadata": {
      "needs_background": "light"
     },
     "output_type": "display_data"
    },
    {
     "data": {
      "image/png": "[encoded data removed]",
      "text/plain": [
       "<Figure size 432x288 with 1 Axes>"
      ]
     },
     "metadata": {
      "needs_background": "light"
     },
     "output_type": "display_data"
    },
    {
     "data": {
      "image/png": "[encoded data removed]",
      "text/plain": [
       "<Figure size 432x288 with 1 Axes>"
      ]
     },
     "metadata": {
      "needs_background": "light"
     },
     "output_type": "display_data"
    },
    {
     "data": {
      "image/png": "[encoded data removed]",
      "text/plain": [
       "<Figure size 432x288 with 1 Axes>"
      ]
     },
     "metadata": {
      "needs_background": "light"
     },
     "output_type": "display_data"
    },
    {
     "data": {
      "image/png": "[encoded data removed]",
      "text/plain": [
       "<Figure size 432x288 with 1 Axes>"
      ]
     },
     "metadata": {
      "needs_background": "light"
     },
     "output_type": "display_data"
    },
    {
     "data": {
      "image/png": "[encoded data removed]",
      "text/plain": [
       "<Figure size 432x288 with 1 Axes>"
      ]
     },
     "metadata": {
      "needs_background": "light"
     },
     "output_type": "display_data"
    },
    {
     "data": {
      "image/png": "[encoded data removed]",
      "text/plain": [
       "<Figure size 432x288 with 1 Axes>"
      ]
     },
     "metadata": {
      "needs_background": "light"
     },
     "output_type": "display_data"
    },
    {
     "data": {
      "image/png": "[encoded data removed]",
      "text/plain": [
       "<Figure size 432x288 with 1 Axes>"
      ]
     },
     "metadata": {
      "needs_background": "light"
     },
     "output_type": "display_data"
    },
    {
     "data": {
      "image/png": "[encoded data removed]",
      "text/plain": [
       "<Figure size 432x288 with 1 Axes>"
      ]
     },
     "metadata": {
      "needs_background": "light"
     },
     "output_type": "display_data"
    },
    {
     "data": {
      "image/png": "[encoded data removed]",
      "text/plain": [
       "<Figure size 432x288 with 1 Axes>"
      ]
     },
     "metadata": {
      "needs_background": "light"
     },
     "output_type": "display_data"
    }
   ],
   "source": [
    "# param distribution histograms\n",
    "\n",
    "param_names = [\"T_star\",\"logL_star\",\"logM_disk\",\"logR_disk\",\"h_0\",\"logR_in\",\\\n",
    "          \"gamma\",\"beta\",\"logM_env\",\"logR_env\",\"f_cav\",\"ksi\",\"loga_max\",\"p\",\"incl\"]\n",
    "\n",
    "for i in range(len(params)):\n",
    "    plt.hist(params[i],bins=40)\n",
    "    plt.title(param_names[i],pad=10)\n",
    "    plt.show()"
   ]
  },
  {
   "cell_type": "code",
   "execution_count": null,
   "metadata": {},
   "outputs": [],
   "source": [
    "pdf = PdfPages(\"../visualization/paramdist1.pdf\")\n",
    "fig, ax = plt.subplots(nrows=3, ncols=2, figsize=(10,12))\n",
    "\n",
    "for coeffindex in range(6):\n",
    "    ax[coeffindex//2][coeffindex%2].hist(params[coeffindex],bins=30)\n",
    "    ax[coeffindex//2][coeffindex%2].set_title(param_names[coeffindex],fontsize=8)\n",
    "   \n",
    "plt.subplots_adjust(hspace=0.7)\n",
    "plt.show()\n",
    "\n",
    "# Now save the figure.\n",
    "pdf.savefig(fig)\n",
    "plt.clf()\n",
    "\n",
    "# Close the pdf.\n",
    "pdf.close()\n",
    "\n",
    "pdf = PdfPages(\"../visualization/paramdist2.pdf\")\n",
    "fig, ax = plt.subplots(nrows=3, ncols=2, figsize=(10,12))\n",
    "\n",
    "for coeffindex in range(6,12):\n",
    "    ax[(coeffindex-12)//2][(coeffindex-12)%2].hist(params[coeffindex],bins=30)\n",
    "    ax[(coeffindex-12)//2][(coeffindex-12)%2].set_title(param_names[coeffindex],fontsize=8)\n",
    "    \n",
    "plt.subplots_adjust(hspace=0.7)\n",
    "plt.show()\n",
    "\n",
    "# Now save the figure.\n",
    "pdf.savefig(fig)\n",
    "plt.clf()\n",
    "\n",
    "# Close the pdf.\n",
    "pdf.close()\n",
    "\n",
    "pdf = PdfPages(\"../visualization/paramdist3.pdf\")\n",
    "fig, ax = plt.subplots(nrows=3,ncols=1, figsize=(5,12))\n",
    "\n",
    "for coeffindex in range(12,15):\n",
    "    ax[(coeffindex-12)].hist(params[coeffindex],bins=30)\n",
    "    ax[(coeffindex-12)].set_title(param_names[coeffindex],fontsize=8)\n",
    "   \n",
    "plt.subplots_adjust(hspace=0.7)\n",
    "plt.show()\n",
    "\n",
    "# Now save the figure.\n",
    "pdf.savefig(fig)\n",
    "plt.clf()\n",
    "\n",
    "# Close the pdf.\n",
    "pdf.close()"
   ]
  },
  {
   "cell_type": "code",
   "execution_count": null,
   "metadata": {},
   "outputs": [],
   "source": []
  }
 ],
 "metadata": {
  "kernelspec": {
   "display_name": "Python 3",
   "language": "python",
   "name": "python3"
  },
  "language_info": {
   "codemirror_mode": {
    "name": "ipython",
    "version": 3
   },
   "file_extension": ".py",
   "mimetype": "text/x-python",
   "name": "python",
   "nbconvert_exporter": "python",
   "pygments_lexer": "ipython3",
   "version": "3.7.3"
  }
 },
 "nbformat": 4,
 "nbformat_minor": 2
}
