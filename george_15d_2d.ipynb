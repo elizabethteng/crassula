{
 "cells": [
  {
   "cell_type": "code",
   "execution_count": 1,
   "metadata": {},
   "outputs": [],
   "source": [
    "import numpy as np\n",
    "from matplotlib import pyplot as plt\n",
    "\n",
    "import os\n",
    "import pickle\n",
    "from time import time\n",
    "from sklearn.decomposition import PCA\n",
    "\n",
    "import george\n",
    "from george import kernels\n",
    "from scipy.optimize import minimize\n",
    "\n",
    "from matplotlib import cm\n",
    "from matplotlib.ticker import LinearLocator, FormatStrFormatter\n",
    "from mpl_toolkits.mplot3d import Axes3D\n",
    "from matplotlib.animation import FuncAnimation\n",
    "\n",
    "import lhsmdu\n",
    "import os\n",
    "import pdspy.modeling as modeling\n",
    "\n",
    "%matplotlib inline"
   ]
  },
  {
   "cell_type": "code",
   "execution_count": 2,
   "metadata": {},
   "outputs": [
    {
     "name": "stdout",
     "output_type": "stream",
     "text": [
      "done in 0.096s\n"
     ]
    }
   ],
   "source": [
    "param_names = [\"Tstar\",\"logL_star\",\"logM_disk\",\"logR_disk\",\"h_0\",\"logR_in\",\\\n",
    "          \"gamma\",\"beta\",\"logM_env\",\"logR_env\",\"f_cav\",\"ksi\",\"loga_max\",\"p\",\"incl\"]\n",
    "\n",
    "bases=[4000.0, 1.0, -5.0, 1.5, 0.255, 0.75, 1.0, 1.25, -5.0, 3.25, 0.5, 1.0, 2.5, 3.5, 45.0]\n",
    "\n",
    "dictionary=np.load(\"../grid_metadata/dictionary.npy\")\n",
    "\n",
    "# get all model data\n",
    "with open ('../grid_metadata/cubefull.txt', 'rb') as fp:\n",
    "    cube = np.array(pickle.load(fp))[:,100:500]\n",
    "with open ('../grid_metadata/cubefull.txt', 'rb') as fp:\n",
    "    nancube = np.array(pickle.load(fp))[:,100:500]\n",
    "    \n",
    "# x values (wavelengths) - 500 values, in normal space\n",
    "with open ('../grid_metadata/xvals.txt', 'rb') as fp:\n",
    "    xvals = pickle.load(fp)[100:500]\n",
    "\n",
    "# fix -infs: powerlaw cutoff\n",
    "for i in range(len(cube)):\n",
    "    if -np.inf in cube[i]:\n",
    "        a = cube[i].tolist()\n",
    "        a.reverse()\n",
    "        ind = len(a)-a.index(-np.inf)\n",
    "        x1 = xvals[ind]\n",
    "        y1 = cube[i][ind]\n",
    "        for j in range(ind):\n",
    "            cube[i][j]=(100*(np.log10(xvals[j]/x1)))+y1\n",
    "            \n",
    "# nan cutoff for means            \n",
    "nancube[nancube<-20]=np.nan\n",
    "\n",
    "# subtracting from the seds each sample mean\n",
    "seds_msub = cube - np.nanmean(nancube,axis=1)[:,np.newaxis]\n",
    "\n",
    "t0 = time()\n",
    "pca = PCA(n_components=40).fit(seds_msub)\n",
    "print(\"done in %0.3fs\" % (time() - t0))\n",
    "\n",
    "eigenseds=np.array(pca.components_)\n",
    "\n",
    "fitdata=[]\n",
    "\n",
    "for i in range(len(cube)):\n",
    "    modeldata=[]\n",
    "    coeffs=pca.transform(seds_msub[i].reshape(1,-1))\n",
    "    for k in range(18):\n",
    "        modeldata.append(coeffs[0][k])\n",
    "    fitdata.append(modeldata)\n",
    "    \n",
    "def load_pcwpar(weight):\n",
    "    p=[]\n",
    "    w=[]\n",
    "    for i in range(len(cube)):\n",
    "        pars=[]\n",
    "        for j in range(len(param_names)):\n",
    "            pars.append(dictionary[i][param_names[j]])\n",
    "        p.append(pars)\n",
    "        w.append(fitdata[i][weight])\n",
    "    \n",
    "    return p,w"
   ]
  },
  {
   "cell_type": "code",
   "execution_count": 7,
   "metadata": {},
   "outputs": [],
   "source": [
    "X, w0 = load_pcwpar(0)\n",
    "yerr=[x*0.01 for x in w0]\n",
    "\n",
    "kernel = np.var(w0) * kernels.ExpSquaredKernel(10000**2,ndim=15,axes=0)*\\\n",
    "        kernels.ExpSquaredKernel(1**2,ndim=15,axes=1)*\\\n",
    "        kernels.ExpSquaredKernel(1**2,ndim=15,axes=2)*\\\n",
    "        kernels.ExpSquaredKernel(0.8**2,ndim=15,axes=3)*\\\n",
    "        kernels.ExpSquaredKernel(0.08**2,ndim=15,axes=4)*\\\n",
    "        kernels.ExpSquaredKernel(0.5**2,ndim=15,axes=5)*\\\n",
    "        kernels.PolynomialKernel(1.7,15,ndim=15,axes=6)*\\\n",
    "        kernels.ExpSquaredKernel(0.2**2,ndim=15,axes=7)*\\\n",
    "        kernels.ExpSquaredKernel(1**2,ndim=15,axes=8)*\\\n",
    "        kernels.ExpSquaredKernel(0.2**2,ndim=15,axes=9)*\\\n",
    "        kernels.ExpSquaredKernel(0.25**2,ndim=15,axes=10)*\\\n",
    "        kernels.ExpSquaredKernel(0.25**2,ndim=15,axes=11)*\\\n",
    "        kernels.ExpSquaredKernel(2**2,ndim=15,axes=12)*\\\n",
    "        kernels.ExpSquaredKernel(3**2,ndim=15,axes=13)*\\\n",
    "        kernels.ExpSquaredKernel(5**2,ndim=15,axes=14) \n",
    "\n",
    "#11, ksi - not smooth. may need to change kernel\n",
    "#6 is gamma - polynomial kernel for tail\n",
    "# change lengthscale for 7 to ~4 or 5\n",
    "\n",
    "gp = george.GP(kernel)\n",
    "gp.compute(X,yerr)"
   ]
  },
  {
   "cell_type": "code",
   "execution_count": 8,
   "metadata": {},
   "outputs": [],
   "source": [
    "x0pred,x1pred=np.meshgrid(np.linspace(3000, 5000, 100),np.linspace(0, 3, 100))\n",
    "xpred=[]\n",
    "for i in range(15):\n",
    "    xpred.append(bases[i]*np.ones(10000))\n",
    "xpred[0]=np.ndarray.flatten(x0pred)\n",
    "xpred[3]=np.ndarray.flatten(x1pred)\n",
    "x_pred=np.transpose(xpred)"
   ]
  },
  {
   "cell_type": "code",
   "execution_count": 9,
   "metadata": {},
   "outputs": [
    {
     "name": "stdout",
     "output_type": "stream",
     "text": [
      "Initial ln-likelihood: -75910.46\n",
      "[ 6.33043192 18.42068074  0.          0.         -0.4462871  -5.05145729\n",
      " -1.38629436  1.7        -3.21887582  0.         -3.21887582 -2.77258872\n",
      " -2.77258872  1.38629436  2.19722458  3.21887582]\n",
      "[   23.69386046 10000.             1.             1.\n",
      "     0.8            0.08           0.5            2.33964685\n",
      "     0.2            1.             0.2            0.25\n",
      "     0.25           2.             3.             5.        ]\n"
     ]
    }
   ],
   "source": [
    "np.set_printoptions(suppress=True)\n",
    "print(\"Initial ln-likelihood: {0:.2f}\".format(gp.log_likelihood(w0)))\n",
    "print(gp.get_parameter_vector())\n",
    "print(np.sqrt(np.exp(gp.get_parameter_vector())))\n",
    "\n",
    "pred, pred_var = gp.predict(w0, x_pred, return_var=True)"
   ]
  },
  {
   "cell_type": "code",
   "execution_count": 10,
   "metadata": {},
   "outputs": [
    {
     "data": {
      "image/png": "[encoded data removed]",
      "text/plain": [
       "<Figure size 648x504 with 2 Axes>"
      ]
     },
     "metadata": {
      "needs_background": "light"
     },
     "output_type": "display_data"
    }
   ],
   "source": [
    "plt.figure(figsize=(9,7))\n",
    "style = dict(cmap='viridis', vmin=np.min(pred), vmax=np.max(pred))\n",
    "plt.scatter(np.array(x_pred)[:,0], np.array(x_pred)[:,3], c=pred, s=30, **style)\n",
    "plt.colorbar()\n",
    "plt.show()"
   ]
  },
  {
   "cell_type": "code",
   "execution_count": null,
   "metadata": {},
   "outputs": [],
   "source": [
    "def neg_ln_like(p):\n",
    "    gp.set_parameter_vector(p)\n",
    "    return -gp.log_likelihood(w0)\n",
    "\n",
    "def grad_neg_ln_like(p):\n",
    "    gp.set_parameter_vector(p)\n",
    "    return -gp.grad_log_likelihood(w0)\n",
    "\n",
    "result = minimize(neg_ln_like, gp.get_parameter_vector(), jac=grad_neg_ln_like)\n",
    "print(result)\n",
    "\n",
    "gp.set_parameter_vector(result.x)\n",
    "print(\"\\nFinal ln-likelihood: {0:.2f}\".format(gp.log_likelihood(w0)))\n",
    "\n",
    "print(np.sqrt(np.exp(gp.get_parameter_vector())))\n",
    "\n",
    "pred, pred_var = gp.predict(w0, x_pred, return_var=True)\n",
    "\n",
    "plt.figure(figsize=(9,7))\n",
    "style = dict(cmap='viridis', vmin=np.min(pred), vmax=np.max(pred))\n",
    "plt.scatter(np.array(x_pred)[:,0], np.array(x_pred)[:,3], c=pred, s=30, **style)\n",
    "plt.colorbar()\n",
    "\n",
    "style = dict(cmap='magma', vmin=np.min(pred_var), vmax=np.max(pred_var))\n",
    "plt.scatter(np.array(x_pred)[sample,0], np.array(x_pred)[sample,1], c=pred_var[sample], s=20, **style)\n",
    "plt.colorbar()\n",
    "\n",
    "plt.show()"
   ]
  },
  {
   "cell_type": "code",
   "execution_count": null,
   "metadata": {},
   "outputs": [],
   "source": [
    "print(gp.get_parameter_vector())\n"
   ]
  },
  {
   "cell_type": "code",
   "execution_count": null,
   "metadata": {},
   "outputs": [],
   "source": [
    "pred"
   ]
  },
  {
   "cell_type": "code",
   "execution_count": null,
   "metadata": {
    "scrolled": false
   },
   "outputs": [],
   "source": [
    "fig = plt.figure(figsize=(16,12))\n",
    "ax = fig.add_subplot(111,projection='3d')\n",
    "\n",
    "# Plot the surface.\n",
    "surf = ax.plot_surface(x0pred,x1pred,pred.reshape(100,100),cmap=cm.viridis)\n",
    "ax.set_ylabel(\"y axis\")\n",
    "ax.set_xlabel(\"x axis\")\n",
    "ax.view_init(50, 45)\n",
    "plt.show()\n"
   ]
  },
  {
   "cell_type": "code",
   "execution_count": null,
   "metadata": {},
   "outputs": [],
   "source": []
  }
 ],
 "metadata": {
  "kernelspec": {
   "display_name": "Python 3",
   "language": "python",
   "name": "python3"
  },
  "language_info": {
   "codemirror_mode": {
    "name": "ipython",
    "version": 3
   },
   "file_extension": ".py",
   "mimetype": "text/x-python",
   "name": "python",
   "nbconvert_exporter": "python",
   "pygments_lexer": "ipython3",
   "version": "3.7.3"
  }
 },
 "nbformat": 4,
 "nbformat_minor": 1
}
