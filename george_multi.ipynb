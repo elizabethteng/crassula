{
 "cells": [
  {
   "cell_type": "code",
   "execution_count": 1,
   "metadata": {},
   "outputs": [],
   "source": [
    "import numpy as np\n",
    "from matplotlib import pyplot as plt\n",
    "\n",
    "import os\n",
    "import pickle\n",
    "from time import time\n",
    "from sklearn.decomposition import PCA\n",
    "\n",
    "import george\n",
    "from george import kernels\n",
    "from scipy.optimize import minimize\n",
    "\n",
    "%matplotlib inline"
   ]
  },
  {
   "cell_type": "code",
   "execution_count": 2,
   "metadata": {},
   "outputs": [
    {
     "name": "stdout",
     "output_type": "stream",
     "text": [
      "done in 0.087s\n"
     ]
    }
   ],
   "source": [
    "param_names = [\"Tstar\",\"logL_star\",\"logM_disk\",\"logR_disk\",\"h_0\",\"logR_in\",\\\n",
    "          \"gamma\",\"beta\",\"logM_env\",\"logR_env\",\"f_cav\",\"ksi\",\"loga_max\",\"p\",\"incl\"]\n",
    "    \n",
    "ranges = [[3000.,5000.], [-1,3.],[-8.,-2.], [0.,3.],[0.01,0.5],[-1.,2.5],[0.0,2.0],\\\n",
    "        [0.5,2.0],[-8.,-2.],[2.5,4.], [0.,1.], [0.5,1.5],[0.,5.],[2.5,4.5],[0.,90.]]\n",
    "steps=[]\n",
    "for i in range(len(ranges)):\n",
    "    steps.append(np.linspace(ranges[i][0],ranges[i][1],11))\n",
    "\n",
    "sl=[]\n",
    "for i in range(11):\n",
    "    x=[steps[0][i]]\n",
    "    for j in range(len(ranges)-1):\n",
    "        x.append(steps[j+1][5])\n",
    "    sl.append(x)\n",
    "    \n",
    "dictionary=np.load(\"../grid_metadata/dictionary.npy\")\n",
    "    \n",
    "# training set - read in filenames and logspace flux values\n",
    "with open ('../grid_metadata/corefull.txt', 'rb') as fp:\n",
    "    core= pickle.load(fp)[100:500]\n",
    "with open ('../grid_metadata/cubefull.txt', 'rb') as fp:\n",
    "    cube = np.array(pickle.load(fp))[:,100:500]\n",
    "with open ('../grid_metadata/cubefull.txt', 'rb') as fp:\n",
    "    nancube = np.array(pickle.load(fp))[:,100:500]    \n",
    "    \n",
    "# x values (wavelengths) - 500 values, in normal space\n",
    "with open ('../grid_metadata/xvals.txt', 'rb') as fp:\n",
    "    xvals = pickle.load(fp)[100:500]\n",
    "    \n",
    "# fix -infs: powerlaw cutoff\n",
    "for i in range(len(cube)):\n",
    "    if -np.inf in cube[i]:\n",
    "        a = cube[i].tolist()\n",
    "        a.reverse()\n",
    "        ind = len(a)-a.index(-np.inf)\n",
    "        x1 = xvals[ind]\n",
    "        y1 = cube[i][ind]\n",
    "        for j in range(ind):\n",
    "            cube[i][j]=(100*(np.log10(xvals[j]/x1)))+y1\n",
    "            \n",
    "# nan cutoff for means            \n",
    "nancube[nancube<-20]=np.nan\n",
    "\n",
    "# subtracting from the seds each sample mean\n",
    "seds_msub = cube - np.nanmean(nancube,axis=1)[:,np.newaxis]\n",
    "\n",
    "t0 = time()\n",
    "pca = PCA(n_components=40).fit(seds_msub)\n",
    "print(\"done in %0.3fs\" % (time() - t0))\n",
    "\n",
    "eigenseds=np.array(pca.components_)\n",
    "\n",
    "fitdata=[]\n",
    "\n",
    "for i in range(len(cube)):\n",
    "    modeldata=[]\n",
    "    coeffs=pca.transform(seds_msub[i].reshape(1,-1))\n",
    "    for k in range(18):\n",
    "        modeldata.append(coeffs[0][k])\n",
    "    fitdata.append(modeldata)\n",
    "    \n",
    "def load_pcwpar(weight):\n",
    "    p=[]\n",
    "    w=[]\n",
    "    for i in range(len(cube)):\n",
    "        pars=[]\n",
    "        for j in range(len(param_names)):\n",
    "            pars.append(dictionary[i][param_names[j]])\n",
    "        p.append(pars)\n",
    "        w.append(fitdata[i][weight])\n",
    "    \n",
    "    return p,w"
   ]
  },
  {
   "cell_type": "code",
   "execution_count": 3,
   "metadata": {},
   "outputs": [],
   "source": [
    "X, y = load_pcwpar(0)\n",
    "yerr=[x*0.01 for x in y]"
   ]
  },
  {
   "cell_type": "code",
   "execution_count": 6,
   "metadata": {},
   "outputs": [],
   "source": [
    "kernel = np.var(y) * kernels.ExpSquaredKernel(900**2,ndim=15,axes=0)*\\\n",
    "        kernels.ExpSquaredKernel(1**2,ndim=15,axes=1)*\\\n",
    "        kernels.ExpSquaredKernel(1**2,ndim=15,axes=2)*\\\n",
    "        kernels.ExpSquaredKernel(0.8**2,ndim=15,axes=3)*\\\n",
    "        kernels.ExpSquaredKernel(0.08**2,ndim=15,axes=4)*\\\n",
    "        kernels.ExpSquaredKernel(0.5**2,ndim=15,axes=5)*\\\n",
    "        kernels.ExpSquaredKernel(1**2,ndim=15,axes=6)*\\\n",
    "        kernels.ExpSquaredKernel(0.2**2,ndim=15,axes=7)*\\\n",
    "        kernels.ExpSquaredKernel(0.5**2,ndim=15,axes=8)*\\\n",
    "        kernels.ExpSquaredKernel(0.2**2,ndim=15,axes=9)*\\\n",
    "        kernels.ExpSquaredKernel(0.25**2,ndim=15,axes=10)*\\\n",
    "        kernels.ExpSquaredKernel(0.25**2,ndim=15,axes=11)*\\\n",
    "        kernels.ExpSquaredKernel(0.5**2,ndim=15,axes=12)*\\\n",
    "        kernels.ExpSquaredKernel(0.4**2,ndim=15,axes=13)*\\\n",
    "        kernels.ExpSquaredKernel(5**2,ndim=15,axes=14) \n",
    "\n",
    "gp = george.GP(kernel)\n",
    "gp.compute(X,yerr)"
   ]
  },
  {
   "cell_type": "code",
   "execution_count": 7,
   "metadata": {},
   "outputs": [
    {
     "data": {
      "text/plain": [
       "array([ 6.33043204, 13.60478953,  0.        ,  0.        , -0.4462871 ,\n",
       "       -5.05145729, -1.38629436,  0.        , -3.21887582, -1.38629436,\n",
       "       -3.21887582, -2.77258872, -2.77258872, -1.38629436, -1.83258146,\n",
       "        3.21887582])"
      ]
     },
     "execution_count": 7,
     "metadata": {},
     "output_type": "execute_result"
    }
   ],
   "source": [
    "gp.get_parameter_vector()"
   ]
  },
  {
   "cell_type": "code",
   "execution_count": 18,
   "metadata": {
    "scrolled": true
   },
   "outputs": [
    {
     "data": {
      "text/plain": [
       "array([ 23.69386183, 900.        ,   1.        ,   1.        ,\n",
       "         0.8       ,   0.08      ,   0.5       ,   1.        ,\n",
       "         0.2       ,   0.5       ,   0.2       ,   0.25      ,\n",
       "         0.25      ,   0.5       ,   0.4       ,   5.        ])"
      ]
     },
     "execution_count": 18,
     "metadata": {},
     "output_type": "execute_result"
    }
   ],
   "source": [
    "np.set_printoptions(suppress=True)\n",
    "np.sqrt(np.exp(gp.get_parameter_vector()))\n",
    "# check lengthscales from hyperparameter values"
   ]
  },
  {
   "cell_type": "code",
   "execution_count": 20,
   "metadata": {},
   "outputs": [
    {
     "data": {
      "text/plain": [
       "[<matplotlib.lines.Line2D at 0x7ff11c792860>]"
      ]
     },
     "execution_count": 20,
     "metadata": {},
     "output_type": "execute_result"
    },
    {
     "data": {
      "image/png": "[encoded data removed]",
      "text/plain": [
       "<Figure size 432x288 with 1 Axes>"
      ]
     },
     "metadata": {
      "needs_background": "light"
     },
     "output_type": "display_data"
    }
   ],
   "source": [
    "pred, pred_var = gp.predict(y, sl, return_var=True)\n",
    "plt.fill_between(np.array(sl)[:,0], pred - np.sqrt(pred_var), pred + np.sqrt(pred_var),\n",
    "                color=\"b\", alpha=0.2)\n",
    "plt.plot(np.array(sl)[:,0], pred, \"r\", lw=1.5, alpha=0.5)"
   ]
  },
  {
   "cell_type": "code",
   "execution_count": 21,
   "metadata": {},
   "outputs": [
    {
     "name": "stdout",
     "output_type": "stream",
     "text": [
      "Initial ln-likelihood: -22854.75\n"
     ]
    }
   ],
   "source": [
    "print(\"Initial ln-likelihood: {0:.2f}\".format(gp.log_likelihood(y)))"
   ]
  },
  {
   "cell_type": "code",
   "execution_count": null,
   "metadata": {},
   "outputs": [],
   "source": [
    "def neg_ln_like(p):\n",
    "    gp.set_parameter_vector(p)\n",
    "    return -gp.log_likelihood(y)\n",
    "\n",
    "def grad_neg_ln_like(p):\n",
    "    gp.set_parameter_vector(p)\n",
    "    return -gp.grad_log_likelihood(y)\n",
    "\n",
    "t0=time()\n",
    "\n",
    "result = minimize(neg_ln_like, gp.get_parameter_vector(), jac=grad_neg_ln_like)\n",
    "print(result)\n",
    "\n",
    "gp.set_parameter_vector(result.x)\n",
    "print(\"\\nFinal ln-likelihood: {0:.2f}\".format(gp.log_likelihood(y)))\n",
    "\n",
    "print(\"done in %0.3fs\" % (time() - t0))"
   ]
  },
  {
   "cell_type": "code",
   "execution_count": null,
   "metadata": {},
   "outputs": [],
   "source": [
    "np.sqrt(np.exp(gp.get_parameter_vector())) # check lengthscales from hyperparameter values"
   ]
  },
  {
   "cell_type": "code",
   "execution_count": null,
   "metadata": {},
   "outputs": [],
   "source": [
    "pred, pred_var = gp.predict(y, sl, return_var=True)\n",
    "\n",
    "plt.fill_between(np.array(sl)[:,0], pred - np.sqrt(pred_var), pred + np.sqrt(pred_var),\n",
    "                color=\"b\", alpha=0.2)\n",
    "plt.plot(np.array(sl)[:,0], pred, \"r\", lw=1.5, alpha=0.5)"
   ]
  },
  {
   "cell_type": "code",
   "execution_count": null,
   "metadata": {},
   "outputs": [],
   "source": []
  },
  {
   "cell_type": "code",
   "execution_count": null,
   "metadata": {},
   "outputs": [],
   "source": [
    "X, y = load_pcwpar(1)\n",
    "yerr=[x*0.01 for x in y]"
   ]
  },
  {
   "cell_type": "code",
   "execution_count": null,
   "metadata": {},
   "outputs": [],
   "source": [
    "kernel = kernels.ExpSquaredKernel(900**2,ndim=15,axes=0)*\\\n",
    "        kernels.ExpSquaredKernel(1**2,ndim=15,axes=1)*\\\n",
    "        kernels.ExpSquaredKernel(1**2,ndim=15,axes=2)*\\\n",
    "        kernels.ExpSquaredKernel(0.8**2,ndim=15,axes=3)*\\\n",
    "        kernels.ExpSquaredKernel(0.08**2,ndim=15,axes=4)*\\\n",
    "        kernels.ExpSquaredKernel(0.5**2,ndim=15,axes=5)*\\\n",
    "        kernels.ExpSquaredKernel(1**2,ndim=15,axes=6)*\\\n",
    "        kernels.ExpSquaredKernel(0.2**2,ndim=15,axes=7)*\\\n",
    "        kernels.ExpSquaredKernel(0.5**2,ndim=15,axes=8)*\\\n",
    "        kernels.ExpSquaredKernel(0.2**2,ndim=15,axes=9)*\\\n",
    "        kernels.ExpSquaredKernel(0.25**2,ndim=15,axes=10)*\\\n",
    "        kernels.ExpSquaredKernel(0.25**2,ndim=15,axes=11)*\\\n",
    "        kernels.ExpSquaredKernel(0.5**2,ndim=15,axes=12)*\\\n",
    "        kernels.ExpSquaredKernel(0.4**2,ndim=15,axes=13)*\\\n",
    "        kernels.ExpSquaredKernel(5**2,ndim=15,axes=14) * np.var(y)\n",
    "\n",
    "gp = george.GP(kernel)\n",
    "gp.compute(X,yerr)"
   ]
  },
  {
   "cell_type": "code",
   "execution_count": null,
   "metadata": {},
   "outputs": [],
   "source": [
    "sl=[]\n",
    "for i in range(11):\n",
    "    x=[steps[0][5],steps[1][i]]\n",
    "    for j in range(len(ranges)-2):\n",
    "        x.append(steps[j+2][5])\n",
    "    sl.append(x)\n",
    "\n",
    "pred, pred_var = gp.predict(y, sl, return_var=True)\n",
    "plt.fill_between(np.array(sl)[:,1], pred - np.sqrt(pred_var), pred + np.sqrt(pred_var),\n",
    "                color=\"b\", alpha=0.2)\n",
    "plt.plot(np.array(sl)[:,1], pred, \"r\", lw=1.5, alpha=0.5)"
   ]
  },
  {
   "cell_type": "code",
   "execution_count": null,
   "metadata": {},
   "outputs": [],
   "source": [
    "print(\"Initial ln-likelihood: {0:.2f}\".format(gp.log_likelihood(y)))"
   ]
  },
  {
   "cell_type": "code",
   "execution_count": null,
   "metadata": {},
   "outputs": [],
   "source": [
    "def neg_ln_like(p):\n",
    "    gp.set_parameter_vector(p)\n",
    "    return -gp.log_likelihood(y)\n",
    "\n",
    "def grad_neg_ln_like(p):\n",
    "    gp.set_parameter_vector(p)\n",
    "    return -gp.grad_log_likelihood(y)\n",
    "\n",
    "t0=time()\n",
    "\n",
    "result = minimize(neg_ln_like, gp.get_parameter_vector(), jac=grad_neg_ln_like)\n",
    "print(result)\n",
    "\n",
    "gp.set_parameter_vector(result.x)\n",
    "print(\"\\nFinal ln-likelihood: {0:.2f}\".format(gp.log_likelihood(y)))\n",
    "\n",
    "print(\"done in %0.3fs\" % (time() - t0))"
   ]
  },
  {
   "cell_type": "code",
   "execution_count": null,
   "metadata": {},
   "outputs": [],
   "source": [
    "sl=[]\n",
    "for i in range(11):\n",
    "    x=[steps[0][5],steps[1][i]]\n",
    "    for j in range(len(ranges)-2):\n",
    "        x.append(steps[j+2][5])\n",
    "    sl.append(x)\n",
    "\n",
    "pred, pred_var = gp.predict(y, sl, return_var=True)\n",
    "plt.fill_between(np.array(sl)[:,1], pred - np.sqrt(pred_var), pred + np.sqrt(pred_var),\n",
    "                color=\"b\", alpha=0.2)\n",
    "plt.plot(np.array(sl)[:,1], pred, \"r\", lw=1.5, alpha=0.5)"
   ]
  },
  {
   "cell_type": "code",
   "execution_count": null,
   "metadata": {},
   "outputs": [],
   "source": []
  }
 ],
 "metadata": {
  "kernelspec": {
   "display_name": "Python 3",
   "language": "python",
   "name": "python3"
  },
  "language_info": {
   "codemirror_mode": {
    "name": "ipython",
    "version": 3
   },
   "file_extension": ".py",
   "mimetype": "text/x-python",
   "name": "python",
   "nbconvert_exporter": "python",
   "pygments_lexer": "ipython3",
   "version": "3.7.3"
  }
 },
 "nbformat": 4,
 "nbformat_minor": 2
}
